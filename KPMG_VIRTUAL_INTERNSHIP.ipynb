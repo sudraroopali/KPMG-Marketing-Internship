{
 "cells": [
  {
   "cell_type": "markdown",
   "id": "43c617b7",
   "metadata": {},
   "source": [
    "# SPROCKET CENTRAL PVT LTD."
   ]
  },
  {
   "cell_type": "code",
   "execution_count": 7,
   "id": "3fd35ffc",
   "metadata": {},
   "outputs": [],
   "source": [
    "import numpy as np\n",
    "import pandas as pd\n",
    "import seaborn as sns\n",
    "import matplotlib.pyplot as plt\n",
    "\n",
    "import warnings\n",
    "warnings.filterwarnings('ignore')"
   ]
  },
  {
   "cell_type": "code",
   "execution_count": 8,
   "id": "006cf306",
   "metadata": {},
   "outputs": [
    {
     "data": {
      "text/plain": [
       "dict_keys(['Title Sheet', 'Transactions', 'NewCustomerList', 'CustomerDemographic', 'CustomerAddress'])"
      ]
     },
     "execution_count": 8,
     "metadata": {},
     "output_type": "execute_result"
    }
   ],
   "source": [
    "#getting list of sheet names\n",
    "df_dict = pd.read_excel(\"KPMG_VI_New_raw_data_update_final.xlsx\", sheet_name=None, header = 0)\n",
    "df_dict.keys()"
   ]
  },
  {
   "cell_type": "code",
   "execution_count": 9,
   "id": "c78b128f",
   "metadata": {},
   "outputs": [],
   "source": [
    "#creating separate dataframes for each sheet for easy analysis\n",
    "\n",
    "transactions = df_dict.get('Transactions')\n",
    "newcust = df_dict.get('NewCustomerList')\n",
    "custdemo = df_dict.get('CustomerDemographic')\n",
    "address = df_dict.get('CustomerAddress')"
   ]
  },
  {
   "cell_type": "markdown",
   "id": "671fb469",
   "metadata": {},
   "source": [
    "## Data Quality Assessment"
   ]
  },
  {
   "cell_type": "markdown",
   "id": "1b1075ce",
   "metadata": {},
   "source": [
    "### SHEET 1 - Transactions"
   ]
  },
  {
   "cell_type": "code",
   "execution_count": 10,
   "id": "6da0e791",
   "metadata": {},
   "outputs": [
    {
     "data": {
      "text/html": [
       "<div>\n",
       "<style scoped>\n",
       "    .dataframe tbody tr th:only-of-type {\n",
       "        vertical-align: middle;\n",
       "    }\n",
       "\n",
       "    .dataframe tbody tr th {\n",
       "        vertical-align: top;\n",
       "    }\n",
       "\n",
       "    .dataframe thead th {\n",
       "        text-align: right;\n",
       "    }\n",
       "</style>\n",
       "<table border=\"1\" class=\"dataframe\">\n",
       "  <thead>\n",
       "    <tr style=\"text-align: right;\">\n",
       "      <th></th>\n",
       "      <th>transaction_id</th>\n",
       "      <th>product_id</th>\n",
       "      <th>customer_id</th>\n",
       "      <th>transaction_date</th>\n",
       "      <th>online_order</th>\n",
       "      <th>order_status</th>\n",
       "      <th>brand</th>\n",
       "      <th>product_line</th>\n",
       "      <th>product_class</th>\n",
       "      <th>product_size</th>\n",
       "      <th>list_price</th>\n",
       "      <th>standard_cost</th>\n",
       "      <th>product_first_sold_date</th>\n",
       "    </tr>\n",
       "  </thead>\n",
       "  <tbody>\n",
       "    <tr>\n",
       "      <th>0</th>\n",
       "      <td>1</td>\n",
       "      <td>2</td>\n",
       "      <td>2950</td>\n",
       "      <td>2017-02-25</td>\n",
       "      <td>0.0</td>\n",
       "      <td>Approved</td>\n",
       "      <td>Solex</td>\n",
       "      <td>Standard</td>\n",
       "      <td>medium</td>\n",
       "      <td>medium</td>\n",
       "      <td>71.49</td>\n",
       "      <td>53.62</td>\n",
       "      <td>41245.0</td>\n",
       "    </tr>\n",
       "    <tr>\n",
       "      <th>1</th>\n",
       "      <td>2</td>\n",
       "      <td>3</td>\n",
       "      <td>3120</td>\n",
       "      <td>2017-05-21</td>\n",
       "      <td>1.0</td>\n",
       "      <td>Approved</td>\n",
       "      <td>Trek Bicycles</td>\n",
       "      <td>Standard</td>\n",
       "      <td>medium</td>\n",
       "      <td>large</td>\n",
       "      <td>2091.47</td>\n",
       "      <td>388.92</td>\n",
       "      <td>41701.0</td>\n",
       "    </tr>\n",
       "    <tr>\n",
       "      <th>2</th>\n",
       "      <td>3</td>\n",
       "      <td>37</td>\n",
       "      <td>402</td>\n",
       "      <td>2017-10-16</td>\n",
       "      <td>0.0</td>\n",
       "      <td>Approved</td>\n",
       "      <td>OHM Cycles</td>\n",
       "      <td>Standard</td>\n",
       "      <td>low</td>\n",
       "      <td>medium</td>\n",
       "      <td>1793.43</td>\n",
       "      <td>248.82</td>\n",
       "      <td>36361.0</td>\n",
       "    </tr>\n",
       "    <tr>\n",
       "      <th>3</th>\n",
       "      <td>4</td>\n",
       "      <td>88</td>\n",
       "      <td>3135</td>\n",
       "      <td>2017-08-31</td>\n",
       "      <td>0.0</td>\n",
       "      <td>Approved</td>\n",
       "      <td>Norco Bicycles</td>\n",
       "      <td>Standard</td>\n",
       "      <td>medium</td>\n",
       "      <td>medium</td>\n",
       "      <td>1198.46</td>\n",
       "      <td>381.10</td>\n",
       "      <td>36145.0</td>\n",
       "    </tr>\n",
       "    <tr>\n",
       "      <th>4</th>\n",
       "      <td>5</td>\n",
       "      <td>78</td>\n",
       "      <td>787</td>\n",
       "      <td>2017-10-01</td>\n",
       "      <td>1.0</td>\n",
       "      <td>Approved</td>\n",
       "      <td>Giant Bicycles</td>\n",
       "      <td>Standard</td>\n",
       "      <td>medium</td>\n",
       "      <td>large</td>\n",
       "      <td>1765.30</td>\n",
       "      <td>709.48</td>\n",
       "      <td>42226.0</td>\n",
       "    </tr>\n",
       "  </tbody>\n",
       "</table>\n",
       "</div>"
      ],
      "text/plain": [
       "   transaction_id  product_id  customer_id transaction_date  online_order  \\\n",
       "0               1           2         2950       2017-02-25           0.0   \n",
       "1               2           3         3120       2017-05-21           1.0   \n",
       "2               3          37          402       2017-10-16           0.0   \n",
       "3               4          88         3135       2017-08-31           0.0   \n",
       "4               5          78          787       2017-10-01           1.0   \n",
       "\n",
       "  order_status           brand product_line product_class product_size  \\\n",
       "0     Approved           Solex     Standard        medium       medium   \n",
       "1     Approved   Trek Bicycles     Standard        medium        large   \n",
       "2     Approved      OHM Cycles     Standard           low       medium   \n",
       "3     Approved  Norco Bicycles     Standard        medium       medium   \n",
       "4     Approved  Giant Bicycles     Standard        medium        large   \n",
       "\n",
       "   list_price  standard_cost  product_first_sold_date  \n",
       "0       71.49          53.62                  41245.0  \n",
       "1     2091.47         388.92                  41701.0  \n",
       "2     1793.43         248.82                  36361.0  \n",
       "3     1198.46         381.10                  36145.0  \n",
       "4     1765.30         709.48                  42226.0  "
      ]
     },
     "execution_count": 10,
     "metadata": {},
     "output_type": "execute_result"
    }
   ],
   "source": [
    "transactions.head()"
   ]
  },
  {
   "cell_type": "code",
   "execution_count": 11,
   "id": "b6b6306c",
   "metadata": {},
   "outputs": [
    {
     "data": {
      "text/plain": [
       "(20000, 13)"
      ]
     },
     "execution_count": 11,
     "metadata": {},
     "output_type": "execute_result"
    }
   ],
   "source": [
    "transactions.shape"
   ]
  },
  {
   "cell_type": "code",
   "execution_count": 12,
   "id": "740acb03",
   "metadata": {},
   "outputs": [
    {
     "name": "stdout",
     "output_type": "stream",
     "text": [
      "<class 'pandas.core.frame.DataFrame'>\n",
      "RangeIndex: 20000 entries, 0 to 19999\n",
      "Data columns (total 13 columns):\n",
      " #   Column                   Non-Null Count  Dtype         \n",
      "---  ------                   --------------  -----         \n",
      " 0   transaction_id           20000 non-null  int64         \n",
      " 1   product_id               20000 non-null  int64         \n",
      " 2   customer_id              20000 non-null  int64         \n",
      " 3   transaction_date         20000 non-null  datetime64[ns]\n",
      " 4   online_order             19640 non-null  float64       \n",
      " 5   order_status             20000 non-null  object        \n",
      " 6   brand                    19803 non-null  object        \n",
      " 7   product_line             19803 non-null  object        \n",
      " 8   product_class            19803 non-null  object        \n",
      " 9   product_size             19803 non-null  object        \n",
      " 10  list_price               20000 non-null  float64       \n",
      " 11  standard_cost            19803 non-null  float64       \n",
      " 12  product_first_sold_date  19803 non-null  float64       \n",
      "dtypes: datetime64[ns](1), float64(4), int64(3), object(5)\n",
      "memory usage: 2.0+ MB\n"
     ]
    }
   ],
   "source": [
    "transactions.info()"
   ]
  },
  {
   "cell_type": "markdown",
   "id": "970ab46f",
   "metadata": {},
   "source": [
    "### Observations"
   ]
  },
  {
   "cell_type": "markdown",
   "id": "9ab3a040",
   "metadata": {},
   "source": [
    "NULL VALUES: We can see there are some null values in columns `online_order`, `brand`, `product_line`, `product_class`, `product_size`, `standard_cost`, `product_first_sold_date`.\n",
    "\n",
    "CONSISTENCY: `product_first_sold_date` looks like it is a number of days since a certain time. We need to change the datatype from float64 to date format.\n",
    "\n",
    "DATA TYPE : `online_order` is actually a categorical column. So we change it from float64 to category and also change the values to more meaningful labels where '0' and '1' represent respective their categories."
   ]
  },
  {
   "cell_type": "markdown",
   "id": "966acd8f",
   "metadata": {},
   "source": [
    "#### DISTINCT CUSTOMER IDs"
   ]
  },
  {
   "cell_type": "code",
   "execution_count": 13,
   "id": "88dbdbd5",
   "metadata": {},
   "outputs": [
    {
     "data": {
      "text/plain": [
       "3494"
      ]
     },
     "execution_count": 13,
     "metadata": {},
     "output_type": "execute_result"
    }
   ],
   "source": [
    "transactions.customer_id.nunique()"
   ]
  },
  {
   "cell_type": "markdown",
   "id": "206fda31",
   "metadata": {},
   "source": [
    "#### MISSING VALUES"
   ]
  },
  {
   "cell_type": "code",
   "execution_count": 14,
   "id": "788dd6a3",
   "metadata": {},
   "outputs": [
    {
     "data": {
      "text/plain": [
       "transaction_id               0\n",
       "product_id                   0\n",
       "customer_id                  0\n",
       "transaction_date             0\n",
       "online_order               360\n",
       "order_status                 0\n",
       "brand                      197\n",
       "product_line               197\n",
       "product_class              197\n",
       "product_size               197\n",
       "list_price                   0\n",
       "standard_cost              197\n",
       "product_first_sold_date    197\n",
       "dtype: int64"
      ]
     },
     "execution_count": 14,
     "metadata": {},
     "output_type": "execute_result"
    }
   ],
   "source": [
    "transactions.isnull().sum()"
   ]
  },
  {
   "cell_type": "code",
   "execution_count": 15,
   "id": "fadc443e",
   "metadata": {},
   "outputs": [
    {
     "data": {
      "text/plain": [
       "transaction_id             0.000\n",
       "product_id                 0.000\n",
       "customer_id                0.000\n",
       "transaction_date           0.000\n",
       "online_order               1.800\n",
       "order_status               0.000\n",
       "brand                      0.985\n",
       "product_line               0.985\n",
       "product_class              0.985\n",
       "product_size               0.985\n",
       "list_price                 0.000\n",
       "standard_cost              0.985\n",
       "product_first_sold_date    0.985\n",
       "dtype: float64"
      ]
     },
     "execution_count": 15,
     "metadata": {},
     "output_type": "execute_result"
    }
   ],
   "source": [
    "#percentage missing values in each column\n",
    "\n",
    "transactions.isnull().sum()/len(transactions) * 100"
   ]
  },
  {
   "cell_type": "markdown",
   "id": "e0c87cde",
   "metadata": {},
   "source": [
    "**Observation** - We can see there are less than 2% missing values in any any column, if any. We will remove them from the training dataset since it is not a key column and we have sufficient data to make analysis"
   ]
  },
  {
   "cell_type": "markdown",
   "id": "770c9045",
   "metadata": {},
   "source": [
    "#### DUPLICATES"
   ]
  },
  {
   "cell_type": "code",
   "execution_count": 16,
   "id": "21c18f16",
   "metadata": {},
   "outputs": [
    {
     "data": {
      "text/plain": [
       "0"
      ]
     },
     "execution_count": 16,
     "metadata": {},
     "output_type": "execute_result"
    }
   ],
   "source": [
    "# to find duplicates\n",
    "transactions.duplicated().sum()"
   ]
  },
  {
   "cell_type": "markdown",
   "id": "d7dc31ac",
   "metadata": {},
   "source": [
    "**Observation** - Data does not have any duplicates!"
   ]
  },
  {
   "cell_type": "markdown",
   "id": "9aa83b20",
   "metadata": {},
   "source": [
    "### Checking for consistency and validity"
   ]
  },
  {
   "cell_type": "code",
   "execution_count": 17,
   "id": "27869ff7",
   "metadata": {},
   "outputs": [
    {
     "data": {
      "text/plain": [
       "array([ 0.,  1., nan])"
      ]
     },
     "execution_count": 17,
     "metadata": {},
     "output_type": "execute_result"
    }
   ],
   "source": [
    "transactions['online_order'].unique()"
   ]
  },
  {
   "cell_type": "code",
   "execution_count": 18,
   "id": "12bbe127",
   "metadata": {},
   "outputs": [
    {
     "data": {
      "text/plain": [
       "array(['Approved', 'Cancelled'], dtype=object)"
      ]
     },
     "execution_count": 18,
     "metadata": {},
     "output_type": "execute_result"
    }
   ],
   "source": [
    "transactions['order_status'].unique()"
   ]
  },
  {
   "cell_type": "code",
   "execution_count": 19,
   "id": "ec25a4fc",
   "metadata": {},
   "outputs": [
    {
     "data": {
      "text/plain": [
       "array(['Solex', 'Trek Bicycles', 'OHM Cycles', 'Norco Bicycles',\n",
       "       'Giant Bicycles', 'WeareA2B', nan], dtype=object)"
      ]
     },
     "execution_count": 19,
     "metadata": {},
     "output_type": "execute_result"
    }
   ],
   "source": [
    "transactions['brand'].unique()"
   ]
  },
  {
   "cell_type": "code",
   "execution_count": 20,
   "id": "5f9ca2d3",
   "metadata": {},
   "outputs": [
    {
     "data": {
      "text/plain": [
       "array(['Standard', 'Road', 'Mountain', 'Touring', nan], dtype=object)"
      ]
     },
     "execution_count": 20,
     "metadata": {},
     "output_type": "execute_result"
    }
   ],
   "source": [
    "transactions['product_line'].unique()"
   ]
  },
  {
   "cell_type": "code",
   "execution_count": 21,
   "id": "d75e9e18",
   "metadata": {},
   "outputs": [
    {
     "data": {
      "text/plain": [
       "array(['medium', 'low', 'high', nan], dtype=object)"
      ]
     },
     "execution_count": 21,
     "metadata": {},
     "output_type": "execute_result"
    }
   ],
   "source": [
    "transactions['product_class'].unique()"
   ]
  },
  {
   "cell_type": "code",
   "execution_count": 22,
   "id": "eb01289b",
   "metadata": {},
   "outputs": [
    {
     "data": {
      "text/plain": [
       "array(['medium', 'large', 'small', nan], dtype=object)"
      ]
     },
     "execution_count": 22,
     "metadata": {},
     "output_type": "execute_result"
    }
   ],
   "source": [
    "transactions['product_size'].unique()"
   ]
  },
  {
   "cell_type": "markdown",
   "id": "758146dd",
   "metadata": {},
   "source": [
    "**Observation** - Our data is consistent and does not have any invalid values besides null records.\n",
    "\n"
   ]
  },
  {
   "cell_type": "markdown",
   "id": "95ed60e8",
   "metadata": {},
   "source": [
    "## DATA CLEANING "
   ]
  },
  {
   "cell_type": "markdown",
   "id": "5fe0fc84",
   "metadata": {},
   "source": [
    "### Data Type"
   ]
  },
  {
   "cell_type": "code",
   "execution_count": 23,
   "id": "e23c36d3",
   "metadata": {},
   "outputs": [],
   "source": [
    "reference_date = pd.to_datetime('1899-12-30')\n",
    "\n",
    "# Convert 'product_first_sold_date' column to datetime\n",
    "\n",
    "transactions['product_first_sold_date'] = reference_date + pd.to_timedelta(transactions['product_first_sold_date'], unit='D')"
   ]
  },
  {
   "cell_type": "code",
   "execution_count": 24,
   "id": "b4029f6c",
   "metadata": {},
   "outputs": [],
   "source": [
    "transactions['order_status'] = transactions['order_status'].astype(\"category\")\n",
    "transactions['brand'] = transactions['brand'].astype(\"category\")\n",
    "transactions['product_line'] = transactions['product_line'].astype(\"category\")\n",
    "transactions['product_class'] = transactions['product_class'].astype(\"category\")\n",
    "transactions['product_size'] = transactions['product_size'].astype(\"category\")"
   ]
  },
  {
   "cell_type": "code",
   "execution_count": 25,
   "id": "90fee4c7",
   "metadata": {},
   "outputs": [
    {
     "name": "stdout",
     "output_type": "stream",
     "text": [
      "<class 'pandas.core.frame.DataFrame'>\n",
      "RangeIndex: 20000 entries, 0 to 19999\n",
      "Data columns (total 13 columns):\n",
      " #   Column                   Non-Null Count  Dtype         \n",
      "---  ------                   --------------  -----         \n",
      " 0   transaction_id           20000 non-null  int64         \n",
      " 1   product_id               20000 non-null  int64         \n",
      " 2   customer_id              20000 non-null  int64         \n",
      " 3   transaction_date         20000 non-null  datetime64[ns]\n",
      " 4   online_order             19640 non-null  float64       \n",
      " 5   order_status             20000 non-null  category      \n",
      " 6   brand                    19803 non-null  category      \n",
      " 7   product_line             19803 non-null  category      \n",
      " 8   product_class            19803 non-null  category      \n",
      " 9   product_size             19803 non-null  category      \n",
      " 10  list_price               20000 non-null  float64       \n",
      " 11  standard_cost            19803 non-null  float64       \n",
      " 12  product_first_sold_date  19803 non-null  datetime64[ns]\n",
      "dtypes: category(5), datetime64[ns](2), float64(3), int64(3)\n",
      "memory usage: 1.3 MB\n"
     ]
    }
   ],
   "source": [
    "transactions.info()"
   ]
  },
  {
   "cell_type": "markdown",
   "id": "8d598180",
   "metadata": {},
   "source": [
    "#### MISSING VALUES "
   ]
  },
  {
   "cell_type": "code",
   "execution_count": 26,
   "id": "76c5087f",
   "metadata": {},
   "outputs": [],
   "source": [
    "transactions.dropna(inplace=True)"
   ]
  },
  {
   "cell_type": "code",
   "execution_count": 27,
   "id": "8be73269",
   "metadata": {},
   "outputs": [
    {
     "data": {
      "text/plain": [
       "transaction_id             0.0\n",
       "product_id                 0.0\n",
       "customer_id                0.0\n",
       "transaction_date           0.0\n",
       "online_order               0.0\n",
       "order_status               0.0\n",
       "brand                      0.0\n",
       "product_line               0.0\n",
       "product_class              0.0\n",
       "product_size               0.0\n",
       "list_price                 0.0\n",
       "standard_cost              0.0\n",
       "product_first_sold_date    0.0\n",
       "dtype: float64"
      ]
     },
     "execution_count": 27,
     "metadata": {},
     "output_type": "execute_result"
    }
   ],
   "source": [
    "#percentage missing values in each column\n",
    "transactions.isnull().sum()/len(transactions) *100"
   ]
  },
  {
   "cell_type": "markdown",
   "id": "ffea446f",
   "metadata": {},
   "source": [
    "**Observations** = No more missing values "
   ]
  },
  {
   "cell_type": "code",
   "execution_count": 28,
   "id": "d153ef7c",
   "metadata": {},
   "outputs": [],
   "source": [
    "transactions['online_order'].replace({0.0 : 'False', 1.0 : 'True'}, inplace = True)"
   ]
  },
  {
   "cell_type": "code",
   "execution_count": 29,
   "id": "02af2104",
   "metadata": {},
   "outputs": [
    {
     "data": {
      "text/html": [
       "<div>\n",
       "<style scoped>\n",
       "    .dataframe tbody tr th:only-of-type {\n",
       "        vertical-align: middle;\n",
       "    }\n",
       "\n",
       "    .dataframe tbody tr th {\n",
       "        vertical-align: top;\n",
       "    }\n",
       "\n",
       "    .dataframe thead th {\n",
       "        text-align: right;\n",
       "    }\n",
       "</style>\n",
       "<table border=\"1\" class=\"dataframe\">\n",
       "  <thead>\n",
       "    <tr style=\"text-align: right;\">\n",
       "      <th></th>\n",
       "      <th>transaction_id</th>\n",
       "      <th>product_id</th>\n",
       "      <th>customer_id</th>\n",
       "      <th>transaction_date</th>\n",
       "      <th>online_order</th>\n",
       "      <th>order_status</th>\n",
       "      <th>brand</th>\n",
       "      <th>product_line</th>\n",
       "      <th>product_class</th>\n",
       "      <th>product_size</th>\n",
       "      <th>list_price</th>\n",
       "      <th>standard_cost</th>\n",
       "      <th>product_first_sold_date</th>\n",
       "    </tr>\n",
       "  </thead>\n",
       "  <tbody>\n",
       "    <tr>\n",
       "      <th>0</th>\n",
       "      <td>1</td>\n",
       "      <td>2</td>\n",
       "      <td>2950</td>\n",
       "      <td>2017-02-25</td>\n",
       "      <td>False</td>\n",
       "      <td>Approved</td>\n",
       "      <td>Solex</td>\n",
       "      <td>Standard</td>\n",
       "      <td>medium</td>\n",
       "      <td>medium</td>\n",
       "      <td>71.49</td>\n",
       "      <td>53.62</td>\n",
       "      <td>2012-12-02</td>\n",
       "    </tr>\n",
       "    <tr>\n",
       "      <th>1</th>\n",
       "      <td>2</td>\n",
       "      <td>3</td>\n",
       "      <td>3120</td>\n",
       "      <td>2017-05-21</td>\n",
       "      <td>True</td>\n",
       "      <td>Approved</td>\n",
       "      <td>Trek Bicycles</td>\n",
       "      <td>Standard</td>\n",
       "      <td>medium</td>\n",
       "      <td>large</td>\n",
       "      <td>2091.47</td>\n",
       "      <td>388.92</td>\n",
       "      <td>2014-03-03</td>\n",
       "    </tr>\n",
       "    <tr>\n",
       "      <th>2</th>\n",
       "      <td>3</td>\n",
       "      <td>37</td>\n",
       "      <td>402</td>\n",
       "      <td>2017-10-16</td>\n",
       "      <td>False</td>\n",
       "      <td>Approved</td>\n",
       "      <td>OHM Cycles</td>\n",
       "      <td>Standard</td>\n",
       "      <td>low</td>\n",
       "      <td>medium</td>\n",
       "      <td>1793.43</td>\n",
       "      <td>248.82</td>\n",
       "      <td>1999-07-20</td>\n",
       "    </tr>\n",
       "    <tr>\n",
       "      <th>3</th>\n",
       "      <td>4</td>\n",
       "      <td>88</td>\n",
       "      <td>3135</td>\n",
       "      <td>2017-08-31</td>\n",
       "      <td>False</td>\n",
       "      <td>Approved</td>\n",
       "      <td>Norco Bicycles</td>\n",
       "      <td>Standard</td>\n",
       "      <td>medium</td>\n",
       "      <td>medium</td>\n",
       "      <td>1198.46</td>\n",
       "      <td>381.10</td>\n",
       "      <td>1998-12-16</td>\n",
       "    </tr>\n",
       "    <tr>\n",
       "      <th>4</th>\n",
       "      <td>5</td>\n",
       "      <td>78</td>\n",
       "      <td>787</td>\n",
       "      <td>2017-10-01</td>\n",
       "      <td>True</td>\n",
       "      <td>Approved</td>\n",
       "      <td>Giant Bicycles</td>\n",
       "      <td>Standard</td>\n",
       "      <td>medium</td>\n",
       "      <td>large</td>\n",
       "      <td>1765.30</td>\n",
       "      <td>709.48</td>\n",
       "      <td>2015-08-10</td>\n",
       "    </tr>\n",
       "  </tbody>\n",
       "</table>\n",
       "</div>"
      ],
      "text/plain": [
       "   transaction_id  product_id  customer_id transaction_date online_order  \\\n",
       "0               1           2         2950       2017-02-25        False   \n",
       "1               2           3         3120       2017-05-21         True   \n",
       "2               3          37          402       2017-10-16        False   \n",
       "3               4          88         3135       2017-08-31        False   \n",
       "4               5          78          787       2017-10-01         True   \n",
       "\n",
       "  order_status           brand product_line product_class product_size  \\\n",
       "0     Approved           Solex     Standard        medium       medium   \n",
       "1     Approved   Trek Bicycles     Standard        medium        large   \n",
       "2     Approved      OHM Cycles     Standard           low       medium   \n",
       "3     Approved  Norco Bicycles     Standard        medium       medium   \n",
       "4     Approved  Giant Bicycles     Standard        medium        large   \n",
       "\n",
       "   list_price  standard_cost product_first_sold_date  \n",
       "0       71.49          53.62              2012-12-02  \n",
       "1     2091.47         388.92              2014-03-03  \n",
       "2     1793.43         248.82              1999-07-20  \n",
       "3     1198.46         381.10              1998-12-16  \n",
       "4     1765.30         709.48              2015-08-10  "
      ]
     },
     "execution_count": 29,
     "metadata": {},
     "output_type": "execute_result"
    }
   ],
   "source": [
    "transactions.head()"
   ]
  },
  {
   "cell_type": "code",
   "execution_count": 30,
   "id": "49db8998",
   "metadata": {},
   "outputs": [
    {
     "data": {
      "text/html": [
       "<div>\n",
       "<style scoped>\n",
       "    .dataframe tbody tr th:only-of-type {\n",
       "        vertical-align: middle;\n",
       "    }\n",
       "\n",
       "    .dataframe tbody tr th {\n",
       "        vertical-align: top;\n",
       "    }\n",
       "\n",
       "    .dataframe thead th {\n",
       "        text-align: right;\n",
       "    }\n",
       "</style>\n",
       "<table border=\"1\" class=\"dataframe\">\n",
       "  <thead>\n",
       "    <tr style=\"text-align: right;\">\n",
       "      <th></th>\n",
       "      <th>order_status</th>\n",
       "      <th>brand</th>\n",
       "      <th>product_line</th>\n",
       "      <th>product_class</th>\n",
       "      <th>product_size</th>\n",
       "    </tr>\n",
       "  </thead>\n",
       "  <tbody>\n",
       "    <tr>\n",
       "      <th>count</th>\n",
       "      <td>19445</td>\n",
       "      <td>19445</td>\n",
       "      <td>19445</td>\n",
       "      <td>19445</td>\n",
       "      <td>19445</td>\n",
       "    </tr>\n",
       "    <tr>\n",
       "      <th>unique</th>\n",
       "      <td>2</td>\n",
       "      <td>6</td>\n",
       "      <td>4</td>\n",
       "      <td>3</td>\n",
       "      <td>3</td>\n",
       "    </tr>\n",
       "    <tr>\n",
       "      <th>top</th>\n",
       "      <td>Approved</td>\n",
       "      <td>Solex</td>\n",
       "      <td>Standard</td>\n",
       "      <td>medium</td>\n",
       "      <td>medium</td>\n",
       "    </tr>\n",
       "    <tr>\n",
       "      <th>freq</th>\n",
       "      <td>19273</td>\n",
       "      <td>4169</td>\n",
       "      <td>13920</td>\n",
       "      <td>13587</td>\n",
       "      <td>12767</td>\n",
       "    </tr>\n",
       "  </tbody>\n",
       "</table>\n",
       "</div>"
      ],
      "text/plain": [
       "       order_status  brand product_line product_class product_size\n",
       "count         19445  19445        19445         19445        19445\n",
       "unique            2      6            4             3            3\n",
       "top        Approved  Solex     Standard        medium       medium\n",
       "freq          19273   4169        13920         13587        12767"
      ]
     },
     "execution_count": 30,
     "metadata": {},
     "output_type": "execute_result"
    }
   ],
   "source": [
    "transactions.describe(include=['category'])"
   ]
  },
  {
   "cell_type": "markdown",
   "id": "7fa667d6",
   "metadata": {},
   "source": [
    "### SHEET 2 - Customer Demographic"
   ]
  },
  {
   "cell_type": "code",
   "execution_count": 31,
   "id": "0e7365c8",
   "metadata": {},
   "outputs": [
    {
     "data": {
      "text/html": [
       "<div>\n",
       "<style scoped>\n",
       "    .dataframe tbody tr th:only-of-type {\n",
       "        vertical-align: middle;\n",
       "    }\n",
       "\n",
       "    .dataframe tbody tr th {\n",
       "        vertical-align: top;\n",
       "    }\n",
       "\n",
       "    .dataframe thead th {\n",
       "        text-align: right;\n",
       "    }\n",
       "</style>\n",
       "<table border=\"1\" class=\"dataframe\">\n",
       "  <thead>\n",
       "    <tr style=\"text-align: right;\">\n",
       "      <th></th>\n",
       "      <th>customer_id</th>\n",
       "      <th>first_name</th>\n",
       "      <th>last_name</th>\n",
       "      <th>gender</th>\n",
       "      <th>past_3_years_bike_related_purchases</th>\n",
       "      <th>DOB</th>\n",
       "      <th>job_title</th>\n",
       "      <th>job_industry_category</th>\n",
       "      <th>wealth_segment</th>\n",
       "      <th>deceased_indicator</th>\n",
       "      <th>default</th>\n",
       "      <th>owns_car</th>\n",
       "      <th>tenure</th>\n",
       "      <th>Unnamed: 13</th>\n",
       "    </tr>\n",
       "  </thead>\n",
       "  <tbody>\n",
       "    <tr>\n",
       "      <th>0</th>\n",
       "      <td>34</td>\n",
       "      <td>Jephthah</td>\n",
       "      <td>Bachmann</td>\n",
       "      <td>U</td>\n",
       "      <td>59</td>\n",
       "      <td>1843-12-21</td>\n",
       "      <td>Legal Assistant</td>\n",
       "      <td>IT</td>\n",
       "      <td>Affluent Customer</td>\n",
       "      <td>N</td>\n",
       "      <td>NaN</td>\n",
       "      <td>No</td>\n",
       "      <td>20.0</td>\n",
       "      <td>NaN</td>\n",
       "    </tr>\n",
       "    <tr>\n",
       "      <th>1</th>\n",
       "      <td>66</td>\n",
       "      <td>Anselm</td>\n",
       "      <td>Gawne</td>\n",
       "      <td>Male</td>\n",
       "      <td>46</td>\n",
       "      <td>2002-03-11 00:00:00</td>\n",
       "      <td>Account Executive</td>\n",
       "      <td>Argiculture</td>\n",
       "      <td>High Net Worth</td>\n",
       "      <td>N</td>\n",
       "      <td>ï½ï½¨(Â´âï½â©</td>\n",
       "      <td>No</td>\n",
       "      <td>1.0</td>\n",
       "      <td>NaN</td>\n",
       "    </tr>\n",
       "    <tr>\n",
       "      <th>2</th>\n",
       "      <td>1888</td>\n",
       "      <td>Sibyl</td>\n",
       "      <td>Scholtz</td>\n",
       "      <td>Female</td>\n",
       "      <td>67</td>\n",
       "      <td>2002-01-26 00:00:00</td>\n",
       "      <td>Food Chemist</td>\n",
       "      <td>Health</td>\n",
       "      <td>Mass Customer</td>\n",
       "      <td>N</td>\n",
       "      <td>NaN</td>\n",
       "      <td>Yes</td>\n",
       "      <td>1.0</td>\n",
       "      <td>NaN</td>\n",
       "    </tr>\n",
       "    <tr>\n",
       "      <th>3</th>\n",
       "      <td>3435</td>\n",
       "      <td>Stevena</td>\n",
       "      <td>Allcock</td>\n",
       "      <td>Female</td>\n",
       "      <td>80</td>\n",
       "      <td>2002-01-15 00:00:00</td>\n",
       "      <td>Senior Editor</td>\n",
       "      <td>NaN</td>\n",
       "      <td>Affluent Customer</td>\n",
       "      <td>N</td>\n",
       "      <td>ÅâÂ´â°ËÃÂ¨ËÃâââ</td>\n",
       "      <td>No</td>\n",
       "      <td>1.0</td>\n",
       "      <td>NaN</td>\n",
       "    </tr>\n",
       "    <tr>\n",
       "      <th>4</th>\n",
       "      <td>2858</td>\n",
       "      <td>Benedicto</td>\n",
       "      <td>Radki</td>\n",
       "      <td>Male</td>\n",
       "      <td>4</td>\n",
       "      <td>2002-01-09 00:00:00</td>\n",
       "      <td>Recruiting Manager</td>\n",
       "      <td>NaN</td>\n",
       "      <td>Mass Customer</td>\n",
       "      <td>N</td>\n",
       "      <td>testâ testâ«</td>\n",
       "      <td>Yes</td>\n",
       "      <td>1.0</td>\n",
       "      <td>NaN</td>\n",
       "    </tr>\n",
       "  </tbody>\n",
       "</table>\n",
       "</div>"
      ],
      "text/plain": [
       "   customer_id first_name last_name  gender  \\\n",
       "0           34   Jephthah  Bachmann       U   \n",
       "1           66     Anselm     Gawne    Male   \n",
       "2         1888      Sibyl   Scholtz  Female   \n",
       "3         3435    Stevena   Allcock  Female   \n",
       "4         2858  Benedicto     Radki    Male   \n",
       "\n",
       "   past_3_years_bike_related_purchases                  DOB  \\\n",
       "0                                   59           1843-12-21   \n",
       "1                                   46  2002-03-11 00:00:00   \n",
       "2                                   67  2002-01-26 00:00:00   \n",
       "3                                   80  2002-01-15 00:00:00   \n",
       "4                                    4  2002-01-09 00:00:00   \n",
       "\n",
       "            job_title job_industry_category     wealth_segment  \\\n",
       "0     Legal Assistant                    IT  Affluent Customer   \n",
       "1   Account Executive           Argiculture     High Net Worth   \n",
       "2        Food Chemist                Health      Mass Customer   \n",
       "3       Senior Editor                   NaN  Affluent Customer   \n",
       "4  Recruiting Manager                   NaN      Mass Customer   \n",
       "\n",
       "  deceased_indicator          default owns_car  tenure Unnamed: 13  \n",
       "0                  N              NaN       No    20.0         NaN  \n",
       "1                  N    ï½ï½¨(Â´âï½â©       No     1.0         NaN  \n",
       "2                  N              NaN      Yes     1.0         NaN  \n",
       "3                  N  ÅâÂ´â°ËÃÂ¨ËÃâââ       No     1.0         NaN  \n",
       "4                  N     testâ testâ«      Yes     1.0         NaN  "
      ]
     },
     "execution_count": 31,
     "metadata": {},
     "output_type": "execute_result"
    }
   ],
   "source": [
    "custdemo.head()"
   ]
  },
  {
   "cell_type": "code",
   "execution_count": 32,
   "id": "d778a9ef",
   "metadata": {},
   "outputs": [
    {
     "data": {
      "text/plain": [
       "(4000, 14)"
      ]
     },
     "execution_count": 32,
     "metadata": {},
     "output_type": "execute_result"
    }
   ],
   "source": [
    "custdemo.shape"
   ]
  },
  {
   "cell_type": "code",
   "execution_count": 33,
   "id": "9deabbbf",
   "metadata": {},
   "outputs": [
    {
     "name": "stdout",
     "output_type": "stream",
     "text": [
      "<class 'pandas.core.frame.DataFrame'>\n",
      "RangeIndex: 4000 entries, 0 to 3999\n",
      "Data columns (total 14 columns):\n",
      " #   Column                               Non-Null Count  Dtype  \n",
      "---  ------                               --------------  -----  \n",
      " 0   customer_id                          4000 non-null   int64  \n",
      " 1   first_name                           4000 non-null   object \n",
      " 2   last_name                            3875 non-null   object \n",
      " 3   gender                               4000 non-null   object \n",
      " 4   past_3_years_bike_related_purchases  4000 non-null   int64  \n",
      " 5   DOB                                  3913 non-null   object \n",
      " 6   job_title                            3494 non-null   object \n",
      " 7   job_industry_category                3344 non-null   object \n",
      " 8   wealth_segment                       4000 non-null   object \n",
      " 9   deceased_indicator                   4000 non-null   object \n",
      " 10  default                              3698 non-null   object \n",
      " 11  owns_car                             4000 non-null   object \n",
      " 12  tenure                               3913 non-null   float64\n",
      " 13  Unnamed: 13                          1 non-null      object \n",
      "dtypes: float64(1), int64(2), object(11)\n",
      "memory usage: 437.6+ KB\n"
     ]
    }
   ],
   "source": [
    "custdemo.info()"
   ]
  },
  {
   "cell_type": "markdown",
   "id": "2a643494",
   "metadata": {},
   "source": [
    "### Observations"
   ]
  },
  {
   "cell_type": "markdown",
   "id": "8c4f411b",
   "metadata": {},
   "source": [
    "Null Values = last_name, DOB, job_industry_category, job_title, default, tenure has some missing values \n",
    "\n",
    "Default columns carries some meta data, which is unncessary for us\n",
    "\n",
    "gender,job_title, job_industry_category, wealth_segment , owns_car, deceased_indicator are in objects data type which can be converted into category data type "
   ]
  },
  {
   "cell_type": "code",
   "execution_count": 34,
   "id": "49206cbc",
   "metadata": {},
   "outputs": [
    {
     "data": {
      "text/plain": [
       "4000"
      ]
     },
     "execution_count": 34,
     "metadata": {},
     "output_type": "execute_result"
    }
   ],
   "source": [
    "custdemo.customer_id.nunique()"
   ]
  },
  {
   "cell_type": "code",
   "execution_count": 35,
   "id": "90c6b5ff",
   "metadata": {},
   "outputs": [
    {
     "data": {
      "text/plain": [
       "array(['U', 'Male', 'Female', 'M', 'Femal', 'F'], dtype=object)"
      ]
     },
     "execution_count": 35,
     "metadata": {},
     "output_type": "execute_result"
    }
   ],
   "source": [
    "custdemo.gender.unique()"
   ]
  },
  {
   "cell_type": "code",
   "execution_count": 36,
   "id": "ff536d63",
   "metadata": {},
   "outputs": [
    {
     "data": {
      "text/plain": [
       "array(['IT', 'Argiculture', 'Health', nan, 'Manufacturing', 'Retail',\n",
       "       'Telecommunications', 'Financial Services', 'Entertainment',\n",
       "       'Property'], dtype=object)"
      ]
     },
     "execution_count": 36,
     "metadata": {},
     "output_type": "execute_result"
    }
   ],
   "source": [
    "custdemo['job_industry_category'].unique()"
   ]
  },
  {
   "cell_type": "code",
   "execution_count": 37,
   "id": "b57c80c3",
   "metadata": {},
   "outputs": [
    {
     "data": {
      "text/plain": [
       "array(['N', 'Y'], dtype=object)"
      ]
     },
     "execution_count": 37,
     "metadata": {},
     "output_type": "execute_result"
    }
   ],
   "source": [
    "custdemo['deceased_indicator'].unique()"
   ]
  },
  {
   "cell_type": "code",
   "execution_count": 38,
   "id": "c8c7ed69",
   "metadata": {},
   "outputs": [
    {
     "data": {
      "text/plain": [
       "array(['Affluent Customer', 'High Net Worth', 'Mass Customer'],\n",
       "      dtype=object)"
      ]
     },
     "execution_count": 38,
     "metadata": {},
     "output_type": "execute_result"
    }
   ],
   "source": [
    "custdemo['wealth_segment'].unique()"
   ]
  },
  {
   "cell_type": "code",
   "execution_count": 39,
   "id": "46d6f97b",
   "metadata": {},
   "outputs": [
    {
     "data": {
      "text/plain": [
       "array(['No', 'Yes'], dtype=object)"
      ]
     },
     "execution_count": 39,
     "metadata": {},
     "output_type": "execute_result"
    }
   ],
   "source": [
    "custdemo['owns_car'].unique()"
   ]
  },
  {
   "cell_type": "code",
   "execution_count": 40,
   "id": "af32d967",
   "metadata": {},
   "outputs": [
    {
     "data": {
      "text/plain": [
       "array([20.,  1.,  2.,  3.,  4.,  5.,  6.,  7.,  8., 19., 17., 22., 12.,\n",
       "       14., 13., 11., 10.,  9., 18., 16., 15., 21., nan])"
      ]
     },
     "execution_count": 40,
     "metadata": {},
     "output_type": "execute_result"
    }
   ],
   "source": [
    "custdemo['tenure'].unique()"
   ]
  },
  {
   "cell_type": "markdown",
   "id": "e226a2af",
   "metadata": {},
   "source": [
    "Observation\n",
    "\n",
    "CONSISTENCY: There is inconsistent data in gender.\n",
    "\n",
    "RELEVANCE:We can also remove values corresponding to deceased indiactor = Y, since we would be analysing the data only for customers who are alive."
   ]
  },
  {
   "cell_type": "code",
   "execution_count": 41,
   "id": "8cd9bdce",
   "metadata": {},
   "outputs": [
    {
     "data": {
      "text/plain": [
       "0"
      ]
     },
     "execution_count": 41,
     "metadata": {},
     "output_type": "execute_result"
    }
   ],
   "source": [
    "custdemo.duplicated().sum()"
   ]
  },
  {
   "cell_type": "markdown",
   "id": "ed7f2a0e",
   "metadata": {},
   "source": [
    "**DATA CLEANING**\n",
    "\n",
    "- drop unnecessary column default\n",
    "- values corrsponding to Y in deceased indicator\n",
    "- changing data types\n",
    "- column gender\n",
    "- null value"
   ]
  },
  {
   "cell_type": "code",
   "execution_count": 42,
   "id": "b3e43bc7",
   "metadata": {},
   "outputs": [],
   "source": [
    "custdemo.drop('default', axis = 1,inplace = True)"
   ]
  },
  {
   "cell_type": "code",
   "execution_count": 43,
   "id": "2e94076f",
   "metadata": {},
   "outputs": [],
   "source": [
    "custdemo = custdemo.drop(custdemo.index[custdemo['deceased_indicator'] == 'Y'])"
   ]
  },
  {
   "cell_type": "code",
   "execution_count": 44,
   "id": "e6bbbef0",
   "metadata": {},
   "outputs": [
    {
     "data": {
      "text/plain": [
       "array(['N'], dtype=object)"
      ]
     },
     "execution_count": 44,
     "metadata": {},
     "output_type": "execute_result"
    }
   ],
   "source": [
    "custdemo['deceased_indicator'].unique()"
   ]
  },
  {
   "cell_type": "code",
   "execution_count": 45,
   "id": "8f5e33f7",
   "metadata": {},
   "outputs": [],
   "source": [
    "custdemo['first_name'] = custdemo['first_name'].astype(\"category\")\n",
    "custdemo['last_name'] = custdemo['last_name'].astype(\"category\")\n",
    "custdemo['gender'] = custdemo['gender'].astype(\"category\")\n",
    "custdemo['job_title'] = custdemo['job_title'].astype(\"category\")\n",
    "custdemo['job_industry_category'] = custdemo['job_industry_category'].astype(\"category\")\n",
    "custdemo['wealth_segment'] = custdemo['wealth_segment'].astype(\"category\")\n",
    "custdemo['deceased_indicator'] = custdemo['deceased_indicator'].astype(\"category\")\n",
    "custdemo['owns_car'] = custdemo['owns_car'].astype(\"category\")"
   ]
  },
  {
   "cell_type": "code",
   "execution_count": 46,
   "id": "bf99db8d",
   "metadata": {},
   "outputs": [
    {
     "data": {
      "text/plain": [
       "['U', 'Male', 'Female', 'M', 'Femal', 'F']\n",
       "Categories (6, object): ['F', 'Femal', 'Female', 'M', 'Male', 'U']"
      ]
     },
     "execution_count": 46,
     "metadata": {},
     "output_type": "execute_result"
    }
   ],
   "source": [
    "custdemo.gender.unique()"
   ]
  },
  {
   "cell_type": "code",
   "execution_count": 47,
   "id": "a88f7d29",
   "metadata": {},
   "outputs": [],
   "source": [
    "custdemo.replace({'F' : 'Female', 'M' : 'Male', 'Femal' : 'Female'}, inplace = True)"
   ]
  },
  {
   "cell_type": "code",
   "execution_count": 48,
   "id": "44dcb090",
   "metadata": {},
   "outputs": [
    {
     "data": {
      "text/plain": [
       "['U', 'Male', 'Female']\n",
       "Categories (3, object): ['Female', 'Male', 'U']"
      ]
     },
     "execution_count": 48,
     "metadata": {},
     "output_type": "execute_result"
    }
   ],
   "source": [
    "custdemo.gender.unique()"
   ]
  },
  {
   "cell_type": "code",
   "execution_count": 49,
   "id": "3e9ca846",
   "metadata": {},
   "outputs": [
    {
     "data": {
      "text/plain": [
       "customer_id                               0\n",
       "first_name                                0\n",
       "last_name                               125\n",
       "gender                                    0\n",
       "past_3_years_bike_related_purchases       0\n",
       "DOB                                      87\n",
       "job_title                               506\n",
       "job_industry_category                   656\n",
       "wealth_segment                            0\n",
       "deceased_indicator                        0\n",
       "owns_car                                  0\n",
       "tenure                                   87\n",
       "Unnamed: 13                            3997\n",
       "dtype: int64"
      ]
     },
     "execution_count": 49,
     "metadata": {},
     "output_type": "execute_result"
    }
   ],
   "source": [
    "custdemo.isnull().sum()"
   ]
  },
  {
   "cell_type": "code",
   "execution_count": 50,
   "id": "ca98e5d4",
   "metadata": {},
   "outputs": [
    {
     "data": {
      "text/plain": [
       "customer_id                             0.000000\n",
       "first_name                              0.000000\n",
       "last_name                               3.126563\n",
       "gender                                  0.000000\n",
       "past_3_years_bike_related_purchases     0.000000\n",
       "DOB                                     2.176088\n",
       "job_title                              12.656328\n",
       "job_industry_category                  16.408204\n",
       "wealth_segment                          0.000000\n",
       "deceased_indicator                      0.000000\n",
       "owns_car                                0.000000\n",
       "tenure                                  2.176088\n",
       "Unnamed: 13                            99.974987\n",
       "dtype: float64"
      ]
     },
     "execution_count": 50,
     "metadata": {},
     "output_type": "execute_result"
    }
   ],
   "source": [
    "custdemo.isnull().sum()/ len (custdemo) * 100"
   ]
  },
  {
   "cell_type": "markdown",
   "id": "4f48a2bf",
   "metadata": {},
   "source": [
    "Observation - For 'job_title' and 'job_industry_segment' we can impute the values using mode. last_name and tenuredo not look like a key columns for our analysis, so we can leave it like that for now."
   ]
  },
  {
   "cell_type": "code",
   "execution_count": 51,
   "id": "84312f38",
   "metadata": {},
   "outputs": [],
   "source": [
    "custdemo['job_title'].fillna(custdemo['job_title'].mode()[0], inplace = True)\n",
    "custdemo['job_industry_category'].fillna(custdemo['job_industry_category'].mode()[0], inplace = True)"
   ]
  },
  {
   "cell_type": "code",
   "execution_count": 52,
   "id": "4a2155ba",
   "metadata": {},
   "outputs": [
    {
     "data": {
      "text/plain": [
       "customer_id                             0.000000\n",
       "first_name                              0.000000\n",
       "last_name                               3.126563\n",
       "gender                                  0.000000\n",
       "past_3_years_bike_related_purchases     0.000000\n",
       "DOB                                     2.176088\n",
       "job_title                               0.000000\n",
       "job_industry_category                   0.000000\n",
       "wealth_segment                          0.000000\n",
       "deceased_indicator                      0.000000\n",
       "owns_car                                0.000000\n",
       "tenure                                  2.176088\n",
       "Unnamed: 13                            99.974987\n",
       "dtype: float64"
      ]
     },
     "execution_count": 52,
     "metadata": {},
     "output_type": "execute_result"
    }
   ],
   "source": [
    "custdemo.isnull().sum()/ len (custdemo) * 100"
   ]
  },
  {
   "cell_type": "markdown",
   "id": "6b747f37",
   "metadata": {},
   "source": [
    "## SHEET3 - CUSTOMER ADDRESS"
   ]
  },
  {
   "cell_type": "code",
   "execution_count": 53,
   "id": "ff8ad55e",
   "metadata": {},
   "outputs": [
    {
     "data": {
      "text/html": [
       "<div>\n",
       "<style scoped>\n",
       "    .dataframe tbody tr th:only-of-type {\n",
       "        vertical-align: middle;\n",
       "    }\n",
       "\n",
       "    .dataframe tbody tr th {\n",
       "        vertical-align: top;\n",
       "    }\n",
       "\n",
       "    .dataframe thead th {\n",
       "        text-align: right;\n",
       "    }\n",
       "</style>\n",
       "<table border=\"1\" class=\"dataframe\">\n",
       "  <thead>\n",
       "    <tr style=\"text-align: right;\">\n",
       "      <th></th>\n",
       "      <th>customer_id</th>\n",
       "      <th>address</th>\n",
       "      <th>postcode</th>\n",
       "      <th>state</th>\n",
       "      <th>country</th>\n",
       "      <th>property_valuation</th>\n",
       "    </tr>\n",
       "  </thead>\n",
       "  <tbody>\n",
       "    <tr>\n",
       "      <th>0</th>\n",
       "      <td>1</td>\n",
       "      <td>060 Morning Avenue</td>\n",
       "      <td>2016</td>\n",
       "      <td>New South Wales</td>\n",
       "      <td>Australia</td>\n",
       "      <td>10</td>\n",
       "    </tr>\n",
       "    <tr>\n",
       "      <th>1</th>\n",
       "      <td>2</td>\n",
       "      <td>6 Meadow Vale Court</td>\n",
       "      <td>2153</td>\n",
       "      <td>New South Wales</td>\n",
       "      <td>Australia</td>\n",
       "      <td>10</td>\n",
       "    </tr>\n",
       "    <tr>\n",
       "      <th>2</th>\n",
       "      <td>4</td>\n",
       "      <td>0 Holy Cross Court</td>\n",
       "      <td>4211</td>\n",
       "      <td>QLD</td>\n",
       "      <td>Australia</td>\n",
       "      <td>9</td>\n",
       "    </tr>\n",
       "    <tr>\n",
       "      <th>3</th>\n",
       "      <td>5</td>\n",
       "      <td>17979 Del Mar Point</td>\n",
       "      <td>2448</td>\n",
       "      <td>New South Wales</td>\n",
       "      <td>Australia</td>\n",
       "      <td>4</td>\n",
       "    </tr>\n",
       "    <tr>\n",
       "      <th>4</th>\n",
       "      <td>6</td>\n",
       "      <td>9 Oakridge Court</td>\n",
       "      <td>3216</td>\n",
       "      <td>VIC</td>\n",
       "      <td>Australia</td>\n",
       "      <td>9</td>\n",
       "    </tr>\n",
       "  </tbody>\n",
       "</table>\n",
       "</div>"
      ],
      "text/plain": [
       "   customer_id              address  postcode            state    country  \\\n",
       "0            1   060 Morning Avenue      2016  New South Wales  Australia   \n",
       "1            2  6 Meadow Vale Court      2153  New South Wales  Australia   \n",
       "2            4   0 Holy Cross Court      4211              QLD  Australia   \n",
       "3            5  17979 Del Mar Point      2448  New South Wales  Australia   \n",
       "4            6     9 Oakridge Court      3216              VIC  Australia   \n",
       "\n",
       "   property_valuation  \n",
       "0                  10  \n",
       "1                  10  \n",
       "2                   9  \n",
       "3                   4  \n",
       "4                   9  "
      ]
     },
     "execution_count": 53,
     "metadata": {},
     "output_type": "execute_result"
    }
   ],
   "source": [
    "address.head()"
   ]
  },
  {
   "cell_type": "code",
   "execution_count": 54,
   "id": "26a2f544",
   "metadata": {},
   "outputs": [
    {
     "name": "stdout",
     "output_type": "stream",
     "text": [
      "<class 'pandas.core.frame.DataFrame'>\n",
      "RangeIndex: 3999 entries, 0 to 3998\n",
      "Data columns (total 6 columns):\n",
      " #   Column              Non-Null Count  Dtype \n",
      "---  ------              --------------  ----- \n",
      " 0   customer_id         3999 non-null   int64 \n",
      " 1   address             3999 non-null   object\n",
      " 2   postcode            3999 non-null   int64 \n",
      " 3   state               3999 non-null   object\n",
      " 4   country             3999 non-null   object\n",
      " 5   property_valuation  3999 non-null   int64 \n",
      "dtypes: int64(3), object(3)\n",
      "memory usage: 187.6+ KB\n"
     ]
    }
   ],
   "source": [
    "address.info()"
   ]
  },
  {
   "cell_type": "code",
   "execution_count": 55,
   "id": "3db52cb9",
   "metadata": {},
   "outputs": [
    {
     "data": {
      "text/plain": [
       "(3999, 6)"
      ]
     },
     "execution_count": 55,
     "metadata": {},
     "output_type": "execute_result"
    }
   ],
   "source": [
    "address.shape"
   ]
  },
  {
   "cell_type": "code",
   "execution_count": 56,
   "id": "a778004e",
   "metadata": {},
   "outputs": [
    {
     "data": {
      "text/plain": [
       "3999"
      ]
     },
     "execution_count": 56,
     "metadata": {},
     "output_type": "execute_result"
    }
   ],
   "source": [
    "address.customer_id.nunique()"
   ]
  },
  {
   "cell_type": "code",
   "execution_count": 57,
   "id": "3d36a315",
   "metadata": {},
   "outputs": [
    {
     "data": {
      "text/plain": [
       "array(['New South Wales', 'QLD', 'VIC', 'NSW', 'Victoria'], dtype=object)"
      ]
     },
     "execution_count": 57,
     "metadata": {},
     "output_type": "execute_result"
    }
   ],
   "source": [
    "address.state.unique()"
   ]
  },
  {
   "cell_type": "code",
   "execution_count": 58,
   "id": "116b8f31",
   "metadata": {},
   "outputs": [
    {
     "data": {
      "text/plain": [
       "array(['Australia'], dtype=object)"
      ]
     },
     "execution_count": 58,
     "metadata": {},
     "output_type": "execute_result"
    }
   ],
   "source": [
    "address.country.unique()"
   ]
  },
  {
   "cell_type": "code",
   "execution_count": 59,
   "id": "fab14e6f",
   "metadata": {},
   "outputs": [
    {
     "data": {
      "text/plain": [
       "0"
      ]
     },
     "execution_count": 59,
     "metadata": {},
     "output_type": "execute_result"
    }
   ],
   "source": [
    "address.duplicated().sum()"
   ]
  },
  {
   "cell_type": "code",
   "execution_count": 60,
   "id": "30c27d9a",
   "metadata": {},
   "outputs": [],
   "source": [
    "address.state.replace({'NSW':'New South Wales', 'VIC':'Victoria'},inplace=True)"
   ]
  },
  {
   "cell_type": "code",
   "execution_count": 61,
   "id": "01cf3761",
   "metadata": {},
   "outputs": [
    {
     "data": {
      "text/plain": [
       "array(['New South Wales', 'QLD', 'Victoria'], dtype=object)"
      ]
     },
     "execution_count": 61,
     "metadata": {},
     "output_type": "execute_result"
    }
   ],
   "source": [
    "address.state.unique()"
   ]
  },
  {
   "cell_type": "code",
   "execution_count": 62,
   "id": "4703f205",
   "metadata": {},
   "outputs": [],
   "source": [
    "address['address'] = address['address'].astype('category')\n",
    "address['state'] = address['state'].astype('category')\n",
    "address['country'] = address['country'].astype('category')"
   ]
  },
  {
   "cell_type": "code",
   "execution_count": 63,
   "id": "a95ac89a",
   "metadata": {},
   "outputs": [
    {
     "name": "stdout",
     "output_type": "stream",
     "text": [
      "<class 'pandas.core.frame.DataFrame'>\n",
      "RangeIndex: 3999 entries, 0 to 3998\n",
      "Data columns (total 6 columns):\n",
      " #   Column              Non-Null Count  Dtype   \n",
      "---  ------              --------------  -----   \n",
      " 0   customer_id         3999 non-null   int64   \n",
      " 1   address             3999 non-null   category\n",
      " 2   postcode            3999 non-null   int64   \n",
      " 3   state               3999 non-null   category\n",
      " 4   country             3999 non-null   category\n",
      " 5   property_valuation  3999 non-null   int64   \n",
      "dtypes: category(3), int64(3)\n",
      "memory usage: 270.0 KB\n"
     ]
    }
   ],
   "source": [
    "address.info()"
   ]
  },
  {
   "cell_type": "markdown",
   "id": "8f398dd2",
   "metadata": {},
   "source": [
    "## SHEET4 - NewCustomersList"
   ]
  },
  {
   "cell_type": "code",
   "execution_count": 64,
   "id": "2e9ce035",
   "metadata": {},
   "outputs": [
    {
     "data": {
      "text/html": [
       "<div>\n",
       "<style scoped>\n",
       "    .dataframe tbody tr th:only-of-type {\n",
       "        vertical-align: middle;\n",
       "    }\n",
       "\n",
       "    .dataframe tbody tr th {\n",
       "        vertical-align: top;\n",
       "    }\n",
       "\n",
       "    .dataframe thead th {\n",
       "        text-align: right;\n",
       "    }\n",
       "</style>\n",
       "<table border=\"1\" class=\"dataframe\">\n",
       "  <thead>\n",
       "    <tr style=\"text-align: right;\">\n",
       "      <th></th>\n",
       "      <th>first_name</th>\n",
       "      <th>last_name</th>\n",
       "      <th>gender</th>\n",
       "      <th>past_3_years_bike_related_purchases</th>\n",
       "      <th>DOB</th>\n",
       "      <th>job_title</th>\n",
       "      <th>job_industry_category</th>\n",
       "      <th>wealth_segment</th>\n",
       "      <th>deceased_indicator</th>\n",
       "      <th>owns_car</th>\n",
       "      <th>...</th>\n",
       "      <th>state</th>\n",
       "      <th>country</th>\n",
       "      <th>property_valuation</th>\n",
       "      <th>Unnamed: 16</th>\n",
       "      <th>Unnamed: 17</th>\n",
       "      <th>Unnamed: 18</th>\n",
       "      <th>Unnamed: 19</th>\n",
       "      <th>Unnamed: 20</th>\n",
       "      <th>Rank</th>\n",
       "      <th>Value</th>\n",
       "    </tr>\n",
       "  </thead>\n",
       "  <tbody>\n",
       "    <tr>\n",
       "      <th>0</th>\n",
       "      <td>Chickie</td>\n",
       "      <td>Brister</td>\n",
       "      <td>Male</td>\n",
       "      <td>86</td>\n",
       "      <td>1957-07-12</td>\n",
       "      <td>General Manager</td>\n",
       "      <td>Manufacturing</td>\n",
       "      <td>Mass Customer</td>\n",
       "      <td>N</td>\n",
       "      <td>Yes</td>\n",
       "      <td>...</td>\n",
       "      <td>QLD</td>\n",
       "      <td>Australia</td>\n",
       "      <td>6</td>\n",
       "      <td>0.59</td>\n",
       "      <td>0.7375</td>\n",
       "      <td>0.921875</td>\n",
       "      <td>0.783594</td>\n",
       "      <td>1</td>\n",
       "      <td>1</td>\n",
       "      <td>1.718750</td>\n",
       "    </tr>\n",
       "    <tr>\n",
       "      <th>1</th>\n",
       "      <td>Morly</td>\n",
       "      <td>Genery</td>\n",
       "      <td>Male</td>\n",
       "      <td>69</td>\n",
       "      <td>1970-03-22</td>\n",
       "      <td>Structural Engineer</td>\n",
       "      <td>Property</td>\n",
       "      <td>Mass Customer</td>\n",
       "      <td>N</td>\n",
       "      <td>No</td>\n",
       "      <td>...</td>\n",
       "      <td>NSW</td>\n",
       "      <td>Australia</td>\n",
       "      <td>11</td>\n",
       "      <td>0.69</td>\n",
       "      <td>0.6900</td>\n",
       "      <td>0.862500</td>\n",
       "      <td>0.733125</td>\n",
       "      <td>1</td>\n",
       "      <td>1</td>\n",
       "      <td>1.718750</td>\n",
       "    </tr>\n",
       "    <tr>\n",
       "      <th>2</th>\n",
       "      <td>Ardelis</td>\n",
       "      <td>Forrester</td>\n",
       "      <td>Female</td>\n",
       "      <td>10</td>\n",
       "      <td>1974-08-28 00:00:00</td>\n",
       "      <td>Senior Cost Accountant</td>\n",
       "      <td>Financial Services</td>\n",
       "      <td>Affluent Customer</td>\n",
       "      <td>N</td>\n",
       "      <td>No</td>\n",
       "      <td>...</td>\n",
       "      <td>VIC</td>\n",
       "      <td>Australia</td>\n",
       "      <td>5</td>\n",
       "      <td>0.48</td>\n",
       "      <td>0.4800</td>\n",
       "      <td>0.480000</td>\n",
       "      <td>0.480000</td>\n",
       "      <td>1</td>\n",
       "      <td>1</td>\n",
       "      <td>1.718750</td>\n",
       "    </tr>\n",
       "    <tr>\n",
       "      <th>3</th>\n",
       "      <td>Lucine</td>\n",
       "      <td>Stutt</td>\n",
       "      <td>Female</td>\n",
       "      <td>64</td>\n",
       "      <td>1979-01-28</td>\n",
       "      <td>Account Representative III</td>\n",
       "      <td>Manufacturing</td>\n",
       "      <td>Affluent Customer</td>\n",
       "      <td>N</td>\n",
       "      <td>Yes</td>\n",
       "      <td>...</td>\n",
       "      <td>QLD</td>\n",
       "      <td>Australia</td>\n",
       "      <td>1</td>\n",
       "      <td>0.40</td>\n",
       "      <td>0.5000</td>\n",
       "      <td>0.500000</td>\n",
       "      <td>0.500000</td>\n",
       "      <td>4</td>\n",
       "      <td>4</td>\n",
       "      <td>1.703125</td>\n",
       "    </tr>\n",
       "    <tr>\n",
       "      <th>4</th>\n",
       "      <td>Melinda</td>\n",
       "      <td>Hadlee</td>\n",
       "      <td>Female</td>\n",
       "      <td>34</td>\n",
       "      <td>1965-09-21</td>\n",
       "      <td>Financial Analyst</td>\n",
       "      <td>Financial Services</td>\n",
       "      <td>Affluent Customer</td>\n",
       "      <td>N</td>\n",
       "      <td>No</td>\n",
       "      <td>...</td>\n",
       "      <td>NSW</td>\n",
       "      <td>Australia</td>\n",
       "      <td>9</td>\n",
       "      <td>0.94</td>\n",
       "      <td>0.9400</td>\n",
       "      <td>1.175000</td>\n",
       "      <td>1.175000</td>\n",
       "      <td>4</td>\n",
       "      <td>4</td>\n",
       "      <td>1.703125</td>\n",
       "    </tr>\n",
       "  </tbody>\n",
       "</table>\n",
       "<p>5 rows × 23 columns</p>\n",
       "</div>"
      ],
      "text/plain": [
       "  first_name  last_name  gender  past_3_years_bike_related_purchases  \\\n",
       "0    Chickie    Brister    Male                                   86   \n",
       "1      Morly     Genery    Male                                   69   \n",
       "2    Ardelis  Forrester  Female                                   10   \n",
       "3     Lucine      Stutt  Female                                   64   \n",
       "4    Melinda     Hadlee  Female                                   34   \n",
       "\n",
       "                   DOB                   job_title job_industry_category  \\\n",
       "0           1957-07-12             General Manager         Manufacturing   \n",
       "1           1970-03-22         Structural Engineer              Property   \n",
       "2  1974-08-28 00:00:00      Senior Cost Accountant    Financial Services   \n",
       "3           1979-01-28  Account Representative III         Manufacturing   \n",
       "4           1965-09-21           Financial Analyst    Financial Services   \n",
       "\n",
       "      wealth_segment deceased_indicator owns_car  ...  state    country  \\\n",
       "0      Mass Customer                  N      Yes  ...    QLD  Australia   \n",
       "1      Mass Customer                  N       No  ...    NSW  Australia   \n",
       "2  Affluent Customer                  N       No  ...    VIC  Australia   \n",
       "3  Affluent Customer                  N      Yes  ...    QLD  Australia   \n",
       "4  Affluent Customer                  N       No  ...    NSW  Australia   \n",
       "\n",
       "   property_valuation Unnamed: 16 Unnamed: 17  Unnamed: 18  Unnamed: 19  \\\n",
       "0                   6        0.59      0.7375     0.921875     0.783594   \n",
       "1                  11        0.69      0.6900     0.862500     0.733125   \n",
       "2                   5        0.48      0.4800     0.480000     0.480000   \n",
       "3                   1        0.40      0.5000     0.500000     0.500000   \n",
       "4                   9        0.94      0.9400     1.175000     1.175000   \n",
       "\n",
       "   Unnamed: 20  Rank     Value  \n",
       "0            1     1  1.718750  \n",
       "1            1     1  1.718750  \n",
       "2            1     1  1.718750  \n",
       "3            4     4  1.703125  \n",
       "4            4     4  1.703125  \n",
       "\n",
       "[5 rows x 23 columns]"
      ]
     },
     "execution_count": 64,
     "metadata": {},
     "output_type": "execute_result"
    }
   ],
   "source": [
    "newcust.head()"
   ]
  },
  {
   "cell_type": "code",
   "execution_count": 65,
   "id": "32bb3749",
   "metadata": {},
   "outputs": [],
   "source": [
    "#removing the unnamed columns\n",
    "\n",
    "newcust.drop(newcust.columns[newcust.columns.str.contains('^Unnamed')], axis=1, inplace=True)"
   ]
  },
  {
   "cell_type": "code",
   "execution_count": 66,
   "id": "d4472918",
   "metadata": {},
   "outputs": [
    {
     "data": {
      "text/html": [
       "<div>\n",
       "<style scoped>\n",
       "    .dataframe tbody tr th:only-of-type {\n",
       "        vertical-align: middle;\n",
       "    }\n",
       "\n",
       "    .dataframe tbody tr th {\n",
       "        vertical-align: top;\n",
       "    }\n",
       "\n",
       "    .dataframe thead th {\n",
       "        text-align: right;\n",
       "    }\n",
       "</style>\n",
       "<table border=\"1\" class=\"dataframe\">\n",
       "  <thead>\n",
       "    <tr style=\"text-align: right;\">\n",
       "      <th></th>\n",
       "      <th>first_name</th>\n",
       "      <th>last_name</th>\n",
       "      <th>gender</th>\n",
       "      <th>past_3_years_bike_related_purchases</th>\n",
       "      <th>DOB</th>\n",
       "      <th>job_title</th>\n",
       "      <th>job_industry_category</th>\n",
       "      <th>wealth_segment</th>\n",
       "      <th>deceased_indicator</th>\n",
       "      <th>owns_car</th>\n",
       "      <th>tenure</th>\n",
       "      <th>address</th>\n",
       "      <th>postcode</th>\n",
       "      <th>state</th>\n",
       "      <th>country</th>\n",
       "      <th>property_valuation</th>\n",
       "      <th>Rank</th>\n",
       "      <th>Value</th>\n",
       "    </tr>\n",
       "  </thead>\n",
       "  <tbody>\n",
       "    <tr>\n",
       "      <th>0</th>\n",
       "      <td>Chickie</td>\n",
       "      <td>Brister</td>\n",
       "      <td>Male</td>\n",
       "      <td>86</td>\n",
       "      <td>1957-07-12</td>\n",
       "      <td>General Manager</td>\n",
       "      <td>Manufacturing</td>\n",
       "      <td>Mass Customer</td>\n",
       "      <td>N</td>\n",
       "      <td>Yes</td>\n",
       "      <td>14</td>\n",
       "      <td>45 Shopko Center</td>\n",
       "      <td>4500</td>\n",
       "      <td>QLD</td>\n",
       "      <td>Australia</td>\n",
       "      <td>6</td>\n",
       "      <td>1</td>\n",
       "      <td>1.718750</td>\n",
       "    </tr>\n",
       "    <tr>\n",
       "      <th>1</th>\n",
       "      <td>Morly</td>\n",
       "      <td>Genery</td>\n",
       "      <td>Male</td>\n",
       "      <td>69</td>\n",
       "      <td>1970-03-22</td>\n",
       "      <td>Structural Engineer</td>\n",
       "      <td>Property</td>\n",
       "      <td>Mass Customer</td>\n",
       "      <td>N</td>\n",
       "      <td>No</td>\n",
       "      <td>16</td>\n",
       "      <td>14 Mccormick Park</td>\n",
       "      <td>2113</td>\n",
       "      <td>NSW</td>\n",
       "      <td>Australia</td>\n",
       "      <td>11</td>\n",
       "      <td>1</td>\n",
       "      <td>1.718750</td>\n",
       "    </tr>\n",
       "    <tr>\n",
       "      <th>2</th>\n",
       "      <td>Ardelis</td>\n",
       "      <td>Forrester</td>\n",
       "      <td>Female</td>\n",
       "      <td>10</td>\n",
       "      <td>1974-08-28 00:00:00</td>\n",
       "      <td>Senior Cost Accountant</td>\n",
       "      <td>Financial Services</td>\n",
       "      <td>Affluent Customer</td>\n",
       "      <td>N</td>\n",
       "      <td>No</td>\n",
       "      <td>10</td>\n",
       "      <td>5 Colorado Crossing</td>\n",
       "      <td>3505</td>\n",
       "      <td>VIC</td>\n",
       "      <td>Australia</td>\n",
       "      <td>5</td>\n",
       "      <td>1</td>\n",
       "      <td>1.718750</td>\n",
       "    </tr>\n",
       "    <tr>\n",
       "      <th>3</th>\n",
       "      <td>Lucine</td>\n",
       "      <td>Stutt</td>\n",
       "      <td>Female</td>\n",
       "      <td>64</td>\n",
       "      <td>1979-01-28</td>\n",
       "      <td>Account Representative III</td>\n",
       "      <td>Manufacturing</td>\n",
       "      <td>Affluent Customer</td>\n",
       "      <td>N</td>\n",
       "      <td>Yes</td>\n",
       "      <td>5</td>\n",
       "      <td>207 Annamark Plaza</td>\n",
       "      <td>4814</td>\n",
       "      <td>QLD</td>\n",
       "      <td>Australia</td>\n",
       "      <td>1</td>\n",
       "      <td>4</td>\n",
       "      <td>1.703125</td>\n",
       "    </tr>\n",
       "    <tr>\n",
       "      <th>4</th>\n",
       "      <td>Melinda</td>\n",
       "      <td>Hadlee</td>\n",
       "      <td>Female</td>\n",
       "      <td>34</td>\n",
       "      <td>1965-09-21</td>\n",
       "      <td>Financial Analyst</td>\n",
       "      <td>Financial Services</td>\n",
       "      <td>Affluent Customer</td>\n",
       "      <td>N</td>\n",
       "      <td>No</td>\n",
       "      <td>19</td>\n",
       "      <td>115 Montana Place</td>\n",
       "      <td>2093</td>\n",
       "      <td>NSW</td>\n",
       "      <td>Australia</td>\n",
       "      <td>9</td>\n",
       "      <td>4</td>\n",
       "      <td>1.703125</td>\n",
       "    </tr>\n",
       "  </tbody>\n",
       "</table>\n",
       "</div>"
      ],
      "text/plain": [
       "  first_name  last_name  gender  past_3_years_bike_related_purchases  \\\n",
       "0    Chickie    Brister    Male                                   86   \n",
       "1      Morly     Genery    Male                                   69   \n",
       "2    Ardelis  Forrester  Female                                   10   \n",
       "3     Lucine      Stutt  Female                                   64   \n",
       "4    Melinda     Hadlee  Female                                   34   \n",
       "\n",
       "                   DOB                   job_title job_industry_category  \\\n",
       "0           1957-07-12             General Manager         Manufacturing   \n",
       "1           1970-03-22         Structural Engineer              Property   \n",
       "2  1974-08-28 00:00:00      Senior Cost Accountant    Financial Services   \n",
       "3           1979-01-28  Account Representative III         Manufacturing   \n",
       "4           1965-09-21           Financial Analyst    Financial Services   \n",
       "\n",
       "      wealth_segment deceased_indicator owns_car  tenure              address  \\\n",
       "0      Mass Customer                  N      Yes      14     45 Shopko Center   \n",
       "1      Mass Customer                  N       No      16    14 Mccormick Park   \n",
       "2  Affluent Customer                  N       No      10  5 Colorado Crossing   \n",
       "3  Affluent Customer                  N      Yes       5   207 Annamark Plaza   \n",
       "4  Affluent Customer                  N       No      19    115 Montana Place   \n",
       "\n",
       "   postcode state    country  property_valuation  Rank     Value  \n",
       "0      4500   QLD  Australia                   6     1  1.718750  \n",
       "1      2113   NSW  Australia                  11     1  1.718750  \n",
       "2      3505   VIC  Australia                   5     1  1.718750  \n",
       "3      4814   QLD  Australia                   1     4  1.703125  \n",
       "4      2093   NSW  Australia                   9     4  1.703125  "
      ]
     },
     "execution_count": 66,
     "metadata": {},
     "output_type": "execute_result"
    }
   ],
   "source": [
    "newcust.head()"
   ]
  },
  {
   "cell_type": "code",
   "execution_count": 67,
   "id": "17a25f78",
   "metadata": {},
   "outputs": [
    {
     "data": {
      "text/plain": [
       "(1000, 18)"
      ]
     },
     "execution_count": 67,
     "metadata": {},
     "output_type": "execute_result"
    }
   ],
   "source": [
    "newcust.shape"
   ]
  },
  {
   "cell_type": "code",
   "execution_count": 68,
   "id": "664fe575",
   "metadata": {},
   "outputs": [
    {
     "name": "stdout",
     "output_type": "stream",
     "text": [
      "<class 'pandas.core.frame.DataFrame'>\n",
      "RangeIndex: 1000 entries, 0 to 999\n",
      "Data columns (total 18 columns):\n",
      " #   Column                               Non-Null Count  Dtype  \n",
      "---  ------                               --------------  -----  \n",
      " 0   first_name                           1000 non-null   object \n",
      " 1   last_name                            971 non-null    object \n",
      " 2   gender                               1000 non-null   object \n",
      " 3   past_3_years_bike_related_purchases  1000 non-null   int64  \n",
      " 4   DOB                                  983 non-null    object \n",
      " 5   job_title                            894 non-null    object \n",
      " 6   job_industry_category                835 non-null    object \n",
      " 7   wealth_segment                       1000 non-null   object \n",
      " 8   deceased_indicator                   1000 non-null   object \n",
      " 9   owns_car                             1000 non-null   object \n",
      " 10  tenure                               1000 non-null   int64  \n",
      " 11  address                              1000 non-null   object \n",
      " 12  postcode                             1000 non-null   int64  \n",
      " 13  state                                1000 non-null   object \n",
      " 14  country                              1000 non-null   object \n",
      " 15  property_valuation                   1000 non-null   int64  \n",
      " 16  Rank                                 1000 non-null   int64  \n",
      " 17  Value                                1000 non-null   float64\n",
      "dtypes: float64(1), int64(5), object(12)\n",
      "memory usage: 140.8+ KB\n"
     ]
    }
   ],
   "source": [
    "newcust.info()"
   ]
  },
  {
   "cell_type": "code",
   "execution_count": 69,
   "id": "924650d0",
   "metadata": {},
   "outputs": [
    {
     "data": {
      "text/plain": [
       "first_name                               0\n",
       "last_name                               29\n",
       "gender                                   0\n",
       "past_3_years_bike_related_purchases      0\n",
       "DOB                                     17\n",
       "job_title                              106\n",
       "job_industry_category                  165\n",
       "wealth_segment                           0\n",
       "deceased_indicator                       0\n",
       "owns_car                                 0\n",
       "tenure                                   0\n",
       "address                                  0\n",
       "postcode                                 0\n",
       "state                                    0\n",
       "country                                  0\n",
       "property_valuation                       0\n",
       "Rank                                     0\n",
       "Value                                    0\n",
       "dtype: int64"
      ]
     },
     "execution_count": 69,
     "metadata": {},
     "output_type": "execute_result"
    }
   ],
   "source": [
    "newcust.isnull().sum()"
   ]
  },
  {
   "cell_type": "code",
   "execution_count": 70,
   "id": "297964a8",
   "metadata": {},
   "outputs": [
    {
     "data": {
      "text/plain": [
       "0"
      ]
     },
     "execution_count": 70,
     "metadata": {},
     "output_type": "execute_result"
    }
   ],
   "source": [
    "newcust.duplicated().sum()"
   ]
  },
  {
   "cell_type": "code",
   "execution_count": 71,
   "id": "6844925d",
   "metadata": {},
   "outputs": [
    {
     "data": {
      "text/plain": [
       "array(['Male', 'Female', 'U'], dtype=object)"
      ]
     },
     "execution_count": 71,
     "metadata": {},
     "output_type": "execute_result"
    }
   ],
   "source": [
    "newcust['gender'].unique()"
   ]
  },
  {
   "cell_type": "code",
   "execution_count": 72,
   "id": "ede4cf45",
   "metadata": {},
   "outputs": [
    {
     "data": {
      "text/plain": [
       "array(['Manufacturing', 'Property', 'Financial Services', 'Entertainment',\n",
       "       'Retail', 'IT', 'Telecommunications', 'Health', nan, 'Argiculture'],\n",
       "      dtype=object)"
      ]
     },
     "execution_count": 72,
     "metadata": {},
     "output_type": "execute_result"
    }
   ],
   "source": [
    "newcust['job_industry_category'].unique()"
   ]
  },
  {
   "cell_type": "code",
   "execution_count": 73,
   "id": "5b496230",
   "metadata": {},
   "outputs": [
    {
     "data": {
      "text/plain": [
       "array(['Mass Customer', 'Affluent Customer', 'High Net Worth'],\n",
       "      dtype=object)"
      ]
     },
     "execution_count": 73,
     "metadata": {},
     "output_type": "execute_result"
    }
   ],
   "source": [
    "newcust['wealth_segment'].unique()"
   ]
  },
  {
   "cell_type": "code",
   "execution_count": 74,
   "id": "623576b1",
   "metadata": {},
   "outputs": [
    {
     "data": {
      "text/plain": [
       "array(['N'], dtype=object)"
      ]
     },
     "execution_count": 74,
     "metadata": {},
     "output_type": "execute_result"
    }
   ],
   "source": [
    "newcust['deceased_indicator'].unique()"
   ]
  },
  {
   "cell_type": "code",
   "execution_count": 75,
   "id": "27b6ad50",
   "metadata": {},
   "outputs": [
    {
     "data": {
      "text/plain": [
       "array(['Yes', 'No'], dtype=object)"
      ]
     },
     "execution_count": 75,
     "metadata": {},
     "output_type": "execute_result"
    }
   ],
   "source": [
    "newcust['owns_car'].unique()"
   ]
  },
  {
   "cell_type": "code",
   "execution_count": 76,
   "id": "4a76f3ac",
   "metadata": {},
   "outputs": [
    {
     "data": {
      "text/plain": [
       "array([14, 16, 10,  5, 19, 22,  8, 17,  3,  9,  4, 11, 12, 13,  7, 20, 15,\n",
       "        6, 18, 21,  2,  1,  0], dtype=int64)"
      ]
     },
     "execution_count": 76,
     "metadata": {},
     "output_type": "execute_result"
    }
   ],
   "source": [
    "newcust['tenure'].unique()"
   ]
  },
  {
   "cell_type": "code",
   "execution_count": 77,
   "id": "150380e5",
   "metadata": {},
   "outputs": [
    {
     "data": {
      "text/plain": [
       "array(['QLD', 'NSW', 'VIC'], dtype=object)"
      ]
     },
     "execution_count": 77,
     "metadata": {},
     "output_type": "execute_result"
    }
   ],
   "source": [
    "newcust['state'].unique()"
   ]
  },
  {
   "cell_type": "code",
   "execution_count": 78,
   "id": "b8612ed4",
   "metadata": {},
   "outputs": [
    {
     "data": {
      "text/plain": [
       "array(['Australia'], dtype=object)"
      ]
     },
     "execution_count": 78,
     "metadata": {},
     "output_type": "execute_result"
    }
   ],
   "source": [
    "newcust['country'].unique()"
   ]
  },
  {
   "cell_type": "code",
   "execution_count": 79,
   "id": "8f56d669",
   "metadata": {},
   "outputs": [
    {
     "data": {
      "text/plain": [
       "array([ 6, 11,  5,  1,  9,  7, 10,  8,  4,  2, 12,  3], dtype=int64)"
      ]
     },
     "execution_count": 79,
     "metadata": {},
     "output_type": "execute_result"
    }
   ],
   "source": [
    "newcust['property_valuation'].unique()"
   ]
  },
  {
   "cell_type": "code",
   "execution_count": 80,
   "id": "3a3a575a",
   "metadata": {},
   "outputs": [],
   "source": [
    "newcust['first_name'] = newcust['first_name'].astype(\"category\")\n",
    "newcust['last_name'] = newcust['last_name'].astype(\"category\")\n",
    "newcust['gender'] = newcust['gender'].astype(\"category\")\n",
    "newcust['job_title'] = newcust['job_title'].astype(\"category\")\n",
    "newcust['job_industry_category'] = newcust['job_industry_category'].astype(\"category\")\n",
    "newcust['wealth_segment'] = newcust['wealth_segment'].astype(\"category\")\n",
    "newcust['deceased_indicator'] = newcust['deceased_indicator'].astype(\"category\")\n",
    "newcust['owns_car'] = newcust['owns_car'].astype(\"category\")\n",
    "newcust['address'] = newcust['address'].astype('category')\n",
    "newcust['state'] = newcust['state'].astype('category')\n",
    "newcust['country'] = newcust['country'].astype('category')"
   ]
  },
  {
   "cell_type": "code",
   "execution_count": 81,
   "id": "965fbdcb",
   "metadata": {},
   "outputs": [
    {
     "name": "stdout",
     "output_type": "stream",
     "text": [
      "<class 'pandas.core.frame.DataFrame'>\n",
      "RangeIndex: 1000 entries, 0 to 999\n",
      "Data columns (total 18 columns):\n",
      " #   Column                               Non-Null Count  Dtype   \n",
      "---  ------                               --------------  -----   \n",
      " 0   first_name                           1000 non-null   category\n",
      " 1   last_name                            971 non-null    category\n",
      " 2   gender                               1000 non-null   category\n",
      " 3   past_3_years_bike_related_purchases  1000 non-null   int64   \n",
      " 4   DOB                                  983 non-null    object  \n",
      " 5   job_title                            894 non-null    category\n",
      " 6   job_industry_category                835 non-null    category\n",
      " 7   wealth_segment                       1000 non-null   category\n",
      " 8   deceased_indicator                   1000 non-null   category\n",
      " 9   owns_car                             1000 non-null   category\n",
      " 10  tenure                               1000 non-null   int64   \n",
      " 11  address                              1000 non-null   category\n",
      " 12  postcode                             1000 non-null   int64   \n",
      " 13  state                                1000 non-null   category\n",
      " 14  country                              1000 non-null   category\n",
      " 15  property_valuation                   1000 non-null   int64   \n",
      " 16  Rank                                 1000 non-null   int64   \n",
      " 17  Value                                1000 non-null   float64 \n",
      "dtypes: category(11), float64(1), int64(5), object(1)\n",
      "memory usage: 195.6+ KB\n"
     ]
    }
   ],
   "source": [
    "newcust.info()"
   ]
  },
  {
   "cell_type": "markdown",
   "id": "1ee3ad05",
   "metadata": {},
   "source": [
    "# EXPLORATORY DATA ANALYSIS"
   ]
  },
  {
   "cell_type": "markdown",
   "id": "7dab3d5b",
   "metadata": {},
   "source": [
    "#### Feature Engineering"
   ]
  },
  {
   "cell_type": "code",
   "execution_count": 82,
   "id": "c734f3f6",
   "metadata": {},
   "outputs": [
    {
     "data": {
      "text/html": [
       "<div>\n",
       "<style scoped>\n",
       "    .dataframe tbody tr th:only-of-type {\n",
       "        vertical-align: middle;\n",
       "    }\n",
       "\n",
       "    .dataframe tbody tr th {\n",
       "        vertical-align: top;\n",
       "    }\n",
       "\n",
       "    .dataframe thead th {\n",
       "        text-align: right;\n",
       "    }\n",
       "</style>\n",
       "<table border=\"1\" class=\"dataframe\">\n",
       "  <thead>\n",
       "    <tr style=\"text-align: right;\">\n",
       "      <th></th>\n",
       "      <th>transaction_id</th>\n",
       "      <th>product_id</th>\n",
       "      <th>customer_id</th>\n",
       "      <th>transaction_date</th>\n",
       "      <th>online_order</th>\n",
       "      <th>order_status</th>\n",
       "      <th>brand</th>\n",
       "      <th>product_line</th>\n",
       "      <th>product_class</th>\n",
       "      <th>product_size</th>\n",
       "      <th>list_price</th>\n",
       "      <th>standard_cost</th>\n",
       "      <th>product_first_sold_date</th>\n",
       "    </tr>\n",
       "  </thead>\n",
       "  <tbody>\n",
       "    <tr>\n",
       "      <th>0</th>\n",
       "      <td>1</td>\n",
       "      <td>2</td>\n",
       "      <td>2950</td>\n",
       "      <td>2017-02-25</td>\n",
       "      <td>False</td>\n",
       "      <td>Approved</td>\n",
       "      <td>Solex</td>\n",
       "      <td>Standard</td>\n",
       "      <td>medium</td>\n",
       "      <td>medium</td>\n",
       "      <td>71.49</td>\n",
       "      <td>53.62</td>\n",
       "      <td>2012-12-02</td>\n",
       "    </tr>\n",
       "    <tr>\n",
       "      <th>1</th>\n",
       "      <td>2</td>\n",
       "      <td>3</td>\n",
       "      <td>3120</td>\n",
       "      <td>2017-05-21</td>\n",
       "      <td>True</td>\n",
       "      <td>Approved</td>\n",
       "      <td>Trek Bicycles</td>\n",
       "      <td>Standard</td>\n",
       "      <td>medium</td>\n",
       "      <td>large</td>\n",
       "      <td>2091.47</td>\n",
       "      <td>388.92</td>\n",
       "      <td>2014-03-03</td>\n",
       "    </tr>\n",
       "    <tr>\n",
       "      <th>2</th>\n",
       "      <td>3</td>\n",
       "      <td>37</td>\n",
       "      <td>402</td>\n",
       "      <td>2017-10-16</td>\n",
       "      <td>False</td>\n",
       "      <td>Approved</td>\n",
       "      <td>OHM Cycles</td>\n",
       "      <td>Standard</td>\n",
       "      <td>low</td>\n",
       "      <td>medium</td>\n",
       "      <td>1793.43</td>\n",
       "      <td>248.82</td>\n",
       "      <td>1999-07-20</td>\n",
       "    </tr>\n",
       "    <tr>\n",
       "      <th>3</th>\n",
       "      <td>4</td>\n",
       "      <td>88</td>\n",
       "      <td>3135</td>\n",
       "      <td>2017-08-31</td>\n",
       "      <td>False</td>\n",
       "      <td>Approved</td>\n",
       "      <td>Norco Bicycles</td>\n",
       "      <td>Standard</td>\n",
       "      <td>medium</td>\n",
       "      <td>medium</td>\n",
       "      <td>1198.46</td>\n",
       "      <td>381.10</td>\n",
       "      <td>1998-12-16</td>\n",
       "    </tr>\n",
       "    <tr>\n",
       "      <th>4</th>\n",
       "      <td>5</td>\n",
       "      <td>78</td>\n",
       "      <td>787</td>\n",
       "      <td>2017-10-01</td>\n",
       "      <td>True</td>\n",
       "      <td>Approved</td>\n",
       "      <td>Giant Bicycles</td>\n",
       "      <td>Standard</td>\n",
       "      <td>medium</td>\n",
       "      <td>large</td>\n",
       "      <td>1765.30</td>\n",
       "      <td>709.48</td>\n",
       "      <td>2015-08-10</td>\n",
       "    </tr>\n",
       "  </tbody>\n",
       "</table>\n",
       "</div>"
      ],
      "text/plain": [
       "   transaction_id  product_id  customer_id transaction_date online_order  \\\n",
       "0               1           2         2950       2017-02-25        False   \n",
       "1               2           3         3120       2017-05-21         True   \n",
       "2               3          37          402       2017-10-16        False   \n",
       "3               4          88         3135       2017-08-31        False   \n",
       "4               5          78          787       2017-10-01         True   \n",
       "\n",
       "  order_status           brand product_line product_class product_size  \\\n",
       "0     Approved           Solex     Standard        medium       medium   \n",
       "1     Approved   Trek Bicycles     Standard        medium        large   \n",
       "2     Approved      OHM Cycles     Standard           low       medium   \n",
       "3     Approved  Norco Bicycles     Standard        medium       medium   \n",
       "4     Approved  Giant Bicycles     Standard        medium        large   \n",
       "\n",
       "   list_price  standard_cost product_first_sold_date  \n",
       "0       71.49          53.62              2012-12-02  \n",
       "1     2091.47         388.92              2014-03-03  \n",
       "2     1793.43         248.82              1999-07-20  \n",
       "3     1198.46         381.10              1998-12-16  \n",
       "4     1765.30         709.48              2015-08-10  "
      ]
     },
     "execution_count": 82,
     "metadata": {},
     "output_type": "execute_result"
    }
   ],
   "source": [
    "transactions.head()"
   ]
  },
  {
   "cell_type": "markdown",
   "id": "215f42a4",
   "metadata": {},
   "source": [
    "#### Created new column 'profit'"
   ]
  },
  {
   "cell_type": "code",
   "execution_count": 83,
   "id": "6cff3608",
   "metadata": {},
   "outputs": [],
   "source": [
    "transactions['Profit'] = transactions['list_price'] - transactions['standard_cost']"
   ]
  },
  {
   "cell_type": "code",
   "execution_count": 84,
   "id": "0d6eb2d3",
   "metadata": {},
   "outputs": [
    {
     "data": {
      "text/html": [
       "<div>\n",
       "<style scoped>\n",
       "    .dataframe tbody tr th:only-of-type {\n",
       "        vertical-align: middle;\n",
       "    }\n",
       "\n",
       "    .dataframe tbody tr th {\n",
       "        vertical-align: top;\n",
       "    }\n",
       "\n",
       "    .dataframe thead th {\n",
       "        text-align: right;\n",
       "    }\n",
       "</style>\n",
       "<table border=\"1\" class=\"dataframe\">\n",
       "  <thead>\n",
       "    <tr style=\"text-align: right;\">\n",
       "      <th></th>\n",
       "      <th>transaction_id</th>\n",
       "      <th>product_id</th>\n",
       "      <th>customer_id</th>\n",
       "      <th>transaction_date</th>\n",
       "      <th>online_order</th>\n",
       "      <th>order_status</th>\n",
       "      <th>brand</th>\n",
       "      <th>product_line</th>\n",
       "      <th>product_class</th>\n",
       "      <th>product_size</th>\n",
       "      <th>list_price</th>\n",
       "      <th>standard_cost</th>\n",
       "      <th>product_first_sold_date</th>\n",
       "      <th>Profit</th>\n",
       "    </tr>\n",
       "  </thead>\n",
       "  <tbody>\n",
       "    <tr>\n",
       "      <th>0</th>\n",
       "      <td>1</td>\n",
       "      <td>2</td>\n",
       "      <td>2950</td>\n",
       "      <td>2017-02-25</td>\n",
       "      <td>False</td>\n",
       "      <td>Approved</td>\n",
       "      <td>Solex</td>\n",
       "      <td>Standard</td>\n",
       "      <td>medium</td>\n",
       "      <td>medium</td>\n",
       "      <td>71.49</td>\n",
       "      <td>53.62</td>\n",
       "      <td>2012-12-02</td>\n",
       "      <td>17.87</td>\n",
       "    </tr>\n",
       "    <tr>\n",
       "      <th>1</th>\n",
       "      <td>2</td>\n",
       "      <td>3</td>\n",
       "      <td>3120</td>\n",
       "      <td>2017-05-21</td>\n",
       "      <td>True</td>\n",
       "      <td>Approved</td>\n",
       "      <td>Trek Bicycles</td>\n",
       "      <td>Standard</td>\n",
       "      <td>medium</td>\n",
       "      <td>large</td>\n",
       "      <td>2091.47</td>\n",
       "      <td>388.92</td>\n",
       "      <td>2014-03-03</td>\n",
       "      <td>1702.55</td>\n",
       "    </tr>\n",
       "    <tr>\n",
       "      <th>2</th>\n",
       "      <td>3</td>\n",
       "      <td>37</td>\n",
       "      <td>402</td>\n",
       "      <td>2017-10-16</td>\n",
       "      <td>False</td>\n",
       "      <td>Approved</td>\n",
       "      <td>OHM Cycles</td>\n",
       "      <td>Standard</td>\n",
       "      <td>low</td>\n",
       "      <td>medium</td>\n",
       "      <td>1793.43</td>\n",
       "      <td>248.82</td>\n",
       "      <td>1999-07-20</td>\n",
       "      <td>1544.61</td>\n",
       "    </tr>\n",
       "    <tr>\n",
       "      <th>3</th>\n",
       "      <td>4</td>\n",
       "      <td>88</td>\n",
       "      <td>3135</td>\n",
       "      <td>2017-08-31</td>\n",
       "      <td>False</td>\n",
       "      <td>Approved</td>\n",
       "      <td>Norco Bicycles</td>\n",
       "      <td>Standard</td>\n",
       "      <td>medium</td>\n",
       "      <td>medium</td>\n",
       "      <td>1198.46</td>\n",
       "      <td>381.10</td>\n",
       "      <td>1998-12-16</td>\n",
       "      <td>817.36</td>\n",
       "    </tr>\n",
       "    <tr>\n",
       "      <th>4</th>\n",
       "      <td>5</td>\n",
       "      <td>78</td>\n",
       "      <td>787</td>\n",
       "      <td>2017-10-01</td>\n",
       "      <td>True</td>\n",
       "      <td>Approved</td>\n",
       "      <td>Giant Bicycles</td>\n",
       "      <td>Standard</td>\n",
       "      <td>medium</td>\n",
       "      <td>large</td>\n",
       "      <td>1765.30</td>\n",
       "      <td>709.48</td>\n",
       "      <td>2015-08-10</td>\n",
       "      <td>1055.82</td>\n",
       "    </tr>\n",
       "  </tbody>\n",
       "</table>\n",
       "</div>"
      ],
      "text/plain": [
       "   transaction_id  product_id  customer_id transaction_date online_order  \\\n",
       "0               1           2         2950       2017-02-25        False   \n",
       "1               2           3         3120       2017-05-21         True   \n",
       "2               3          37          402       2017-10-16        False   \n",
       "3               4          88         3135       2017-08-31        False   \n",
       "4               5          78          787       2017-10-01         True   \n",
       "\n",
       "  order_status           brand product_line product_class product_size  \\\n",
       "0     Approved           Solex     Standard        medium       medium   \n",
       "1     Approved   Trek Bicycles     Standard        medium        large   \n",
       "2     Approved      OHM Cycles     Standard           low       medium   \n",
       "3     Approved  Norco Bicycles     Standard        medium       medium   \n",
       "4     Approved  Giant Bicycles     Standard        medium        large   \n",
       "\n",
       "   list_price  standard_cost product_first_sold_date   Profit  \n",
       "0       71.49          53.62              2012-12-02    17.87  \n",
       "1     2091.47         388.92              2014-03-03  1702.55  \n",
       "2     1793.43         248.82              1999-07-20  1544.61  \n",
       "3     1198.46         381.10              1998-12-16   817.36  \n",
       "4     1765.30         709.48              2015-08-10  1055.82  "
      ]
     },
     "execution_count": 84,
     "metadata": {},
     "output_type": "execute_result"
    }
   ],
   "source": [
    "transactions.head()"
   ]
  },
  {
   "cell_type": "markdown",
   "id": "db894ccd",
   "metadata": {},
   "source": [
    "#### Calculating 'age' from DOB"
   ]
  },
  {
   "cell_type": "code",
   "execution_count": 87,
   "id": "c2d316eb",
   "metadata": {},
   "outputs": [
    {
     "data": {
      "text/html": [
       "<div>\n",
       "<style scoped>\n",
       "    .dataframe tbody tr th:only-of-type {\n",
       "        vertical-align: middle;\n",
       "    }\n",
       "\n",
       "    .dataframe tbody tr th {\n",
       "        vertical-align: top;\n",
       "    }\n",
       "\n",
       "    .dataframe thead th {\n",
       "        text-align: right;\n",
       "    }\n",
       "</style>\n",
       "<table border=\"1\" class=\"dataframe\">\n",
       "  <thead>\n",
       "    <tr style=\"text-align: right;\">\n",
       "      <th></th>\n",
       "      <th>customer_id</th>\n",
       "      <th>first_name</th>\n",
       "      <th>last_name</th>\n",
       "      <th>gender</th>\n",
       "      <th>past_3_years_bike_related_purchases</th>\n",
       "      <th>DOB</th>\n",
       "      <th>job_title</th>\n",
       "      <th>job_industry_category</th>\n",
       "      <th>wealth_segment</th>\n",
       "      <th>deceased_indicator</th>\n",
       "      <th>owns_car</th>\n",
       "      <th>tenure</th>\n",
       "      <th>Unnamed: 13</th>\n",
       "    </tr>\n",
       "  </thead>\n",
       "  <tbody>\n",
       "    <tr>\n",
       "      <th>0</th>\n",
       "      <td>34</td>\n",
       "      <td>Jephthah</td>\n",
       "      <td>Bachmann</td>\n",
       "      <td>U</td>\n",
       "      <td>59</td>\n",
       "      <td>1843-12-21</td>\n",
       "      <td>Legal Assistant</td>\n",
       "      <td>IT</td>\n",
       "      <td>Affluent Customer</td>\n",
       "      <td>N</td>\n",
       "      <td>No</td>\n",
       "      <td>20.0</td>\n",
       "      <td>NaN</td>\n",
       "    </tr>\n",
       "    <tr>\n",
       "      <th>1</th>\n",
       "      <td>66</td>\n",
       "      <td>Anselm</td>\n",
       "      <td>Gawne</td>\n",
       "      <td>Male</td>\n",
       "      <td>46</td>\n",
       "      <td>2002-03-11 00:00:00</td>\n",
       "      <td>Account Executive</td>\n",
       "      <td>Argiculture</td>\n",
       "      <td>High Net Worth</td>\n",
       "      <td>N</td>\n",
       "      <td>No</td>\n",
       "      <td>1.0</td>\n",
       "      <td>NaN</td>\n",
       "    </tr>\n",
       "    <tr>\n",
       "      <th>2</th>\n",
       "      <td>1888</td>\n",
       "      <td>Sibyl</td>\n",
       "      <td>Scholtz</td>\n",
       "      <td>Female</td>\n",
       "      <td>67</td>\n",
       "      <td>2002-01-26 00:00:00</td>\n",
       "      <td>Food Chemist</td>\n",
       "      <td>Health</td>\n",
       "      <td>Mass Customer</td>\n",
       "      <td>N</td>\n",
       "      <td>Yes</td>\n",
       "      <td>1.0</td>\n",
       "      <td>NaN</td>\n",
       "    </tr>\n",
       "    <tr>\n",
       "      <th>3</th>\n",
       "      <td>3435</td>\n",
       "      <td>Stevena</td>\n",
       "      <td>Allcock</td>\n",
       "      <td>Female</td>\n",
       "      <td>80</td>\n",
       "      <td>2002-01-15 00:00:00</td>\n",
       "      <td>Senior Editor</td>\n",
       "      <td>Manufacturing</td>\n",
       "      <td>Affluent Customer</td>\n",
       "      <td>N</td>\n",
       "      <td>No</td>\n",
       "      <td>1.0</td>\n",
       "      <td>NaN</td>\n",
       "    </tr>\n",
       "    <tr>\n",
       "      <th>4</th>\n",
       "      <td>2858</td>\n",
       "      <td>Benedicto</td>\n",
       "      <td>Radki</td>\n",
       "      <td>Male</td>\n",
       "      <td>4</td>\n",
       "      <td>2002-01-09 00:00:00</td>\n",
       "      <td>Recruiting Manager</td>\n",
       "      <td>Manufacturing</td>\n",
       "      <td>Mass Customer</td>\n",
       "      <td>N</td>\n",
       "      <td>Yes</td>\n",
       "      <td>1.0</td>\n",
       "      <td>NaN</td>\n",
       "    </tr>\n",
       "  </tbody>\n",
       "</table>\n",
       "</div>"
      ],
      "text/plain": [
       "   customer_id first_name last_name  gender  \\\n",
       "0           34   Jephthah  Bachmann       U   \n",
       "1           66     Anselm     Gawne    Male   \n",
       "2         1888      Sibyl   Scholtz  Female   \n",
       "3         3435    Stevena   Allcock  Female   \n",
       "4         2858  Benedicto     Radki    Male   \n",
       "\n",
       "   past_3_years_bike_related_purchases                  DOB  \\\n",
       "0                                   59           1843-12-21   \n",
       "1                                   46  2002-03-11 00:00:00   \n",
       "2                                   67  2002-01-26 00:00:00   \n",
       "3                                   80  2002-01-15 00:00:00   \n",
       "4                                    4  2002-01-09 00:00:00   \n",
       "\n",
       "            job_title job_industry_category     wealth_segment  \\\n",
       "0     Legal Assistant                    IT  Affluent Customer   \n",
       "1   Account Executive           Argiculture     High Net Worth   \n",
       "2        Food Chemist                Health      Mass Customer   \n",
       "3       Senior Editor         Manufacturing  Affluent Customer   \n",
       "4  Recruiting Manager         Manufacturing      Mass Customer   \n",
       "\n",
       "  deceased_indicator owns_car  tenure Unnamed: 13  \n",
       "0                  N       No    20.0         NaN  \n",
       "1                  N       No     1.0         NaN  \n",
       "2                  N      Yes     1.0         NaN  \n",
       "3                  N       No     1.0         NaN  \n",
       "4                  N      Yes     1.0         NaN  "
      ]
     },
     "execution_count": 87,
     "metadata": {},
     "output_type": "execute_result"
    }
   ],
   "source": [
    "custdemo.head()"
   ]
  },
  {
   "cell_type": "code",
   "execution_count": 90,
   "id": "4e9d35cf",
   "metadata": {},
   "outputs": [
    {
     "data": {
      "text/plain": [
       "dtype('O')"
      ]
     },
     "execution_count": 90,
     "metadata": {},
     "output_type": "execute_result"
    }
   ],
   "source": [
    "custdemo.DOB.dtype"
   ]
  },
  {
   "cell_type": "code",
   "execution_count": 97,
   "id": "eac9f87b",
   "metadata": {},
   "outputs": [
    {
     "name": "stdout",
     "output_type": "stream",
     "text": [
      "      customer_id first_name last_name  gender  \\\n",
      "0              34   Jephthah  Bachmann       U   \n",
      "1              66     Anselm     Gawne    Male   \n",
      "2            1888      Sibyl   Scholtz  Female   \n",
      "3            3435    Stevena   Allcock  Female   \n",
      "4            2858  Benedicto     Radki    Male   \n",
      "...           ...        ...       ...     ...   \n",
      "3908          658       Donn   Bonnell    Male   \n",
      "3909         2413      Abbey    Murrow    Male   \n",
      "3910         3410    Merrili   Brittin  Female   \n",
      "3911         1092     Katlin   Creddon  Female   \n",
      "3912          720     Darrel     Canet    Male   \n",
      "\n",
      "      past_3_years_bike_related_purchases        DOB  \\\n",
      "0                                      59 1843-12-21   \n",
      "1                                      46 2002-03-11   \n",
      "2                                      67 2002-01-26   \n",
      "3                                      80 2002-01-15   \n",
      "4                                       4 2002-01-09   \n",
      "...                                   ...        ...   \n",
      "3908                                   38 1944-01-24   \n",
      "3909                                   27 1943-08-11   \n",
      "3910                                   93 1940-09-22   \n",
      "3911                                   56 1935-08-22   \n",
      "3912                                   67 1931-10-23   \n",
      "\n",
      "                                 job_title job_industry_category  \\\n",
      "0                          Legal Assistant                    IT   \n",
      "1                        Account Executive           Argiculture   \n",
      "2                             Food Chemist                Health   \n",
      "3                            Senior Editor         Manufacturing   \n",
      "4                       Recruiting Manager         Manufacturing   \n",
      "...                                    ...                   ...   \n",
      "3908                        Tax Accountant         Manufacturing   \n",
      "3909              Environmental Specialist         Manufacturing   \n",
      "3910  Business Systems Development Analyst              Property   \n",
      "3911                    VP Quality Control                Retail   \n",
      "3912                    Recruiting Manager                Retail   \n",
      "\n",
      "         wealth_segment deceased_indicator owns_car  tenure Unnamed: 13  Age  \n",
      "0     Affluent Customer                  N       No    20.0         NaN  179  \n",
      "1        High Net Worth                  N       No     1.0         NaN   21  \n",
      "2         Mass Customer                  N      Yes     1.0         NaN   21  \n",
      "3     Affluent Customer                  N       No     1.0         NaN   21  \n",
      "4         Mass Customer                  N      Yes     1.0         NaN   21  \n",
      "...                 ...                ...      ...     ...         ...  ...  \n",
      "3908  Affluent Customer                  N      Yes     8.0         NaN   79  \n",
      "3909     High Net Worth                  N      Yes    17.0         NaN   80  \n",
      "3910      Mass Customer                  N       No    16.0         NaN   83  \n",
      "3911      Mass Customer                  N       No     5.0         NaN   88  \n",
      "3912  Affluent Customer                  N       No     6.0         NaN   91  \n",
      "\n",
      "[3911 rows x 14 columns]\n"
     ]
    }
   ],
   "source": [
    "import pandas as pd\n",
    "from datetime import datetime\n",
    "\n",
    "# Assuming 'DOB' is your date of birth column in the custdemo DataFrame\n",
    "# Convert 'DOB' column to datetime and handle invalid dates by setting them to NaT (Not-a-Time)\n",
    "custdemo['DOB'] = pd.to_datetime(custdemo['DOB'], errors='coerce')\n",
    "\n",
    "# Filter out rows with NaT (invalid) values in the 'DOB' column\n",
    "custdemo = custdemo.dropna(subset=['DOB'])\n",
    "\n",
    "# Calculate the current date\n",
    "current_date = datetime.now()\n",
    "\n",
    "# Calculate age in years\n",
    "custdemo['Age'] = ((current_date - custdemo['DOB']).dt.days / 365).astype(int)\n",
    "\n",
    "# Print the updated DataFrame\n",
    "print(custdemo)"
   ]
  },
  {
   "cell_type": "code",
   "execution_count": 98,
   "id": "86befcb9",
   "metadata": {},
   "outputs": [
    {
     "data": {
      "text/plain": [
       "count    3911.000000\n",
       "mean       45.738941\n",
       "std        12.807252\n",
       "min        21.000000\n",
       "25%        36.000000\n",
       "50%        46.000000\n",
       "75%        55.000000\n",
       "max       179.000000\n",
       "Name: Age, dtype: float64"
      ]
     },
     "execution_count": 98,
     "metadata": {},
     "output_type": "execute_result"
    }
   ],
   "source": [
    "custdemo.Age.describe()"
   ]
  },
  {
   "cell_type": "code",
   "execution_count": 99,
   "id": "8e84172e",
   "metadata": {},
   "outputs": [
    {
     "data": {
      "text/html": [
       "<div>\n",
       "<style scoped>\n",
       "    .dataframe tbody tr th:only-of-type {\n",
       "        vertical-align: middle;\n",
       "    }\n",
       "\n",
       "    .dataframe tbody tr th {\n",
       "        vertical-align: top;\n",
       "    }\n",
       "\n",
       "    .dataframe thead th {\n",
       "        text-align: right;\n",
       "    }\n",
       "</style>\n",
       "<table border=\"1\" class=\"dataframe\">\n",
       "  <thead>\n",
       "    <tr style=\"text-align: right;\">\n",
       "      <th></th>\n",
       "      <th>customer_id</th>\n",
       "      <th>first_name</th>\n",
       "      <th>last_name</th>\n",
       "      <th>gender</th>\n",
       "      <th>past_3_years_bike_related_purchases</th>\n",
       "      <th>DOB</th>\n",
       "      <th>job_title</th>\n",
       "      <th>job_industry_category</th>\n",
       "      <th>wealth_segment</th>\n",
       "      <th>deceased_indicator</th>\n",
       "      <th>owns_car</th>\n",
       "      <th>tenure</th>\n",
       "      <th>Unnamed: 13</th>\n",
       "      <th>Age</th>\n",
       "    </tr>\n",
       "  </thead>\n",
       "  <tbody>\n",
       "    <tr>\n",
       "      <th>0</th>\n",
       "      <td>34</td>\n",
       "      <td>Jephthah</td>\n",
       "      <td>Bachmann</td>\n",
       "      <td>U</td>\n",
       "      <td>59</td>\n",
       "      <td>1843-12-21</td>\n",
       "      <td>Legal Assistant</td>\n",
       "      <td>IT</td>\n",
       "      <td>Affluent Customer</td>\n",
       "      <td>N</td>\n",
       "      <td>No</td>\n",
       "      <td>20.0</td>\n",
       "      <td>NaN</td>\n",
       "      <td>179</td>\n",
       "    </tr>\n",
       "  </tbody>\n",
       "</table>\n",
       "</div>"
      ],
      "text/plain": [
       "   customer_id first_name last_name gender  \\\n",
       "0           34   Jephthah  Bachmann      U   \n",
       "\n",
       "   past_3_years_bike_related_purchases        DOB        job_title  \\\n",
       "0                                   59 1843-12-21  Legal Assistant   \n",
       "\n",
       "  job_industry_category     wealth_segment deceased_indicator owns_car  \\\n",
       "0                    IT  Affluent Customer                  N       No   \n",
       "\n",
       "   tenure Unnamed: 13  Age  \n",
       "0    20.0         NaN  179  "
      ]
     },
     "execution_count": 99,
     "metadata": {},
     "output_type": "execute_result"
    }
   ],
   "source": [
    "filtered = custdemo[custdemo['Age'] > 100]\n",
    "filtered"
   ]
  },
  {
   "cell_type": "markdown",
   "id": "9e0946fe",
   "metadata": {},
   "source": [
    "Observation- We see here that the maximum age is 179 which we know cannot be possible. So, we change the DOB for this customer from `1843-12-21` to `1943-12-21` and also calculate the age again."
   ]
  },
  {
   "cell_type": "code",
   "execution_count": 106,
   "id": "e11093dc",
   "metadata": {},
   "outputs": [],
   "source": [
    "# Change the DOB for the first customer in the filtered dataframe\n",
    "custdemo.at[custdemo.index[0], 'DOB'] = pd.to_datetime('1943-12-21')"
   ]
  },
  {
   "cell_type": "code",
   "execution_count": 107,
   "id": "40d9d2ee",
   "metadata": {},
   "outputs": [],
   "source": [
    "age = (today - custdemo['DOB']) / pd.Timedelta(days=365)\n",
    "\n",
    "custdemo['Age'] = age.round().astype('Int64')"
   ]
  },
  {
   "cell_type": "code",
   "execution_count": 108,
   "id": "9d398b97",
   "metadata": {},
   "outputs": [
    {
     "data": {
      "text/plain": [
       "count       3911.0\n",
       "mean      46.23549\n",
       "std      12.651861\n",
       "min           22.0\n",
       "25%           37.0\n",
       "50%           46.0\n",
       "75%           56.0\n",
       "max           92.0\n",
       "Name: Age, dtype: Float64"
      ]
     },
     "execution_count": 108,
     "metadata": {},
     "output_type": "execute_result"
    }
   ],
   "source": [
    "custdemo.Age.describe()"
   ]
  },
  {
   "cell_type": "code",
   "execution_count": 118,
   "id": "d5a4914a",
   "metadata": {},
   "outputs": [],
   "source": [
    "custdemo['Age'] = custdemo['Age'].astype(float)"
   ]
  },
  {
   "cell_type": "code",
   "execution_count": 119,
   "id": "2e1a44f7",
   "metadata": {},
   "outputs": [],
   "source": [
    "custdemo = custdemo[custdemo['Age'].apply(lambda x: isinstance(x, (int, float)))]"
   ]
  },
  {
   "cell_type": "code",
   "execution_count": 121,
   "id": "493e6c43",
   "metadata": {},
   "outputs": [
    {
     "data": {
      "image/png": "[encoded data removed]",
      "text/plain": [
       "<Figure size 720x360 with 2 Axes>"
      ]
     },
     "metadata": {
      "needs_background": "light"
     },
     "output_type": "display_data"
    }
   ],
   "source": [
    "import seaborn as sns\n",
    "import matplotlib.pyplot as plt\n",
    "\n",
    "# Create subplots for histogram and boxplot\n",
    "fig, axs = plt.subplots(nrows=1, ncols=2, figsize=(10, 5))\n",
    "\n",
    "# Plot histogram without KDE\n",
    "sns.histplot(data=custdemo, x='Age', kde=True, ax=axs[0])\n",
    "\n",
    "# Plot boxplot\n",
    "sns.boxplot(x='Age', data=custdemo, ax=axs[1])\n",
    "\n",
    "# Show the plots\n",
    "plt.show()"
   ]
  },
  {
   "cell_type": "markdown",
   "id": "cd32be52",
   "metadata": {},
   "source": [
    "Since is `Age` key variable for our analysis, we will try to deal with the missing values and impute it.\n",
    "\n",
    "We can see that the variable `Age` is almost normally distributed. So we can use either of the central tendency values(mean/median) to deal with missing values.\n",
    "\n",
    "**Here we will use median to impute the values.**"
   ]
  },
  {
   "cell_type": "code",
   "execution_count": 122,
   "id": "5125d457",
   "metadata": {},
   "outputs": [
    {
     "data": {
      "text/html": [
       "<div>\n",
       "<style scoped>\n",
       "    .dataframe tbody tr th:only-of-type {\n",
       "        vertical-align: middle;\n",
       "    }\n",
       "\n",
       "    .dataframe tbody tr th {\n",
       "        vertical-align: top;\n",
       "    }\n",
       "\n",
       "    .dataframe thead th {\n",
       "        text-align: right;\n",
       "    }\n",
       "</style>\n",
       "<table border=\"1\" class=\"dataframe\">\n",
       "  <thead>\n",
       "    <tr style=\"text-align: right;\">\n",
       "      <th></th>\n",
       "      <th>customer_id</th>\n",
       "      <th>first_name</th>\n",
       "      <th>last_name</th>\n",
       "      <th>gender</th>\n",
       "      <th>past_3_years_bike_related_purchases</th>\n",
       "      <th>DOB</th>\n",
       "      <th>job_title</th>\n",
       "      <th>job_industry_category</th>\n",
       "      <th>wealth_segment</th>\n",
       "      <th>deceased_indicator</th>\n",
       "      <th>owns_car</th>\n",
       "      <th>tenure</th>\n",
       "      <th>Unnamed: 13</th>\n",
       "      <th>Age</th>\n",
       "    </tr>\n",
       "  </thead>\n",
       "  <tbody>\n",
       "  </tbody>\n",
       "</table>\n",
       "</div>"
      ],
      "text/plain": [
       "Empty DataFrame\n",
       "Columns: [customer_id, first_name, last_name, gender, past_3_years_bike_related_purchases, DOB, job_title, job_industry_category, wealth_segment, deceased_indicator, owns_car, tenure, Unnamed: 13, Age]\n",
       "Index: []"
      ]
     },
     "execution_count": 122,
     "metadata": {},
     "output_type": "execute_result"
    }
   ],
   "source": [
    "custdemo.Age = custdemo.Age.fillna(custdemo.Age.median())\n",
    "custdemo[custdemo.Age.isnull()]"
   ]
  },
  {
   "cell_type": "markdown",
   "id": "9c6a6f82",
   "metadata": {},
   "source": [
    "We can also drop the DOB column now is it is not needed."
   ]
  },
  {
   "cell_type": "code",
   "execution_count": 123,
   "id": "38e6a301",
   "metadata": {},
   "outputs": [],
   "source": [
    "custdemo.drop('DOB',axis=1, inplace=True)"
   ]
  },
  {
   "cell_type": "code",
   "execution_count": 124,
   "id": "675b0c6b",
   "metadata": {},
   "outputs": [
    {
     "name": "stdout",
     "output_type": "stream",
     "text": [
      "<class 'pandas.core.frame.DataFrame'>\n",
      "Index: 3911 entries, 0 to 3912\n",
      "Data columns (total 13 columns):\n",
      " #   Column                               Non-Null Count  Dtype   \n",
      "---  ------                               --------------  -----   \n",
      " 0   customer_id                          3911 non-null   int64   \n",
      " 1   first_name                           3911 non-null   category\n",
      " 2   last_name                            3790 non-null   category\n",
      " 3   gender                               3911 non-null   category\n",
      " 4   past_3_years_bike_related_purchases  3911 non-null   int64   \n",
      " 5   job_title                            3911 non-null   category\n",
      " 6   job_industry_category                3911 non-null   category\n",
      " 7   wealth_segment                       3911 non-null   category\n",
      " 8   deceased_indicator                   3911 non-null   category\n",
      " 9   owns_car                             3911 non-null   category\n",
      " 10  tenure                               3911 non-null   float64 \n",
      " 11  Unnamed: 13                          1 non-null      object  \n",
      " 12  Age                                  3911 non-null   float64 \n",
      "dtypes: category(8), float64(2), int64(2), object(1)\n",
      "memory usage: 608.0+ KB\n"
     ]
    }
   ],
   "source": [
    "custdemo.info()"
   ]
  },
  {
   "cell_type": "code",
   "execution_count": 125,
   "id": "82ae9a09",
   "metadata": {},
   "outputs": [],
   "source": [
    "custdemo.drop('Unnamed: 13',axis=1, inplace=True)"
   ]
  },
  {
   "cell_type": "markdown",
   "id": "8b0d4b13",
   "metadata": {},
   "source": [
    "## RFM Analysis"
   ]
  },
  {
   "cell_type": "markdown",
   "id": "d05d6cd2",
   "metadata": {},
   "source": [
    "RFM analysis is like a secret code that helps businesses figure out which customers are the best. It looks at three things:\n",
    "\n",
    "1. **Recency**: This means how recently a customer has shopped with the business. If someone just bought something, they have high recency.\n",
    "\n",
    "2. **Frequency**: This is about how often a customer shops. If someone shops a lot, they have high frequency.\n",
    "\n",
    "3. **Monetary Value**: This looks at how much money a customer spends. If someone spends a lot, they have high monetary value.\n",
    "\n",
    "So, when a business does RFM analysis, they can group their customers into different categories. The customers who shop a lot, recently, and spend a bunch of money are like gold. The business gives them special deals and treats to keep them happy. It helps the business figure out who their best customers are and how to make them even happier."
   ]
  },
  {
   "cell_type": "markdown",
   "id": "fdc9cfe4",
   "metadata": {},
   "source": [
    "**Merge all the 3 tables**\n",
    "\n",
    "i.e. Transactions, CustomerDemographic and CustomerAddress"
   ]
  },
  {
   "cell_type": "code",
   "execution_count": 127,
   "id": "4cb312be",
   "metadata": {},
   "outputs": [],
   "source": [
    "new_table = address.merge(pd.merge(left=transactions, right=custdemo, how='inner', on='customer_id'), on='customer_id',suffixes= ('_x', '_y'))"
   ]
  },
  {
   "cell_type": "code",
   "execution_count": 128,
   "id": "71cb7c67",
   "metadata": {},
   "outputs": [
    {
     "data": {
      "text/html": [
       "<div>\n",
       "<style scoped>\n",
       "    .dataframe tbody tr th:only-of-type {\n",
       "        vertical-align: middle;\n",
       "    }\n",
       "\n",
       "    .dataframe tbody tr th {\n",
       "        vertical-align: top;\n",
       "    }\n",
       "\n",
       "    .dataframe thead th {\n",
       "        text-align: right;\n",
       "    }\n",
       "</style>\n",
       "<table border=\"1\" class=\"dataframe\">\n",
       "  <thead>\n",
       "    <tr style=\"text-align: right;\">\n",
       "      <th></th>\n",
       "      <th>customer_id</th>\n",
       "      <th>address</th>\n",
       "      <th>postcode</th>\n",
       "      <th>state</th>\n",
       "      <th>country</th>\n",
       "      <th>property_valuation</th>\n",
       "      <th>transaction_id</th>\n",
       "      <th>product_id</th>\n",
       "      <th>transaction_date</th>\n",
       "      <th>online_order</th>\n",
       "      <th>...</th>\n",
       "      <th>last_name</th>\n",
       "      <th>gender</th>\n",
       "      <th>past_3_years_bike_related_purchases</th>\n",
       "      <th>job_title</th>\n",
       "      <th>job_industry_category</th>\n",
       "      <th>wealth_segment</th>\n",
       "      <th>deceased_indicator</th>\n",
       "      <th>owns_car</th>\n",
       "      <th>tenure</th>\n",
       "      <th>Age</th>\n",
       "    </tr>\n",
       "  </thead>\n",
       "  <tbody>\n",
       "    <tr>\n",
       "      <th>0</th>\n",
       "      <td>1</td>\n",
       "      <td>060 Morning Avenue</td>\n",
       "      <td>2016</td>\n",
       "      <td>New South Wales</td>\n",
       "      <td>Australia</td>\n",
       "      <td>10</td>\n",
       "      <td>94</td>\n",
       "      <td>86</td>\n",
       "      <td>2017-12-23</td>\n",
       "      <td>False</td>\n",
       "      <td>...</td>\n",
       "      <td>Medendorp</td>\n",
       "      <td>Female</td>\n",
       "      <td>93</td>\n",
       "      <td>Executive Secretary</td>\n",
       "      <td>Health</td>\n",
       "      <td>Mass Customer</td>\n",
       "      <td>N</td>\n",
       "      <td>Yes</td>\n",
       "      <td>11.0</td>\n",
       "      <td>70.0</td>\n",
       "    </tr>\n",
       "    <tr>\n",
       "      <th>1</th>\n",
       "      <td>1</td>\n",
       "      <td>060 Morning Avenue</td>\n",
       "      <td>2016</td>\n",
       "      <td>New South Wales</td>\n",
       "      <td>Australia</td>\n",
       "      <td>10</td>\n",
       "      <td>3765</td>\n",
       "      <td>38</td>\n",
       "      <td>2017-04-06</td>\n",
       "      <td>True</td>\n",
       "      <td>...</td>\n",
       "      <td>Medendorp</td>\n",
       "      <td>Female</td>\n",
       "      <td>93</td>\n",
       "      <td>Executive Secretary</td>\n",
       "      <td>Health</td>\n",
       "      <td>Mass Customer</td>\n",
       "      <td>N</td>\n",
       "      <td>Yes</td>\n",
       "      <td>11.0</td>\n",
       "      <td>70.0</td>\n",
       "    </tr>\n",
       "    <tr>\n",
       "      <th>2</th>\n",
       "      <td>1</td>\n",
       "      <td>060 Morning Avenue</td>\n",
       "      <td>2016</td>\n",
       "      <td>New South Wales</td>\n",
       "      <td>Australia</td>\n",
       "      <td>10</td>\n",
       "      <td>5157</td>\n",
       "      <td>47</td>\n",
       "      <td>2017-05-11</td>\n",
       "      <td>True</td>\n",
       "      <td>...</td>\n",
       "      <td>Medendorp</td>\n",
       "      <td>Female</td>\n",
       "      <td>93</td>\n",
       "      <td>Executive Secretary</td>\n",
       "      <td>Health</td>\n",
       "      <td>Mass Customer</td>\n",
       "      <td>N</td>\n",
       "      <td>Yes</td>\n",
       "      <td>11.0</td>\n",
       "      <td>70.0</td>\n",
       "    </tr>\n",
       "    <tr>\n",
       "      <th>3</th>\n",
       "      <td>1</td>\n",
       "      <td>060 Morning Avenue</td>\n",
       "      <td>2016</td>\n",
       "      <td>New South Wales</td>\n",
       "      <td>Australia</td>\n",
       "      <td>10</td>\n",
       "      <td>9785</td>\n",
       "      <td>72</td>\n",
       "      <td>2017-01-05</td>\n",
       "      <td>False</td>\n",
       "      <td>...</td>\n",
       "      <td>Medendorp</td>\n",
       "      <td>Female</td>\n",
       "      <td>93</td>\n",
       "      <td>Executive Secretary</td>\n",
       "      <td>Health</td>\n",
       "      <td>Mass Customer</td>\n",
       "      <td>N</td>\n",
       "      <td>Yes</td>\n",
       "      <td>11.0</td>\n",
       "      <td>70.0</td>\n",
       "    </tr>\n",
       "    <tr>\n",
       "      <th>4</th>\n",
       "      <td>1</td>\n",
       "      <td>060 Morning Avenue</td>\n",
       "      <td>2016</td>\n",
       "      <td>New South Wales</td>\n",
       "      <td>Australia</td>\n",
       "      <td>10</td>\n",
       "      <td>13424</td>\n",
       "      <td>2</td>\n",
       "      <td>2017-02-21</td>\n",
       "      <td>False</td>\n",
       "      <td>...</td>\n",
       "      <td>Medendorp</td>\n",
       "      <td>Female</td>\n",
       "      <td>93</td>\n",
       "      <td>Executive Secretary</td>\n",
       "      <td>Health</td>\n",
       "      <td>Mass Customer</td>\n",
       "      <td>N</td>\n",
       "      <td>Yes</td>\n",
       "      <td>11.0</td>\n",
       "      <td>70.0</td>\n",
       "    </tr>\n",
       "  </tbody>\n",
       "</table>\n",
       "<p>5 rows × 30 columns</p>\n",
       "</div>"
      ],
      "text/plain": [
       "   customer_id             address  postcode            state    country  \\\n",
       "0            1  060 Morning Avenue      2016  New South Wales  Australia   \n",
       "1            1  060 Morning Avenue      2016  New South Wales  Australia   \n",
       "2            1  060 Morning Avenue      2016  New South Wales  Australia   \n",
       "3            1  060 Morning Avenue      2016  New South Wales  Australia   \n",
       "4            1  060 Morning Avenue      2016  New South Wales  Australia   \n",
       "\n",
       "   property_valuation  transaction_id  product_id transaction_date  \\\n",
       "0                  10              94          86       2017-12-23   \n",
       "1                  10            3765          38       2017-04-06   \n",
       "2                  10            5157          47       2017-05-11   \n",
       "3                  10            9785          72       2017-01-05   \n",
       "4                  10           13424           2       2017-02-21   \n",
       "\n",
       "  online_order  ...  last_name  gender past_3_years_bike_related_purchases  \\\n",
       "0        False  ...  Medendorp  Female                                  93   \n",
       "1         True  ...  Medendorp  Female                                  93   \n",
       "2         True  ...  Medendorp  Female                                  93   \n",
       "3        False  ...  Medendorp  Female                                  93   \n",
       "4        False  ...  Medendorp  Female                                  93   \n",
       "\n",
       "             job_title job_industry_category  wealth_segment  \\\n",
       "0  Executive Secretary                Health   Mass Customer   \n",
       "1  Executive Secretary                Health   Mass Customer   \n",
       "2  Executive Secretary                Health   Mass Customer   \n",
       "3  Executive Secretary                Health   Mass Customer   \n",
       "4  Executive Secretary                Health   Mass Customer   \n",
       "\n",
       "   deceased_indicator owns_car  tenure   Age  \n",
       "0                   N      Yes    11.0  70.0  \n",
       "1                   N      Yes    11.0  70.0  \n",
       "2                   N      Yes    11.0  70.0  \n",
       "3                   N      Yes    11.0  70.0  \n",
       "4                   N      Yes    11.0  70.0  \n",
       "\n",
       "[5 rows x 30 columns]"
      ]
     },
     "execution_count": 128,
     "metadata": {},
     "output_type": "execute_result"
    }
   ],
   "source": [
    "new_table.head()"
   ]
  },
  {
   "cell_type": "code",
   "execution_count": 129,
   "id": "a7d1a2e0",
   "metadata": {},
   "outputs": [
    {
     "name": "stdout",
     "output_type": "stream",
     "text": [
      "<class 'pandas.core.frame.DataFrame'>\n",
      "RangeIndex: 18978 entries, 0 to 18977\n",
      "Data columns (total 30 columns):\n",
      " #   Column                               Non-Null Count  Dtype         \n",
      "---  ------                               --------------  -----         \n",
      " 0   customer_id                          18978 non-null  int64         \n",
      " 1   address                              18978 non-null  category      \n",
      " 2   postcode                             18978 non-null  int64         \n",
      " 3   state                                18978 non-null  category      \n",
      " 4   country                              18978 non-null  category      \n",
      " 5   property_valuation                   18978 non-null  int64         \n",
      " 6   transaction_id                       18978 non-null  int64         \n",
      " 7   product_id                           18978 non-null  int64         \n",
      " 8   transaction_date                     18978 non-null  datetime64[ns]\n",
      " 9   online_order                         18978 non-null  object        \n",
      " 10  order_status                         18978 non-null  category      \n",
      " 11  brand                                18978 non-null  category      \n",
      " 12  product_line                         18978 non-null  category      \n",
      " 13  product_class                        18978 non-null  category      \n",
      " 14  product_size                         18978 non-null  category      \n",
      " 15  list_price                           18978 non-null  float64       \n",
      " 16  standard_cost                        18978 non-null  float64       \n",
      " 17  product_first_sold_date              18978 non-null  datetime64[ns]\n",
      " 18  Profit                               18978 non-null  float64       \n",
      " 19  first_name                           18978 non-null  category      \n",
      " 20  last_name                            18368 non-null  category      \n",
      " 21  gender                               18978 non-null  category      \n",
      " 22  past_3_years_bike_related_purchases  18978 non-null  int64         \n",
      " 23  job_title                            18978 non-null  category      \n",
      " 24  job_industry_category                18978 non-null  category      \n",
      " 25  wealth_segment                       18978 non-null  category      \n",
      " 26  deceased_indicator                   18978 non-null  category      \n",
      " 27  owns_car                             18978 non-null  category      \n",
      " 28  tenure                               18978 non-null  float64       \n",
      " 29  Age                                  18978 non-null  float64       \n",
      "dtypes: category(16), datetime64[ns](2), float64(5), int64(6), object(1)\n",
      "memory usage: 2.8+ MB\n"
     ]
    }
   ],
   "source": [
    "new_table.info()"
   ]
  },
  {
   "cell_type": "code",
   "execution_count": 130,
   "id": "b67847c0",
   "metadata": {},
   "outputs": [
    {
     "data": {
      "text/plain": [
       "3410"
      ]
     },
     "execution_count": 130,
     "metadata": {},
     "output_type": "execute_result"
    }
   ],
   "source": [
    "new_table.customer_id.nunique()"
   ]
  },
  {
   "cell_type": "markdown",
   "id": "15fdaf80",
   "metadata": {},
   "source": [
    "#### `Recency` refers to how recently a customer has made a purchase. Customers who have made a purchase more recently are considered to be more valuable than those who have not made a purchase in a while."
   ]
  },
  {
   "cell_type": "code",
   "execution_count": 131,
   "id": "38b9ec47",
   "metadata": {},
   "outputs": [
    {
     "data": {
      "text/plain": [
       "Timestamp('2017-01-01 00:00:00')"
      ]
     },
     "execution_count": 131,
     "metadata": {},
     "output_type": "execute_result"
    }
   ],
   "source": [
    "sorted_table = new_table.sort_values(by='transaction_date')\n",
    "comparison_date = sorted_table['transaction_date'].iloc[0]\n",
    "comparison_date"
   ]
  },
  {
   "cell_type": "code",
   "execution_count": 132,
   "id": "bb590498",
   "metadata": {},
   "outputs": [],
   "source": [
    "# check recency\n",
    "\n",
    "new_table['recency'] = new_table['transaction_date'] - comparison_date"
   ]
  },
  {
   "cell_type": "code",
   "execution_count": 133,
   "id": "d13ac723",
   "metadata": {},
   "outputs": [
    {
     "data": {
      "text/html": [
       "<div>\n",
       "<style scoped>\n",
       "    .dataframe tbody tr th:only-of-type {\n",
       "        vertical-align: middle;\n",
       "    }\n",
       "\n",
       "    .dataframe tbody tr th {\n",
       "        vertical-align: top;\n",
       "    }\n",
       "\n",
       "    .dataframe thead th {\n",
       "        text-align: right;\n",
       "    }\n",
       "</style>\n",
       "<table border=\"1\" class=\"dataframe\">\n",
       "  <thead>\n",
       "    <tr style=\"text-align: right;\">\n",
       "      <th></th>\n",
       "      <th>customer_id</th>\n",
       "      <th>address</th>\n",
       "      <th>postcode</th>\n",
       "      <th>state</th>\n",
       "      <th>country</th>\n",
       "      <th>property_valuation</th>\n",
       "      <th>transaction_id</th>\n",
       "      <th>product_id</th>\n",
       "      <th>transaction_date</th>\n",
       "      <th>online_order</th>\n",
       "      <th>...</th>\n",
       "      <th>gender</th>\n",
       "      <th>past_3_years_bike_related_purchases</th>\n",
       "      <th>job_title</th>\n",
       "      <th>job_industry_category</th>\n",
       "      <th>wealth_segment</th>\n",
       "      <th>deceased_indicator</th>\n",
       "      <th>owns_car</th>\n",
       "      <th>tenure</th>\n",
       "      <th>Age</th>\n",
       "      <th>recency</th>\n",
       "    </tr>\n",
       "  </thead>\n",
       "  <tbody>\n",
       "    <tr>\n",
       "      <th>0</th>\n",
       "      <td>1</td>\n",
       "      <td>060 Morning Avenue</td>\n",
       "      <td>2016</td>\n",
       "      <td>New South Wales</td>\n",
       "      <td>Australia</td>\n",
       "      <td>10</td>\n",
       "      <td>94</td>\n",
       "      <td>86</td>\n",
       "      <td>2017-12-23</td>\n",
       "      <td>False</td>\n",
       "      <td>...</td>\n",
       "      <td>Female</td>\n",
       "      <td>93</td>\n",
       "      <td>Executive Secretary</td>\n",
       "      <td>Health</td>\n",
       "      <td>Mass Customer</td>\n",
       "      <td>N</td>\n",
       "      <td>Yes</td>\n",
       "      <td>11.0</td>\n",
       "      <td>70.0</td>\n",
       "      <td>356 days</td>\n",
       "    </tr>\n",
       "  </tbody>\n",
       "</table>\n",
       "<p>1 rows × 31 columns</p>\n",
       "</div>"
      ],
      "text/plain": [
       "   customer_id             address  postcode            state    country  \\\n",
       "0            1  060 Morning Avenue      2016  New South Wales  Australia   \n",
       "\n",
       "   property_valuation  transaction_id  product_id transaction_date  \\\n",
       "0                  10              94          86       2017-12-23   \n",
       "\n",
       "  online_order  ...  gender past_3_years_bike_related_purchases  \\\n",
       "0        False  ...  Female                                  93   \n",
       "\n",
       "             job_title job_industry_category wealth_segment  \\\n",
       "0  Executive Secretary                Health  Mass Customer   \n",
       "\n",
       "   deceased_indicator  owns_car tenure   Age  recency  \n",
       "0                   N       Yes   11.0  70.0 356 days  \n",
       "\n",
       "[1 rows x 31 columns]"
      ]
     },
     "execution_count": 133,
     "metadata": {},
     "output_type": "execute_result"
    }
   ],
   "source": [
    "new_table.head(1)"
   ]
  },
  {
   "cell_type": "code",
   "execution_count": 134,
   "id": "c6f7b644",
   "metadata": {},
   "outputs": [],
   "source": [
    "rec_values = new_table.recency.astype(str).str.split(' ')\n",
    "new_table['recency'] = rec_values.str[0]\n",
    "new_table['recency'] = new_table['recency'].astype('int64')"
   ]
  },
  {
   "cell_type": "code",
   "execution_count": 135,
   "id": "48daabce",
   "metadata": {},
   "outputs": [
    {
     "data": {
      "text/html": [
       "<div>\n",
       "<style scoped>\n",
       "    .dataframe tbody tr th:only-of-type {\n",
       "        vertical-align: middle;\n",
       "    }\n",
       "\n",
       "    .dataframe tbody tr th {\n",
       "        vertical-align: top;\n",
       "    }\n",
       "\n",
       "    .dataframe thead th {\n",
       "        text-align: right;\n",
       "    }\n",
       "</style>\n",
       "<table border=\"1\" class=\"dataframe\">\n",
       "  <thead>\n",
       "    <tr style=\"text-align: right;\">\n",
       "      <th></th>\n",
       "      <th>customer_id</th>\n",
       "      <th>address</th>\n",
       "      <th>postcode</th>\n",
       "      <th>state</th>\n",
       "      <th>country</th>\n",
       "      <th>property_valuation</th>\n",
       "      <th>transaction_id</th>\n",
       "      <th>product_id</th>\n",
       "      <th>transaction_date</th>\n",
       "      <th>online_order</th>\n",
       "      <th>...</th>\n",
       "      <th>gender</th>\n",
       "      <th>past_3_years_bike_related_purchases</th>\n",
       "      <th>job_title</th>\n",
       "      <th>job_industry_category</th>\n",
       "      <th>wealth_segment</th>\n",
       "      <th>deceased_indicator</th>\n",
       "      <th>owns_car</th>\n",
       "      <th>tenure</th>\n",
       "      <th>Age</th>\n",
       "      <th>recency</th>\n",
       "    </tr>\n",
       "  </thead>\n",
       "  <tbody>\n",
       "    <tr>\n",
       "      <th>0</th>\n",
       "      <td>1</td>\n",
       "      <td>060 Morning Avenue</td>\n",
       "      <td>2016</td>\n",
       "      <td>New South Wales</td>\n",
       "      <td>Australia</td>\n",
       "      <td>10</td>\n",
       "      <td>94</td>\n",
       "      <td>86</td>\n",
       "      <td>2017-12-23</td>\n",
       "      <td>False</td>\n",
       "      <td>...</td>\n",
       "      <td>Female</td>\n",
       "      <td>93</td>\n",
       "      <td>Executive Secretary</td>\n",
       "      <td>Health</td>\n",
       "      <td>Mass Customer</td>\n",
       "      <td>N</td>\n",
       "      <td>Yes</td>\n",
       "      <td>11.0</td>\n",
       "      <td>70.0</td>\n",
       "      <td>356</td>\n",
       "    </tr>\n",
       "  </tbody>\n",
       "</table>\n",
       "<p>1 rows × 31 columns</p>\n",
       "</div>"
      ],
      "text/plain": [
       "   customer_id             address  postcode            state    country  \\\n",
       "0            1  060 Morning Avenue      2016  New South Wales  Australia   \n",
       "\n",
       "   property_valuation  transaction_id  product_id transaction_date  \\\n",
       "0                  10              94          86       2017-12-23   \n",
       "\n",
       "  online_order  ...  gender past_3_years_bike_related_purchases  \\\n",
       "0        False  ...  Female                                  93   \n",
       "\n",
       "             job_title job_industry_category wealth_segment  \\\n",
       "0  Executive Secretary                Health  Mass Customer   \n",
       "\n",
       "   deceased_indicator  owns_car tenure   Age recency  \n",
       "0                   N       Yes   11.0  70.0     356  \n",
       "\n",
       "[1 rows x 31 columns]"
      ]
     },
     "execution_count": 135,
     "metadata": {},
     "output_type": "execute_result"
    }
   ],
   "source": [
    "new_table.head(1)"
   ]
  },
  {
   "cell_type": "markdown",
   "id": "829240fe",
   "metadata": {},
   "source": [
    "#### **`Frequency` refers to how often a customer makes purchases. Customers who make more frequent purchases are considered to be more valuable than those who make purchases less frequently.**"
   ]
  },
  {
   "cell_type": "markdown",
   "id": "36101f3e",
   "metadata": {},
   "source": [
    "#### **`Monetary` value refers to the amount of money a customer has spent on purchases. Customers who have spent more money are considered to be more valuable than those who have spent less money.**"
   ]
  },
  {
   "cell_type": "code",
   "execution_count": 136,
   "id": "4dde00a3",
   "metadata": {},
   "outputs": [
    {
     "data": {
      "text/html": [
       "<div>\n",
       "<style scoped>\n",
       "    .dataframe tbody tr th:only-of-type {\n",
       "        vertical-align: middle;\n",
       "    }\n",
       "\n",
       "    .dataframe tbody tr th {\n",
       "        vertical-align: top;\n",
       "    }\n",
       "\n",
       "    .dataframe thead th {\n",
       "        text-align: right;\n",
       "    }\n",
       "</style>\n",
       "<table border=\"1\" class=\"dataframe\">\n",
       "  <thead>\n",
       "    <tr style=\"text-align: right;\">\n",
       "      <th></th>\n",
       "      <th>monetary value</th>\n",
       "      <th>frequency</th>\n",
       "      <th>recency</th>\n",
       "    </tr>\n",
       "    <tr>\n",
       "      <th>customer_id</th>\n",
       "      <th></th>\n",
       "      <th></th>\n",
       "      <th></th>\n",
       "    </tr>\n",
       "  </thead>\n",
       "  <tbody>\n",
       "    <tr>\n",
       "      <th>1</th>\n",
       "      <td>3018.09</td>\n",
       "      <td>11</td>\n",
       "      <td>4</td>\n",
       "    </tr>\n",
       "    <tr>\n",
       "      <th>2</th>\n",
       "      <td>2226.26</td>\n",
       "      <td>3</td>\n",
       "      <td>123</td>\n",
       "    </tr>\n",
       "    <tr>\n",
       "      <th>4</th>\n",
       "      <td>220.57</td>\n",
       "      <td>2</td>\n",
       "      <td>92</td>\n",
       "    </tr>\n",
       "    <tr>\n",
       "      <th>5</th>\n",
       "      <td>2394.94</td>\n",
       "      <td>6</td>\n",
       "      <td>61</td>\n",
       "    </tr>\n",
       "    <tr>\n",
       "      <th>6</th>\n",
       "      <td>3946.55</td>\n",
       "      <td>5</td>\n",
       "      <td>27</td>\n",
       "    </tr>\n",
       "    <tr>\n",
       "      <th>...</th>\n",
       "      <td>...</td>\n",
       "      <td>...</td>\n",
       "      <td>...</td>\n",
       "    </tr>\n",
       "    <tr>\n",
       "      <th>3496</th>\n",
       "      <td>2045.84</td>\n",
       "      <td>4</td>\n",
       "      <td>65</td>\n",
       "    </tr>\n",
       "    <tr>\n",
       "      <th>3497</th>\n",
       "      <td>1648.32</td>\n",
       "      <td>3</td>\n",
       "      <td>243</td>\n",
       "    </tr>\n",
       "    <tr>\n",
       "      <th>3498</th>\n",
       "      <td>3147.33</td>\n",
       "      <td>6</td>\n",
       "      <td>33</td>\n",
       "    </tr>\n",
       "    <tr>\n",
       "      <th>3499</th>\n",
       "      <td>4955.25</td>\n",
       "      <td>7</td>\n",
       "      <td>11</td>\n",
       "    </tr>\n",
       "    <tr>\n",
       "      <th>3500</th>\n",
       "      <td>1785.86</td>\n",
       "      <td>6</td>\n",
       "      <td>8</td>\n",
       "    </tr>\n",
       "  </tbody>\n",
       "</table>\n",
       "<p>3410 rows × 3 columns</p>\n",
       "</div>"
      ],
      "text/plain": [
       "             monetary value  frequency  recency\n",
       "customer_id                                    \n",
       "1                   3018.09         11        4\n",
       "2                   2226.26          3      123\n",
       "4                    220.57          2       92\n",
       "5                   2394.94          6       61\n",
       "6                   3946.55          5       27\n",
       "...                     ...        ...      ...\n",
       "3496                2045.84          4       65\n",
       "3497                1648.32          3      243\n",
       "3498                3147.33          6       33\n",
       "3499                4955.25          7       11\n",
       "3500                1785.86          6        8\n",
       "\n",
       "[3410 rows x 3 columns]"
      ]
     },
     "execution_count": 136,
     "metadata": {},
     "output_type": "execute_result"
    }
   ],
   "source": [
    "pivot_table = pd.pivot_table(new_table, index='customer_id',values=['product_id','recency','Profit'],\n",
    "               aggfunc={'product_id': 'count','recency': 'min','Profit': 'sum'})\n",
    "\n",
    "pivot_table = pivot_table.rename(columns={'product_id': 'frequency',\n",
    "                                          'Profit': 'monetary value'})\n",
    "\n",
    "pivot_table"
   ]
  },
  {
   "cell_type": "code",
   "execution_count": 137,
   "id": "6d6dd905",
   "metadata": {},
   "outputs": [
    {
     "data": {
      "text/html": [
       "<div>\n",
       "<style scoped>\n",
       "    .dataframe tbody tr th:only-of-type {\n",
       "        vertical-align: middle;\n",
       "    }\n",
       "\n",
       "    .dataframe tbody tr th {\n",
       "        vertical-align: top;\n",
       "    }\n",
       "\n",
       "    .dataframe thead th {\n",
       "        text-align: right;\n",
       "    }\n",
       "</style>\n",
       "<table border=\"1\" class=\"dataframe\">\n",
       "  <thead>\n",
       "    <tr style=\"text-align: right;\">\n",
       "      <th></th>\n",
       "      <th>monetary value</th>\n",
       "      <th>frequency</th>\n",
       "      <th>recency</th>\n",
       "    </tr>\n",
       "  </thead>\n",
       "  <tbody>\n",
       "    <tr>\n",
       "      <th>count</th>\n",
       "      <td>3410.000000</td>\n",
       "      <td>3410.000000</td>\n",
       "      <td>3410.000000</td>\n",
       "    </tr>\n",
       "    <tr>\n",
       "      <th>mean</th>\n",
       "      <td>3061.906792</td>\n",
       "      <td>5.565396</td>\n",
       "      <td>63.080059</td>\n",
       "    </tr>\n",
       "    <tr>\n",
       "      <th>std</th>\n",
       "      <td>1746.736482</td>\n",
       "      <td>2.291074</td>\n",
       "      <td>61.213985</td>\n",
       "    </tr>\n",
       "    <tr>\n",
       "      <th>min</th>\n",
       "      <td>15.080000</td>\n",
       "      <td>1.000000</td>\n",
       "      <td>0.000000</td>\n",
       "    </tr>\n",
       "    <tr>\n",
       "      <th>25%</th>\n",
       "      <td>1795.475000</td>\n",
       "      <td>4.000000</td>\n",
       "      <td>18.000000</td>\n",
       "    </tr>\n",
       "    <tr>\n",
       "      <th>50%</th>\n",
       "      <td>2789.250000</td>\n",
       "      <td>5.000000</td>\n",
       "      <td>44.000000</td>\n",
       "    </tr>\n",
       "    <tr>\n",
       "      <th>75%</th>\n",
       "      <td>4101.542500</td>\n",
       "      <td>7.000000</td>\n",
       "      <td>90.000000</td>\n",
       "    </tr>\n",
       "    <tr>\n",
       "      <th>max</th>\n",
       "      <td>11668.950000</td>\n",
       "      <td>14.000000</td>\n",
       "      <td>356.000000</td>\n",
       "    </tr>\n",
       "  </tbody>\n",
       "</table>\n",
       "</div>"
      ],
      "text/plain": [
       "       monetary value    frequency      recency\n",
       "count     3410.000000  3410.000000  3410.000000\n",
       "mean      3061.906792     5.565396    63.080059\n",
       "std       1746.736482     2.291074    61.213985\n",
       "min         15.080000     1.000000     0.000000\n",
       "25%       1795.475000     4.000000    18.000000\n",
       "50%       2789.250000     5.000000    44.000000\n",
       "75%       4101.542500     7.000000    90.000000\n",
       "max      11668.950000    14.000000   356.000000"
      ]
     },
     "execution_count": 137,
     "metadata": {},
     "output_type": "execute_result"
    }
   ],
   "source": [
    "pivot_table.describe()"
   ]
  },
  {
   "cell_type": "markdown",
   "id": "d97851b8",
   "metadata": {},
   "source": [
    "### Calculating R Score, where a greater value indicates the product was purchased recently"
   ]
  },
  {
   "cell_type": "code",
   "execution_count": 138,
   "id": "9c5431e9",
   "metadata": {},
   "outputs": [],
   "source": [
    "for index, row in pivot_table.iterrows():\n",
    "    if row['recency'] > 90:\n",
    "        pivot_table.loc[index, 'R_score'] = 4\n",
    "    elif row['recency'] > 44:\n",
    "        pivot_table.loc[index, 'R_score'] = 3\n",
    "    elif row['recency'] > 18:\n",
    "        pivot_table.loc[index, 'R_score'] = 2\n",
    "    elif row['recency'] > 0: \n",
    "        pivot_table.loc[index, 'R_score'] = 1\n",
    "    else:\n",
    "        pivot_table.loc[index, 'R_score'] = 0"
   ]
  },
  {
   "cell_type": "markdown",
   "id": "8c52daaf",
   "metadata": {},
   "source": [
    "### Calculating F Score, where a greater value indicates customers who have purchased products most frequently."
   ]
  },
  {
   "cell_type": "code",
   "execution_count": 139,
   "id": "287926a9",
   "metadata": {},
   "outputs": [],
   "source": [
    "for index, row in pivot_table.iterrows():\n",
    "    if row['frequency']  > 7:\n",
    "        pivot_table.loc[index,'F_score'] = 4\n",
    "    elif row['frequency']  > 5:\n",
    "        pivot_table.loc[index,'F_score'] = 3\n",
    "    elif row['frequency'] > 4:\n",
    "        pivot_table.loc[index, 'F_score'] = 2\n",
    "    elif row['frequency'] > 1: \n",
    "        pivot_table.loc[index,'F_score'] = 1\n",
    "    else:\n",
    "        pivot_table.loc[index,'F_score'] = 0"
   ]
  },
  {
   "cell_type": "markdown",
   "id": "741d767e",
   "metadata": {},
   "source": [
    "### Calculating M Score, where a greater value indicates customers who have spent more money. Hence are considered to be more valuable than those who have spent less money"
   ]
  },
  {
   "cell_type": "code",
   "execution_count": 140,
   "id": "cdc35b71",
   "metadata": {},
   "outputs": [],
   "source": [
    "for index,row in pivot_table.iterrows():\n",
    "    if row['monetary value'] > 4120.25:\n",
    "        pivot_table.loc[index,'M_score'] = 4\n",
    "    elif row['monetary value'] > 2795.78:\n",
    "        pivot_table.loc[index, 'M_score'] = 3\n",
    "    elif row['monetary value'] > 1796.89:\n",
    "        pivot_table.loc[index, 'M_score'] = 2\n",
    "    elif row['monetary value'] > 15.08: \n",
    "        pivot_table.loc[index, 'M_score'] = 1\n",
    "    else:\n",
    "        pivot_table.loc[index, 'M_score'] = 0"
   ]
  },
  {
   "cell_type": "code",
   "execution_count": 141,
   "id": "83bd6b95",
   "metadata": {},
   "outputs": [],
   "source": [
    "pivot_table['RFM_value'] = (pivot_table['R_score']*100) + (pivot_table['F_score']*10) + pivot_table['M_score']"
   ]
  },
  {
   "cell_type": "code",
   "execution_count": 142,
   "id": "fdf6b9b7",
   "metadata": {},
   "outputs": [
    {
     "data": {
      "text/html": [
       "<div>\n",
       "<style scoped>\n",
       "    .dataframe tbody tr th:only-of-type {\n",
       "        vertical-align: middle;\n",
       "    }\n",
       "\n",
       "    .dataframe tbody tr th {\n",
       "        vertical-align: top;\n",
       "    }\n",
       "\n",
       "    .dataframe thead th {\n",
       "        text-align: right;\n",
       "    }\n",
       "</style>\n",
       "<table border=\"1\" class=\"dataframe\">\n",
       "  <thead>\n",
       "    <tr style=\"text-align: right;\">\n",
       "      <th></th>\n",
       "      <th>monetary value</th>\n",
       "      <th>frequency</th>\n",
       "      <th>recency</th>\n",
       "      <th>R_score</th>\n",
       "      <th>F_score</th>\n",
       "      <th>M_score</th>\n",
       "      <th>RFM_value</th>\n",
       "    </tr>\n",
       "    <tr>\n",
       "      <th>customer_id</th>\n",
       "      <th></th>\n",
       "      <th></th>\n",
       "      <th></th>\n",
       "      <th></th>\n",
       "      <th></th>\n",
       "      <th></th>\n",
       "      <th></th>\n",
       "    </tr>\n",
       "  </thead>\n",
       "  <tbody>\n",
       "    <tr>\n",
       "      <th>1</th>\n",
       "      <td>3018.09</td>\n",
       "      <td>11</td>\n",
       "      <td>4</td>\n",
       "      <td>1.0</td>\n",
       "      <td>4.0</td>\n",
       "      <td>3.0</td>\n",
       "      <td>143.0</td>\n",
       "    </tr>\n",
       "    <tr>\n",
       "      <th>2</th>\n",
       "      <td>2226.26</td>\n",
       "      <td>3</td>\n",
       "      <td>123</td>\n",
       "      <td>4.0</td>\n",
       "      <td>1.0</td>\n",
       "      <td>2.0</td>\n",
       "      <td>412.0</td>\n",
       "    </tr>\n",
       "    <tr>\n",
       "      <th>4</th>\n",
       "      <td>220.57</td>\n",
       "      <td>2</td>\n",
       "      <td>92</td>\n",
       "      <td>4.0</td>\n",
       "      <td>1.0</td>\n",
       "      <td>1.0</td>\n",
       "      <td>411.0</td>\n",
       "    </tr>\n",
       "    <tr>\n",
       "      <th>5</th>\n",
       "      <td>2394.94</td>\n",
       "      <td>6</td>\n",
       "      <td>61</td>\n",
       "      <td>3.0</td>\n",
       "      <td>3.0</td>\n",
       "      <td>2.0</td>\n",
       "      <td>332.0</td>\n",
       "    </tr>\n",
       "    <tr>\n",
       "      <th>6</th>\n",
       "      <td>3946.55</td>\n",
       "      <td>5</td>\n",
       "      <td>27</td>\n",
       "      <td>2.0</td>\n",
       "      <td>2.0</td>\n",
       "      <td>3.0</td>\n",
       "      <td>223.0</td>\n",
       "    </tr>\n",
       "  </tbody>\n",
       "</table>\n",
       "</div>"
      ],
      "text/plain": [
       "             monetary value  frequency  recency  R_score  F_score  M_score  \\\n",
       "customer_id                                                                  \n",
       "1                   3018.09         11        4      1.0      4.0      3.0   \n",
       "2                   2226.26          3      123      4.0      1.0      2.0   \n",
       "4                    220.57          2       92      4.0      1.0      1.0   \n",
       "5                   2394.94          6       61      3.0      3.0      2.0   \n",
       "6                   3946.55          5       27      2.0      2.0      3.0   \n",
       "\n",
       "             RFM_value  \n",
       "customer_id             \n",
       "1                143.0  \n",
       "2                412.0  \n",
       "4                411.0  \n",
       "5                332.0  \n",
       "6                223.0  "
      ]
     },
     "execution_count": 142,
     "metadata": {},
     "output_type": "execute_result"
    }
   ],
   "source": [
    "pivot_table.head()"
   ]
  },
  {
   "cell_type": "code",
   "execution_count": 143,
   "id": "fa50f4c8",
   "metadata": {},
   "outputs": [
    {
     "data": {
      "text/plain": [
       "count    3410.000000\n",
       "mean      272.396774\n",
       "std       111.393220\n",
       "min        11.000000\n",
       "25%       144.000000\n",
       "50%       244.000000\n",
       "75%       344.000000\n",
       "max       444.000000\n",
       "Name: RFM_value, dtype: float64"
      ]
     },
     "execution_count": 143,
     "metadata": {},
     "output_type": "execute_result"
    }
   ],
   "source": [
    "pivot_table['RFM_value'].describe()"
   ]
  },
  {
   "cell_type": "markdown",
   "id": "7b0973e8",
   "metadata": {},
   "source": [
    "## Segmenting\n",
    "\n",
    "\n",
    "#### Now, we can classify customers into different segments on the basis of RFM value"
   ]
  },
  {
   "cell_type": "code",
   "execution_count": 145,
   "id": "63e13139",
   "metadata": {},
   "outputs": [],
   "source": [
    "for index,row in pivot_table.iterrows():\n",
    "    if row['RFM_value'] > 344:\n",
    "        pivot_table.loc[index,'Customer Profile'] = 'Platinum Customer'\n",
    "    elif row['RFM_value'] > 244:\n",
    "        pivot_table.loc[index, 'Customer Profile'] = 'Gold Customer'\n",
    "    elif row['RFM_value'] > 144:\n",
    "        pivot_table.loc[index, 'Customer Profile'] = 'Silver Customer'\n",
    "    else:\n",
    "        pivot_table.loc[index, 'Customer Profile'] = 'Bronze Customer'"
   ]
  },
  {
   "cell_type": "code",
   "execution_count": 146,
   "id": "06c952e0",
   "metadata": {},
   "outputs": [
    {
     "data": {
      "text/html": [
       "<div>\n",
       "<style scoped>\n",
       "    .dataframe tbody tr th:only-of-type {\n",
       "        vertical-align: middle;\n",
       "    }\n",
       "\n",
       "    .dataframe tbody tr th {\n",
       "        vertical-align: top;\n",
       "    }\n",
       "\n",
       "    .dataframe thead th {\n",
       "        text-align: right;\n",
       "    }\n",
       "</style>\n",
       "<table border=\"1\" class=\"dataframe\">\n",
       "  <thead>\n",
       "    <tr style=\"text-align: right;\">\n",
       "      <th></th>\n",
       "      <th>monetary value</th>\n",
       "      <th>frequency</th>\n",
       "      <th>recency</th>\n",
       "      <th>R_score</th>\n",
       "      <th>F_score</th>\n",
       "      <th>M_score</th>\n",
       "      <th>RFM_value</th>\n",
       "      <th>Customer Profile</th>\n",
       "    </tr>\n",
       "    <tr>\n",
       "      <th>customer_id</th>\n",
       "      <th></th>\n",
       "      <th></th>\n",
       "      <th></th>\n",
       "      <th></th>\n",
       "      <th></th>\n",
       "      <th></th>\n",
       "      <th></th>\n",
       "      <th></th>\n",
       "    </tr>\n",
       "  </thead>\n",
       "  <tbody>\n",
       "    <tr>\n",
       "      <th>1</th>\n",
       "      <td>3018.09</td>\n",
       "      <td>11</td>\n",
       "      <td>4</td>\n",
       "      <td>1.0</td>\n",
       "      <td>4.0</td>\n",
       "      <td>3.0</td>\n",
       "      <td>143.0</td>\n",
       "      <td>Bronze Customer</td>\n",
       "    </tr>\n",
       "    <tr>\n",
       "      <th>2</th>\n",
       "      <td>2226.26</td>\n",
       "      <td>3</td>\n",
       "      <td>123</td>\n",
       "      <td>4.0</td>\n",
       "      <td>1.0</td>\n",
       "      <td>2.0</td>\n",
       "      <td>412.0</td>\n",
       "      <td>Platinum Customer</td>\n",
       "    </tr>\n",
       "    <tr>\n",
       "      <th>4</th>\n",
       "      <td>220.57</td>\n",
       "      <td>2</td>\n",
       "      <td>92</td>\n",
       "      <td>4.0</td>\n",
       "      <td>1.0</td>\n",
       "      <td>1.0</td>\n",
       "      <td>411.0</td>\n",
       "      <td>Platinum Customer</td>\n",
       "    </tr>\n",
       "    <tr>\n",
       "      <th>5</th>\n",
       "      <td>2394.94</td>\n",
       "      <td>6</td>\n",
       "      <td>61</td>\n",
       "      <td>3.0</td>\n",
       "      <td>3.0</td>\n",
       "      <td>2.0</td>\n",
       "      <td>332.0</td>\n",
       "      <td>Gold Customer</td>\n",
       "    </tr>\n",
       "    <tr>\n",
       "      <th>6</th>\n",
       "      <td>3946.55</td>\n",
       "      <td>5</td>\n",
       "      <td>27</td>\n",
       "      <td>2.0</td>\n",
       "      <td>2.0</td>\n",
       "      <td>3.0</td>\n",
       "      <td>223.0</td>\n",
       "      <td>Silver Customer</td>\n",
       "    </tr>\n",
       "  </tbody>\n",
       "</table>\n",
       "</div>"
      ],
      "text/plain": [
       "             monetary value  frequency  recency  R_score  F_score  M_score  \\\n",
       "customer_id                                                                  \n",
       "1                   3018.09         11        4      1.0      4.0      3.0   \n",
       "2                   2226.26          3      123      4.0      1.0      2.0   \n",
       "4                    220.57          2       92      4.0      1.0      1.0   \n",
       "5                   2394.94          6       61      3.0      3.0      2.0   \n",
       "6                   3946.55          5       27      2.0      2.0      3.0   \n",
       "\n",
       "             RFM_value   Customer Profile  \n",
       "customer_id                                \n",
       "1                143.0    Bronze Customer  \n",
       "2                412.0  Platinum Customer  \n",
       "4                411.0  Platinum Customer  \n",
       "5                332.0      Gold Customer  \n",
       "6                223.0    Silver Customer  "
      ]
     },
     "execution_count": 146,
     "metadata": {},
     "output_type": "execute_result"
    }
   ],
   "source": [
    "pivot_table.head()"
   ]
  },
  {
   "cell_type": "code",
   "execution_count": 147,
   "id": "15150fa7",
   "metadata": {},
   "outputs": [],
   "source": [
    "pivot_table.to_excel('RFM.xlsx', index=False)"
   ]
  },
  {
   "cell_type": "markdown",
   "id": "e4cab4ec",
   "metadata": {},
   "source": [
    "Assumptions to be clarified:\n",
    "    \n",
    "1. **Age Matters**: Younger customers might buy more bikes compared to older customers. This could be because younger people want to save money in their early years, drive more frequently, and prioritize factors like cost over comfort, unlike older customers who may value comfort more.\n",
    "\n",
    "2. **Gender Influence**: It's possible that males are more willing to buy bikes than females. This could be because males may not be as concerned about factors like outfit discomfort and place a higher emphasis on other aspects when making purchasing decisions.\n",
    "\n",
    "3. **Industry Impact**: We need to explore if people from certain industries are more likely to buy bikes than others. There could be industry-specific reasons influencing purchase behavior."
   ]
  },
  {
   "cell_type": "markdown",
   "id": "f4129e0d",
   "metadata": {},
   "source": [
    "# Data Visualization"
   ]
  },
  {
   "cell_type": "markdown",
   "id": "8cc3ec91",
   "metadata": {},
   "source": [
    "## 1.Customer Segments"
   ]
  },
  {
   "cell_type": "code",
   "execution_count": 148,
   "id": "24d6bd15",
   "metadata": {},
   "outputs": [
    {
     "data": {
      "text/html": [
       "<div>\n",
       "<style scoped>\n",
       "    .dataframe tbody tr th:only-of-type {\n",
       "        vertical-align: middle;\n",
       "    }\n",
       "\n",
       "    .dataframe tbody tr th {\n",
       "        vertical-align: top;\n",
       "    }\n",
       "\n",
       "    .dataframe thead th {\n",
       "        text-align: right;\n",
       "    }\n",
       "</style>\n",
       "<table border=\"1\" class=\"dataframe\">\n",
       "  <thead>\n",
       "    <tr style=\"text-align: right;\">\n",
       "      <th></th>\n",
       "      <th>RFM_value</th>\n",
       "    </tr>\n",
       "    <tr>\n",
       "      <th>Customer Profile</th>\n",
       "      <th></th>\n",
       "    </tr>\n",
       "  </thead>\n",
       "  <tbody>\n",
       "    <tr>\n",
       "      <th>Bronze Customer</th>\n",
       "      <td>108246.0</td>\n",
       "    </tr>\n",
       "    <tr>\n",
       "      <th>Gold Customer</th>\n",
       "      <td>274802.0</td>\n",
       "    </tr>\n",
       "    <tr>\n",
       "      <th>Platinum Customer</th>\n",
       "      <td>351134.0</td>\n",
       "    </tr>\n",
       "    <tr>\n",
       "      <th>Silver Customer</th>\n",
       "      <td>194691.0</td>\n",
       "    </tr>\n",
       "  </tbody>\n",
       "</table>\n",
       "</div>"
      ],
      "text/plain": [
       "                   RFM_value\n",
       "Customer Profile            \n",
       "Bronze Customer     108246.0\n",
       "Gold Customer       274802.0\n",
       "Platinum Customer   351134.0\n",
       "Silver Customer     194691.0"
      ]
     },
     "execution_count": 148,
     "metadata": {},
     "output_type": "execute_result"
    }
   ],
   "source": [
    "cust_seg = pd.pivot_table(pivot_table, index='Customer Profile', values='RFM_value',aggfunc='sum')\n",
    "cust_seg"
   ]
  },
  {
   "cell_type": "code",
   "execution_count": 149,
   "id": "d327459a",
   "metadata": {},
   "outputs": [
    {
     "data": {
      "image/png": "[encoded data removed]",
      "text/plain": [
       "<Figure size 576x216 with 1 Axes>"
      ]
     },
     "metadata": {
      "needs_background": "light"
     },
     "output_type": "display_data"
    }
   ],
   "source": [
    "cust_seg.plot(kind='bar', figsize=(8,3))\n",
    "plt.xlabel('Customer Profile')\n",
    "plt.ylabel('Profits Generated')\n",
    "plt.title('Customer Segmentation')\n",
    "plt.show()"
   ]
  },
  {
   "cell_type": "code",
   "execution_count": 150,
   "id": "d8682db0",
   "metadata": {},
   "outputs": [
    {
     "data": {
      "text/plain": [
       "Customer Profile\n",
       "Platinum Customer    838\n",
       "Gold Customer        844\n",
       "Silver Customer      855\n",
       "Bronze Customer      873\n",
       "dtype: int64"
      ]
     },
     "execution_count": 150,
     "metadata": {},
     "output_type": "execute_result"
    }
   ],
   "source": [
    "pivot_table.groupby(by='Customer Profile').size().sort_values()"
   ]
  },
  {
   "cell_type": "markdown",
   "id": "3f4b5496",
   "metadata": {},
   "source": [
    "Inference - Platinum Customers are the most valuable for the business because they have the highest RFM value, meaning they bring in the most revenue. Currently, the majority of our customers fall into the Bronze category. This suggests that there is a significant opportunity to upgrade them to become Platinum Customers."
   ]
  },
  {
   "cell_type": "markdown",
   "id": "e7803a86",
   "metadata": {},
   "source": [
    "## 2. Industry that generates highest profit"
   ]
  },
  {
   "cell_type": "code",
   "execution_count": 151,
   "id": "3e197697",
   "metadata": {},
   "outputs": [
    {
     "data": {
      "text/html": [
       "<div>\n",
       "<style scoped>\n",
       "    .dataframe tbody tr th:only-of-type {\n",
       "        vertical-align: middle;\n",
       "    }\n",
       "\n",
       "    .dataframe tbody tr th {\n",
       "        vertical-align: top;\n",
       "    }\n",
       "\n",
       "    .dataframe thead th {\n",
       "        text-align: right;\n",
       "    }\n",
       "</style>\n",
       "<table border=\"1\" class=\"dataframe\">\n",
       "  <thead>\n",
       "    <tr style=\"text-align: right;\">\n",
       "      <th></th>\n",
       "      <th>Profit</th>\n",
       "    </tr>\n",
       "    <tr>\n",
       "      <th>job_industry_category</th>\n",
       "      <th></th>\n",
       "    </tr>\n",
       "  </thead>\n",
       "  <tbody>\n",
       "    <tr>\n",
       "      <th>Argiculture</th>\n",
       "      <td>300566.24</td>\n",
       "    </tr>\n",
       "    <tr>\n",
       "      <th>Entertainment</th>\n",
       "      <td>380207.91</td>\n",
       "    </tr>\n",
       "    <tr>\n",
       "      <th>Financial Services</th>\n",
       "      <td>2092189.00</td>\n",
       "    </tr>\n",
       "    <tr>\n",
       "      <th>Health</th>\n",
       "      <td>1611177.33</td>\n",
       "    </tr>\n",
       "    <tr>\n",
       "      <th>IT</th>\n",
       "      <td>372140.03</td>\n",
       "    </tr>\n",
       "    <tr>\n",
       "      <th>Manufacturing</th>\n",
       "      <td>3849479.05</td>\n",
       "    </tr>\n",
       "    <tr>\n",
       "      <th>Property</th>\n",
       "      <td>685473.43</td>\n",
       "    </tr>\n",
       "    <tr>\n",
       "      <th>Retail</th>\n",
       "      <td>963206.73</td>\n",
       "    </tr>\n",
       "    <tr>\n",
       "      <th>Telecommunications</th>\n",
       "      <td>186662.44</td>\n",
       "    </tr>\n",
       "  </tbody>\n",
       "</table>\n",
       "</div>"
      ],
      "text/plain": [
       "                           Profit\n",
       "job_industry_category            \n",
       "Argiculture             300566.24\n",
       "Entertainment           380207.91\n",
       "Financial Services     2092189.00\n",
       "Health                 1611177.33\n",
       "IT                      372140.03\n",
       "Manufacturing          3849479.05\n",
       "Property                685473.43\n",
       "Retail                  963206.73\n",
       "Telecommunications      186662.44"
      ]
     },
     "execution_count": 151,
     "metadata": {},
     "output_type": "execute_result"
    }
   ],
   "source": [
    "ind_profit = pd.pivot_table(new_table, index='job_industry_category', values='Profit', aggfunc='sum')\n",
    "ind_profit"
   ]
  },
  {
   "cell_type": "code",
   "execution_count": 153,
   "id": "a764cd88",
   "metadata": {},
   "outputs": [
    {
     "data": {
      "image/png": "[encoded data removed]",
      "text/plain": [
       "<Figure size 1080x360 with 1 Axes>"
      ]
     },
     "metadata": {
      "needs_background": "light"
     },
     "output_type": "display_data"
    }
   ],
   "source": [
    "plt.figure(figsize=(15,5))\n",
    "sns.barplot(data=ind_profit, x=ind_profit.index,y='Profit',palette = 'plasma')\n",
    "plt.xlabel('Job Industry')\n",
    "plt.ylabel('Profits')\n",
    "plt.title('Profits Based on Industry')\n",
    "plt.show()"
   ]
  },
  {
   "cell_type": "markdown",
   "id": "dc81a86b",
   "metadata": {},
   "source": [
    "Inference - Very clearly Manufacturing, Financial Servies and Healthcare are the industries which drive maximum profits for us. And, industries like agriculture, entertainment make the least profits."
   ]
  },
  {
   "cell_type": "markdown",
   "id": "8686315d",
   "metadata": {},
   "source": [
    "## 3. Bike related purchases Based on Industry"
   ]
  },
  {
   "cell_type": "code",
   "execution_count": 154,
   "id": "1fc4570f",
   "metadata": {},
   "outputs": [
    {
     "data": {
      "text/html": [
       "<div>\n",
       "<style scoped>\n",
       "    .dataframe tbody tr th:only-of-type {\n",
       "        vertical-align: middle;\n",
       "    }\n",
       "\n",
       "    .dataframe tbody tr th {\n",
       "        vertical-align: top;\n",
       "    }\n",
       "\n",
       "    .dataframe thead th {\n",
       "        text-align: right;\n",
       "    }\n",
       "</style>\n",
       "<table border=\"1\" class=\"dataframe\">\n",
       "  <thead>\n",
       "    <tr style=\"text-align: right;\">\n",
       "      <th></th>\n",
       "      <th>past_3_years_bike_related_purchases</th>\n",
       "    </tr>\n",
       "    <tr>\n",
       "      <th>job_industry_category</th>\n",
       "      <th></th>\n",
       "    </tr>\n",
       "  </thead>\n",
       "  <tbody>\n",
       "    <tr>\n",
       "      <th>Argiculture</th>\n",
       "      <td>559</td>\n",
       "    </tr>\n",
       "    <tr>\n",
       "      <th>Entertainment</th>\n",
       "      <td>686</td>\n",
       "    </tr>\n",
       "    <tr>\n",
       "      <th>Financial Services</th>\n",
       "      <td>3731</td>\n",
       "    </tr>\n",
       "    <tr>\n",
       "      <th>Health</th>\n",
       "      <td>2984</td>\n",
       "    </tr>\n",
       "    <tr>\n",
       "      <th>IT</th>\n",
       "      <td>686</td>\n",
       "    </tr>\n",
       "    <tr>\n",
       "      <th>Manufacturing</th>\n",
       "      <td>7012</td>\n",
       "    </tr>\n",
       "    <tr>\n",
       "      <th>Property</th>\n",
       "      <td>1251</td>\n",
       "    </tr>\n",
       "    <tr>\n",
       "      <th>Retail</th>\n",
       "      <td>1718</td>\n",
       "    </tr>\n",
       "    <tr>\n",
       "      <th>Telecommunications</th>\n",
       "      <td>351</td>\n",
       "    </tr>\n",
       "  </tbody>\n",
       "</table>\n",
       "</div>"
      ],
      "text/plain": [
       "                       past_3_years_bike_related_purchases\n",
       "job_industry_category                                     \n",
       "Argiculture                                            559\n",
       "Entertainment                                          686\n",
       "Financial Services                                    3731\n",
       "Health                                                2984\n",
       "IT                                                     686\n",
       "Manufacturing                                         7012\n",
       "Property                                              1251\n",
       "Retail                                                1718\n",
       "Telecommunications                                     351"
      ]
     },
     "execution_count": 154,
     "metadata": {},
     "output_type": "execute_result"
    }
   ],
   "source": [
    "bike_industry = pd.pivot_table(new_table, index='job_industry_category', values='past_3_years_bike_related_purchases',aggfunc='count')\n",
    "bike_industry"
   ]
  },
  {
   "cell_type": "code",
   "execution_count": 155,
   "id": "11e85ddb",
   "metadata": {},
   "outputs": [
    {
     "data": {
      "image/png": "[encoded data removed]",
      "text/plain": [
       "<Figure size 1080x288 with 1 Axes>"
      ]
     },
     "metadata": {
      "needs_background": "light"
     },
     "output_type": "display_data"
    }
   ],
   "source": [
    "plt.figure(figsize=(15,4))\n",
    "sns.barplot(data=bike_industry, x=bike_industry.index,y='past_3_years_bike_related_purchases', palette = 'plasma')\n",
    "plt.xlabel('Job Industry')\n",
    "plt.ylabel('Bike Related Purchases')\n",
    "plt.title('Bike Related Purchases Based on Industry')\n",
    "plt.show()"
   ]
  },
  {
   "cell_type": "markdown",
   "id": "e25660c2",
   "metadata": {},
   "source": [
    "Inference - From the above, have seen that our sales to turn into revenues. So, there seems to be no problem with our costs, seeling prices etc. If we sell more, we are likely to generate more profits also."
   ]
  },
  {
   "cell_type": "markdown",
   "id": "3d496df4",
   "metadata": {},
   "source": [
    "## 4.Wealth Segments and Age"
   ]
  },
  {
   "cell_type": "code",
   "execution_count": 156,
   "id": "4f40effe",
   "metadata": {},
   "outputs": [
    {
     "data": {
      "text/html": [
       "<div>\n",
       "<style scoped>\n",
       "    .dataframe tbody tr th:only-of-type {\n",
       "        vertical-align: middle;\n",
       "    }\n",
       "\n",
       "    .dataframe tbody tr th {\n",
       "        vertical-align: top;\n",
       "    }\n",
       "\n",
       "    .dataframe thead th {\n",
       "        text-align: right;\n",
       "    }\n",
       "</style>\n",
       "<table border=\"1\" class=\"dataframe\">\n",
       "  <thead>\n",
       "    <tr style=\"text-align: right;\">\n",
       "      <th></th>\n",
       "      <th>Profit</th>\n",
       "    </tr>\n",
       "    <tr>\n",
       "      <th>Age</th>\n",
       "      <th></th>\n",
       "    </tr>\n",
       "  </thead>\n",
       "  <tbody>\n",
       "    <tr>\n",
       "      <th>22.0</th>\n",
       "      <td>542.422313</td>\n",
       "    </tr>\n",
       "    <tr>\n",
       "      <th>23.0</th>\n",
       "      <td>591.267337</td>\n",
       "    </tr>\n",
       "    <tr>\n",
       "      <th>24.0</th>\n",
       "      <td>592.209242</td>\n",
       "    </tr>\n",
       "    <tr>\n",
       "      <th>25.0</th>\n",
       "      <td>548.988065</td>\n",
       "    </tr>\n",
       "    <tr>\n",
       "      <th>26.0</th>\n",
       "      <td>523.782975</td>\n",
       "    </tr>\n",
       "  </tbody>\n",
       "</table>\n",
       "</div>"
      ],
      "text/plain": [
       "          Profit\n",
       "Age             \n",
       "22.0  542.422313\n",
       "23.0  591.267337\n",
       "24.0  592.209242\n",
       "25.0  548.988065\n",
       "26.0  523.782975"
      ]
     },
     "execution_count": 156,
     "metadata": {},
     "output_type": "execute_result"
    }
   ],
   "source": [
    "age_demo = pd.pivot_table(new_table, index = 'Age', values = ['Profit'])\n",
    "age_demo.head()"
   ]
  },
  {
   "cell_type": "code",
   "execution_count": 157,
   "id": "8141ad3d",
   "metadata": {},
   "outputs": [],
   "source": [
    "bins = np.arange(18,100,10)\n",
    "\n",
    "age_demo['age_bin'] = pd.cut(age_demo.index, bins=bins)\n",
    "profit_by_age = age_demo.groupby('age_bin')['Profit'].sum(_"
   ]
  },
  {
   "cell_type": "code",
   "execution_count": 158,
   "id": "b347c26f",
   "metadata": {},
   "outputs": [
    {
     "data": {
      "image/png": "[encoded data removed]",
      "text/plain": [
       "<Figure size 1368x432 with 1 Axes>"
      ]
     },
     "metadata": {
      "needs_background": "light"
     },
     "output_type": "display_data"
    }
   ],
   "source": [
    "plt.figure(figsize=(19,6))\n",
    "sns.barplot(data = age_demo, x=profit_by_age.index.astype(str), y=profit_by_age)\n",
    "\n",
    "plt.xlabel('Age Intervals')\n",
    "plt.ylabel('Total Profit')\n",
    "plt.title('Total Profit by Age')\n",
    "plt.show()"
   ]
  },
  {
   "cell_type": "code",
   "execution_count": 159,
   "id": "a897b02f",
   "metadata": {},
   "outputs": [
    {
     "data": {
      "text/plain": [
       "wealth_segment\n",
       "Affluent Customer    4627\n",
       "High Net Worth       4843\n",
       "Mass Customer        9508\n",
       "dtype: int64"
      ]
     },
     "execution_count": 159,
     "metadata": {},
     "output_type": "execute_result"
    }
   ],
   "source": [
    "wealth_seg = new_table.groupby(by='wealth_segment').size().sort_values()\n",
    "wealth_seg"
   ]
  },
  {
   "cell_type": "code",
   "execution_count": 160,
   "id": "84c46f49",
   "metadata": {},
   "outputs": [
    {
     "data": {
      "image/png": "[encoded data removed]",
      "text/plain": [
       "<Figure size 576x288 with 1 Axes>"
      ]
     },
     "metadata": {
      "needs_background": "light"
     },
     "output_type": "display_data"
    }
   ],
   "source": [
    "plt.figure(figsize=(8,4))\n",
    "wealth_seg.plot(kind='bar')\n",
    "plt.xlabel('Wealth Segment')\n",
    "plt.ylabel('Number of Customers')\n",
    "plt.title('Number of Customers from each Wealth Segment')\n",
    "plt.show()"
   ]
  },
  {
   "cell_type": "markdown",
   "id": "15e7770f",
   "metadata": {},
   "source": [
    "## 5. Car owned in different states"
   ]
  },
  {
   "cell_type": "code",
   "execution_count": 162,
   "id": "536d7392",
   "metadata": {},
   "outputs": [
    {
     "data": {
      "text/html": [
       "<div>\n",
       "<style scoped>\n",
       "    .dataframe tbody tr th:only-of-type {\n",
       "        vertical-align: middle;\n",
       "    }\n",
       "\n",
       "    .dataframe tbody tr th {\n",
       "        vertical-align: top;\n",
       "    }\n",
       "\n",
       "    .dataframe thead th {\n",
       "        text-align: right;\n",
       "    }\n",
       "</style>\n",
       "<table border=\"1\" class=\"dataframe\">\n",
       "  <thead>\n",
       "    <tr style=\"text-align: right;\">\n",
       "      <th>owns_car</th>\n",
       "      <th>No</th>\n",
       "      <th>Yes</th>\n",
       "    </tr>\n",
       "    <tr>\n",
       "      <th>state</th>\n",
       "      <th></th>\n",
       "      <th></th>\n",
       "    </tr>\n",
       "  </thead>\n",
       "  <tbody>\n",
       "    <tr>\n",
       "      <th>New South Wales</th>\n",
       "      <td>4924</td>\n",
       "      <td>5201</td>\n",
       "    </tr>\n",
       "    <tr>\n",
       "      <th>QLD</th>\n",
       "      <td>2043</td>\n",
       "      <td>2022</td>\n",
       "    </tr>\n",
       "    <tr>\n",
       "      <th>Victoria</th>\n",
       "      <td>2483</td>\n",
       "      <td>2305</td>\n",
       "    </tr>\n",
       "  </tbody>\n",
       "</table>\n",
       "</div>"
      ],
      "text/plain": [
       "owns_car           No   Yes\n",
       "state                      \n",
       "New South Wales  4924  5201\n",
       "QLD              2043  2022\n",
       "Victoria         2483  2305"
      ]
     },
     "execution_count": 162,
     "metadata": {},
     "output_type": "execute_result"
    }
   ],
   "source": [
    "car = pd.pivot_table(new_table, index=['state'],columns='owns_car',values=['customer_id'],aggfunc='count')\n",
    "car.columns = car.columns.droplevel()\n",
    "car = car.rename(columns={'no':'owns_no', 'yes':'owns_yes'})\n",
    "car"
   ]
  },
  {
   "cell_type": "code",
   "execution_count": 163,
   "id": "98d5695d",
   "metadata": {},
   "outputs": [
    {
     "data": {
      "image/png": "[encoded data removed]",
      "text/plain": [
       "<Figure size 576x216 with 1 Axes>"
      ]
     },
     "metadata": {
      "needs_background": "light"
     },
     "output_type": "display_data"
    }
   ],
   "source": [
    "car.plot(kind='bar', figsize=(8,3))\n",
    "plt.xlabel('State')\n",
    "plt.ylabel('Number of Cars')\n",
    "plt.title('Number of Cars in Each State')\n",
    "plt.show()"
   ]
  },
  {
   "cell_type": "markdown",
   "id": "dd6a3967",
   "metadata": {},
   "source": [
    "Inference - We can see that New South Wales is has a potential market."
   ]
  },
  {
   "cell_type": "markdown",
   "id": "9f258eb1",
   "metadata": {},
   "source": [
    "## 6.Bike related purchases based on state"
   ]
  },
  {
   "cell_type": "code",
   "execution_count": 164,
   "id": "7be5d32b",
   "metadata": {},
   "outputs": [
    {
     "data": {
      "text/html": [
       "<div>\n",
       "<style scoped>\n",
       "    .dataframe tbody tr th:only-of-type {\n",
       "        vertical-align: middle;\n",
       "    }\n",
       "\n",
       "    .dataframe tbody tr th {\n",
       "        vertical-align: top;\n",
       "    }\n",
       "\n",
       "    .dataframe thead th {\n",
       "        text-align: right;\n",
       "    }\n",
       "</style>\n",
       "<table border=\"1\" class=\"dataframe\">\n",
       "  <thead>\n",
       "    <tr style=\"text-align: right;\">\n",
       "      <th></th>\n",
       "      <th>past_3_years_bike_related_purchases</th>\n",
       "    </tr>\n",
       "    <tr>\n",
       "      <th>state</th>\n",
       "      <th></th>\n",
       "    </tr>\n",
       "  </thead>\n",
       "  <tbody>\n",
       "    <tr>\n",
       "      <th>New South Wales</th>\n",
       "      <td>10125</td>\n",
       "    </tr>\n",
       "    <tr>\n",
       "      <th>QLD</th>\n",
       "      <td>4065</td>\n",
       "    </tr>\n",
       "    <tr>\n",
       "      <th>Victoria</th>\n",
       "      <td>4788</td>\n",
       "    </tr>\n",
       "  </tbody>\n",
       "</table>\n",
       "</div>"
      ],
      "text/plain": [
       "                 past_3_years_bike_related_purchases\n",
       "state                                               \n",
       "New South Wales                                10125\n",
       "QLD                                             4065\n",
       "Victoria                                        4788"
      ]
     },
     "execution_count": 164,
     "metadata": {},
     "output_type": "execute_result"
    }
   ],
   "source": [
    "bike_state = pd.pivot_table(new_table, index='state', values='past_3_years_bike_related_purchases',aggfunc='count')\n",
    "bike_state"
   ]
  },
  {
   "cell_type": "code",
   "execution_count": 165,
   "id": "58be4b0e",
   "metadata": {},
   "outputs": [
    {
     "data": {
      "image/png": "[encoded data removed]",
      "text/plain": [
       "<Figure size 576x288 with 1 Axes>"
      ]
     },
     "metadata": {
      "needs_background": "light"
     },
     "output_type": "display_data"
    }
   ],
   "source": [
    "plt.figure(figsize=(8,4))\n",
    "sns.barplot(data = bike_state, x=bike_state.index, y='past_3_years_bike_related_purchases')\n",
    "plt.title('Purchases by State')\n",
    "plt.xlabel('State')\n",
    "plt.ylabel('past_3_years_purchases')\n",
    "plt.show()"
   ]
  },
  {
   "cell_type": "markdown",
   "id": "91a9ed67",
   "metadata": {},
   "source": [
    "## 7. Bike related purchases based on gender"
   ]
  },
  {
   "cell_type": "code",
   "execution_count": 166,
   "id": "7b836594",
   "metadata": {},
   "outputs": [
    {
     "data": {
      "text/html": [
       "<div>\n",
       "<style scoped>\n",
       "    .dataframe tbody tr th:only-of-type {\n",
       "        vertical-align: middle;\n",
       "    }\n",
       "\n",
       "    .dataframe tbody tr th {\n",
       "        vertical-align: top;\n",
       "    }\n",
       "\n",
       "    .dataframe thead th {\n",
       "        text-align: right;\n",
       "    }\n",
       "</style>\n",
       "<table border=\"1\" class=\"dataframe\">\n",
       "  <thead>\n",
       "    <tr style=\"text-align: right;\">\n",
       "      <th></th>\n",
       "      <th>past_3_years_bike_related_purchases</th>\n",
       "    </tr>\n",
       "    <tr>\n",
       "      <th>gender</th>\n",
       "      <th></th>\n",
       "    </tr>\n",
       "  </thead>\n",
       "  <tbody>\n",
       "    <tr>\n",
       "      <th>Female</th>\n",
       "      <td>9728</td>\n",
       "    </tr>\n",
       "    <tr>\n",
       "      <th>Male</th>\n",
       "      <td>9242</td>\n",
       "    </tr>\n",
       "    <tr>\n",
       "      <th>U</th>\n",
       "      <td>8</td>\n",
       "    </tr>\n",
       "  </tbody>\n",
       "</table>\n",
       "</div>"
      ],
      "text/plain": [
       "        past_3_years_bike_related_purchases\n",
       "gender                                     \n",
       "Female                                 9728\n",
       "Male                                   9242\n",
       "U                                         8"
      ]
     },
     "execution_count": 166,
     "metadata": {},
     "output_type": "execute_result"
    }
   ],
   "source": [
    "bike_gender = pd.pivot_table(new_table, index='gender', values='past_3_years_bike_related_purchases',aggfunc='count')\n",
    "bike_gender"
   ]
  },
  {
   "cell_type": "code",
   "execution_count": 167,
   "id": "3a675191",
   "metadata": {},
   "outputs": [
    {
     "data": {
      "image/png": "[encoded data removed]",
      "text/plain": [
       "<Figure size 432x288 with 1 Axes>"
      ]
     },
     "metadata": {
      "needs_background": "light"
     },
     "output_type": "display_data"
    }
   ],
   "source": [
    "sns.barplot(data = bike_gender, x=bike_gender.index, y='past_3_years_bike_related_purchases')\n",
    "plt.title('Purchases by Gender')\n",
    "plt.xlabel('Gender')\n",
    "plt.ylabel('past_3_years_purchases')\n",
    "plt.show()"
   ]
  },
  {
   "cell_type": "markdown",
   "id": "d0f2f5de",
   "metadata": {},
   "source": [
    "## Summary Observations:\n",
    "\n",
    "1. **Age Influence**: Contrary to our initial assumptions, customers aged between 28 and 68 made the most purchases. This age group represents a significant portion of our customer base.\n",
    "\n",
    "2. **Gender Neutrality**: Gender did not exhibit a substantial impact on purchase behavior. Both males and females showed a similar propensity to make purchases, with no significant differences observed.\n",
    "\n",
    "3. **Industry Insights**: The Manufacturing, Financial Services, and Healthcare sectors stood out as the primary sources of our customer base. These industries accounted for a substantial number of our customers and showed a higher likelihood of making purchases.\n",
    "\n",
    "In light of these observations, it is recommended that the firm focuses its expansion efforts on targeting customers within the age range of 28 to 68, irrespective of gender. Additionally, exploring the market potential in New South Wales presents an appealing opportunity, although a comprehensive analysis is advised before taking action. Furthermore, it is essential to conduct a thorough examination of the factors contributing to the lower purchase rates in other industries to devise strategies for converting them into potential customers."
   ]
  },
  {
   "cell_type": "markdown",
   "id": "1ca667d6",
   "metadata": {},
   "source": [
    "### Customers that the firm should Target"
   ]
  },
  {
   "cell_type": "code",
   "execution_count": 168,
   "id": "69775c59",
   "metadata": {},
   "outputs": [
    {
     "data": {
      "text/html": [
       "<div>\n",
       "<style scoped>\n",
       "    .dataframe tbody tr th:only-of-type {\n",
       "        vertical-align: middle;\n",
       "    }\n",
       "\n",
       "    .dataframe tbody tr th {\n",
       "        vertical-align: top;\n",
       "    }\n",
       "\n",
       "    .dataframe thead th {\n",
       "        text-align: right;\n",
       "    }\n",
       "</style>\n",
       "<table border=\"1\" class=\"dataframe\">\n",
       "  <thead>\n",
       "    <tr style=\"text-align: right;\">\n",
       "      <th></th>\n",
       "      <th>first_name</th>\n",
       "      <th>last_name</th>\n",
       "      <th>gender</th>\n",
       "      <th>past_3_years_bike_related_purchases</th>\n",
       "      <th>DOB</th>\n",
       "      <th>job_title</th>\n",
       "      <th>job_industry_category</th>\n",
       "      <th>wealth_segment</th>\n",
       "      <th>deceased_indicator</th>\n",
       "      <th>owns_car</th>\n",
       "      <th>tenure</th>\n",
       "      <th>address</th>\n",
       "      <th>postcode</th>\n",
       "      <th>state</th>\n",
       "      <th>country</th>\n",
       "      <th>property_valuation</th>\n",
       "      <th>Rank</th>\n",
       "      <th>Value</th>\n",
       "    </tr>\n",
       "  </thead>\n",
       "  <tbody>\n",
       "    <tr>\n",
       "      <th>0</th>\n",
       "      <td>Chickie</td>\n",
       "      <td>Brister</td>\n",
       "      <td>Male</td>\n",
       "      <td>86</td>\n",
       "      <td>1957-07-12</td>\n",
       "      <td>General Manager</td>\n",
       "      <td>Manufacturing</td>\n",
       "      <td>Mass Customer</td>\n",
       "      <td>N</td>\n",
       "      <td>Yes</td>\n",
       "      <td>14</td>\n",
       "      <td>45 Shopko Center</td>\n",
       "      <td>4500</td>\n",
       "      <td>QLD</td>\n",
       "      <td>Australia</td>\n",
       "      <td>6</td>\n",
       "      <td>1</td>\n",
       "      <td>1.718750</td>\n",
       "    </tr>\n",
       "    <tr>\n",
       "      <th>1</th>\n",
       "      <td>Morly</td>\n",
       "      <td>Genery</td>\n",
       "      <td>Male</td>\n",
       "      <td>69</td>\n",
       "      <td>1970-03-22</td>\n",
       "      <td>Structural Engineer</td>\n",
       "      <td>Property</td>\n",
       "      <td>Mass Customer</td>\n",
       "      <td>N</td>\n",
       "      <td>No</td>\n",
       "      <td>16</td>\n",
       "      <td>14 Mccormick Park</td>\n",
       "      <td>2113</td>\n",
       "      <td>NSW</td>\n",
       "      <td>Australia</td>\n",
       "      <td>11</td>\n",
       "      <td>1</td>\n",
       "      <td>1.718750</td>\n",
       "    </tr>\n",
       "    <tr>\n",
       "      <th>2</th>\n",
       "      <td>Ardelis</td>\n",
       "      <td>Forrester</td>\n",
       "      <td>Female</td>\n",
       "      <td>10</td>\n",
       "      <td>1974-08-28 00:00:00</td>\n",
       "      <td>Senior Cost Accountant</td>\n",
       "      <td>Financial Services</td>\n",
       "      <td>Affluent Customer</td>\n",
       "      <td>N</td>\n",
       "      <td>No</td>\n",
       "      <td>10</td>\n",
       "      <td>5 Colorado Crossing</td>\n",
       "      <td>3505</td>\n",
       "      <td>VIC</td>\n",
       "      <td>Australia</td>\n",
       "      <td>5</td>\n",
       "      <td>1</td>\n",
       "      <td>1.718750</td>\n",
       "    </tr>\n",
       "    <tr>\n",
       "      <th>3</th>\n",
       "      <td>Lucine</td>\n",
       "      <td>Stutt</td>\n",
       "      <td>Female</td>\n",
       "      <td>64</td>\n",
       "      <td>1979-01-28</td>\n",
       "      <td>Account Representative III</td>\n",
       "      <td>Manufacturing</td>\n",
       "      <td>Affluent Customer</td>\n",
       "      <td>N</td>\n",
       "      <td>Yes</td>\n",
       "      <td>5</td>\n",
       "      <td>207 Annamark Plaza</td>\n",
       "      <td>4814</td>\n",
       "      <td>QLD</td>\n",
       "      <td>Australia</td>\n",
       "      <td>1</td>\n",
       "      <td>4</td>\n",
       "      <td>1.703125</td>\n",
       "    </tr>\n",
       "    <tr>\n",
       "      <th>4</th>\n",
       "      <td>Melinda</td>\n",
       "      <td>Hadlee</td>\n",
       "      <td>Female</td>\n",
       "      <td>34</td>\n",
       "      <td>1965-09-21</td>\n",
       "      <td>Financial Analyst</td>\n",
       "      <td>Financial Services</td>\n",
       "      <td>Affluent Customer</td>\n",
       "      <td>N</td>\n",
       "      <td>No</td>\n",
       "      <td>19</td>\n",
       "      <td>115 Montana Place</td>\n",
       "      <td>2093</td>\n",
       "      <td>NSW</td>\n",
       "      <td>Australia</td>\n",
       "      <td>9</td>\n",
       "      <td>4</td>\n",
       "      <td>1.703125</td>\n",
       "    </tr>\n",
       "  </tbody>\n",
       "</table>\n",
       "</div>"
      ],
      "text/plain": [
       "  first_name  last_name  gender  past_3_years_bike_related_purchases  \\\n",
       "0    Chickie    Brister    Male                                   86   \n",
       "1      Morly     Genery    Male                                   69   \n",
       "2    Ardelis  Forrester  Female                                   10   \n",
       "3     Lucine      Stutt  Female                                   64   \n",
       "4    Melinda     Hadlee  Female                                   34   \n",
       "\n",
       "                   DOB                   job_title job_industry_category  \\\n",
       "0           1957-07-12             General Manager         Manufacturing   \n",
       "1           1970-03-22         Structural Engineer              Property   \n",
       "2  1974-08-28 00:00:00      Senior Cost Accountant    Financial Services   \n",
       "3           1979-01-28  Account Representative III         Manufacturing   \n",
       "4           1965-09-21           Financial Analyst    Financial Services   \n",
       "\n",
       "      wealth_segment deceased_indicator owns_car  tenure              address  \\\n",
       "0      Mass Customer                  N      Yes      14     45 Shopko Center   \n",
       "1      Mass Customer                  N       No      16    14 Mccormick Park   \n",
       "2  Affluent Customer                  N       No      10  5 Colorado Crossing   \n",
       "3  Affluent Customer                  N      Yes       5   207 Annamark Plaza   \n",
       "4  Affluent Customer                  N       No      19    115 Montana Place   \n",
       "\n",
       "   postcode state    country  property_valuation  Rank     Value  \n",
       "0      4500   QLD  Australia                   6     1  1.718750  \n",
       "1      2113   NSW  Australia                  11     1  1.718750  \n",
       "2      3505   VIC  Australia                   5     1  1.718750  \n",
       "3      4814   QLD  Australia                   1     4  1.703125  \n",
       "4      2093   NSW  Australia                   9     4  1.703125  "
      ]
     },
     "execution_count": 168,
     "metadata": {},
     "output_type": "execute_result"
    }
   ],
   "source": [
    "newcust.head()"
   ]
  },
  {
   "cell_type": "code",
   "execution_count": 169,
   "id": "de7cf9f1",
   "metadata": {},
   "outputs": [
    {
     "data": {
      "text/html": [
       "<div>\n",
       "<style scoped>\n",
       "    .dataframe tbody tr th:only-of-type {\n",
       "        vertical-align: middle;\n",
       "    }\n",
       "\n",
       "    .dataframe tbody tr th {\n",
       "        vertical-align: top;\n",
       "    }\n",
       "\n",
       "    .dataframe thead th {\n",
       "        text-align: right;\n",
       "    }\n",
       "</style>\n",
       "<table border=\"1\" class=\"dataframe\">\n",
       "  <thead>\n",
       "    <tr style=\"text-align: right;\">\n",
       "      <th></th>\n",
       "      <th>first_name</th>\n",
       "      <th>last_name</th>\n",
       "      <th>gender</th>\n",
       "      <th>past_3_years_bike_related_purchases</th>\n",
       "      <th>DOB</th>\n",
       "      <th>job_title</th>\n",
       "      <th>job_industry_category</th>\n",
       "      <th>wealth_segment</th>\n",
       "      <th>deceased_indicator</th>\n",
       "      <th>owns_car</th>\n",
       "      <th>tenure</th>\n",
       "      <th>address</th>\n",
       "      <th>postcode</th>\n",
       "      <th>state</th>\n",
       "      <th>country</th>\n",
       "      <th>property_valuation</th>\n",
       "      <th>Rank</th>\n",
       "      <th>Value</th>\n",
       "      <th>Age</th>\n",
       "    </tr>\n",
       "  </thead>\n",
       "  <tbody>\n",
       "    <tr>\n",
       "      <th>0</th>\n",
       "      <td>Chickie</td>\n",
       "      <td>Brister</td>\n",
       "      <td>Male</td>\n",
       "      <td>86</td>\n",
       "      <td>1957-07-12</td>\n",
       "      <td>General Manager</td>\n",
       "      <td>Manufacturing</td>\n",
       "      <td>Mass Customer</td>\n",
       "      <td>N</td>\n",
       "      <td>Yes</td>\n",
       "      <td>14</td>\n",
       "      <td>45 Shopko Center</td>\n",
       "      <td>4500</td>\n",
       "      <td>QLD</td>\n",
       "      <td>Australia</td>\n",
       "      <td>6</td>\n",
       "      <td>1</td>\n",
       "      <td>1.718750</td>\n",
       "      <td>66</td>\n",
       "    </tr>\n",
       "    <tr>\n",
       "      <th>1</th>\n",
       "      <td>Morly</td>\n",
       "      <td>Genery</td>\n",
       "      <td>Male</td>\n",
       "      <td>69</td>\n",
       "      <td>1970-03-22</td>\n",
       "      <td>Structural Engineer</td>\n",
       "      <td>Property</td>\n",
       "      <td>Mass Customer</td>\n",
       "      <td>N</td>\n",
       "      <td>No</td>\n",
       "      <td>16</td>\n",
       "      <td>14 Mccormick Park</td>\n",
       "      <td>2113</td>\n",
       "      <td>NSW</td>\n",
       "      <td>Australia</td>\n",
       "      <td>11</td>\n",
       "      <td>1</td>\n",
       "      <td>1.718750</td>\n",
       "      <td>54</td>\n",
       "    </tr>\n",
       "    <tr>\n",
       "      <th>2</th>\n",
       "      <td>Ardelis</td>\n",
       "      <td>Forrester</td>\n",
       "      <td>Female</td>\n",
       "      <td>10</td>\n",
       "      <td>1974-08-28</td>\n",
       "      <td>Senior Cost Accountant</td>\n",
       "      <td>Financial Services</td>\n",
       "      <td>Affluent Customer</td>\n",
       "      <td>N</td>\n",
       "      <td>No</td>\n",
       "      <td>10</td>\n",
       "      <td>5 Colorado Crossing</td>\n",
       "      <td>3505</td>\n",
       "      <td>VIC</td>\n",
       "      <td>Australia</td>\n",
       "      <td>5</td>\n",
       "      <td>1</td>\n",
       "      <td>1.718750</td>\n",
       "      <td>49</td>\n",
       "    </tr>\n",
       "    <tr>\n",
       "      <th>3</th>\n",
       "      <td>Lucine</td>\n",
       "      <td>Stutt</td>\n",
       "      <td>Female</td>\n",
       "      <td>64</td>\n",
       "      <td>1979-01-28</td>\n",
       "      <td>Account Representative III</td>\n",
       "      <td>Manufacturing</td>\n",
       "      <td>Affluent Customer</td>\n",
       "      <td>N</td>\n",
       "      <td>Yes</td>\n",
       "      <td>5</td>\n",
       "      <td>207 Annamark Plaza</td>\n",
       "      <td>4814</td>\n",
       "      <td>QLD</td>\n",
       "      <td>Australia</td>\n",
       "      <td>1</td>\n",
       "      <td>4</td>\n",
       "      <td>1.703125</td>\n",
       "      <td>45</td>\n",
       "    </tr>\n",
       "    <tr>\n",
       "      <th>4</th>\n",
       "      <td>Melinda</td>\n",
       "      <td>Hadlee</td>\n",
       "      <td>Female</td>\n",
       "      <td>34</td>\n",
       "      <td>1965-09-21</td>\n",
       "      <td>Financial Analyst</td>\n",
       "      <td>Financial Services</td>\n",
       "      <td>Affluent Customer</td>\n",
       "      <td>N</td>\n",
       "      <td>No</td>\n",
       "      <td>19</td>\n",
       "      <td>115 Montana Place</td>\n",
       "      <td>2093</td>\n",
       "      <td>NSW</td>\n",
       "      <td>Australia</td>\n",
       "      <td>9</td>\n",
       "      <td>4</td>\n",
       "      <td>1.703125</td>\n",
       "      <td>58</td>\n",
       "    </tr>\n",
       "  </tbody>\n",
       "</table>\n",
       "</div>"
      ],
      "text/plain": [
       "  first_name  last_name  gender  past_3_years_bike_related_purchases  \\\n",
       "0    Chickie    Brister    Male                                   86   \n",
       "1      Morly     Genery    Male                                   69   \n",
       "2    Ardelis  Forrester  Female                                   10   \n",
       "3     Lucine      Stutt  Female                                   64   \n",
       "4    Melinda     Hadlee  Female                                   34   \n",
       "\n",
       "         DOB                   job_title job_industry_category  \\\n",
       "0 1957-07-12             General Manager         Manufacturing   \n",
       "1 1970-03-22         Structural Engineer              Property   \n",
       "2 1974-08-28      Senior Cost Accountant    Financial Services   \n",
       "3 1979-01-28  Account Representative III         Manufacturing   \n",
       "4 1965-09-21           Financial Analyst    Financial Services   \n",
       "\n",
       "      wealth_segment deceased_indicator owns_car  tenure              address  \\\n",
       "0      Mass Customer                  N      Yes      14     45 Shopko Center   \n",
       "1      Mass Customer                  N       No      16    14 Mccormick Park   \n",
       "2  Affluent Customer                  N       No      10  5 Colorado Crossing   \n",
       "3  Affluent Customer                  N      Yes       5   207 Annamark Plaza   \n",
       "4  Affluent Customer                  N       No      19    115 Montana Place   \n",
       "\n",
       "   postcode state    country  property_valuation  Rank     Value  Age  \n",
       "0      4500   QLD  Australia                   6     1  1.718750   66  \n",
       "1      2113   NSW  Australia                  11     1  1.718750   54  \n",
       "2      3505   VIC  Australia                   5     1  1.718750   49  \n",
       "3      4814   QLD  Australia                   1     4  1.703125   45  \n",
       "4      2093   NSW  Australia                   9     4  1.703125   58  "
      ]
     },
     "execution_count": 169,
     "metadata": {},
     "output_type": "execute_result"
    }
   ],
   "source": [
    "# Convert the DOB column to datetime format\n",
    "newcust['DOB'] = pd.to_datetime(newcust['DOB'])\n",
    "\n",
    "# Calculate the age using today's date and the DOB\n",
    "today = pd.Timestamp(date.today())\n",
    "age1 = (today - newcust['DOB']) / pd.Timedelta(days=365)\n",
    "\n",
    "newcust['Age'] = age1.round().astype('Int64')\n",
    "\n",
    "# Print the resulting DataFrame\n",
    "newcust.head()"
   ]
  },
  {
   "cell_type": "code",
   "execution_count": 170,
   "id": "1423cf03",
   "metadata": {},
   "outputs": [
    {
     "data": {
      "text/html": [
       "<div>\n",
       "<style scoped>\n",
       "    .dataframe tbody tr th:only-of-type {\n",
       "        vertical-align: middle;\n",
       "    }\n",
       "\n",
       "    .dataframe tbody tr th {\n",
       "        vertical-align: top;\n",
       "    }\n",
       "\n",
       "    .dataframe thead th {\n",
       "        text-align: right;\n",
       "    }\n",
       "</style>\n",
       "<table border=\"1\" class=\"dataframe\">\n",
       "  <thead>\n",
       "    <tr style=\"text-align: right;\">\n",
       "      <th></th>\n",
       "      <th>first_name</th>\n",
       "      <th>last_name</th>\n",
       "      <th>gender</th>\n",
       "      <th>past_3_years_bike_related_purchases</th>\n",
       "      <th>DOB</th>\n",
       "      <th>job_title</th>\n",
       "      <th>job_industry_category</th>\n",
       "      <th>wealth_segment</th>\n",
       "      <th>deceased_indicator</th>\n",
       "      <th>owns_car</th>\n",
       "      <th>tenure</th>\n",
       "      <th>address</th>\n",
       "      <th>postcode</th>\n",
       "      <th>state</th>\n",
       "      <th>country</th>\n",
       "      <th>property_valuation</th>\n",
       "      <th>Rank</th>\n",
       "      <th>Value</th>\n",
       "      <th>Age</th>\n",
       "    </tr>\n",
       "  </thead>\n",
       "  <tbody>\n",
       "    <tr>\n",
       "      <th>6</th>\n",
       "      <td>Rutledge</td>\n",
       "      <td>Hallt</td>\n",
       "      <td>Male</td>\n",
       "      <td>23</td>\n",
       "      <td>1976-10-06</td>\n",
       "      <td>Compensation Analyst</td>\n",
       "      <td>Financial Services</td>\n",
       "      <td>Mass Customer</td>\n",
       "      <td>N</td>\n",
       "      <td>No</td>\n",
       "      <td>8</td>\n",
       "      <td>7 Nevada Crossing</td>\n",
       "      <td>2620</td>\n",
       "      <td>NSW</td>\n",
       "      <td>Australia</td>\n",
       "      <td>7</td>\n",
       "      <td>6</td>\n",
       "      <td>1.671875</td>\n",
       "      <td>47</td>\n",
       "    </tr>\n",
       "    <tr>\n",
       "      <th>8</th>\n",
       "      <td>Duff</td>\n",
       "      <td>Karlowicz</td>\n",
       "      <td>Male</td>\n",
       "      <td>50</td>\n",
       "      <td>1972-04-28</td>\n",
       "      <td>Speech Pathologist</td>\n",
       "      <td>Manufacturing</td>\n",
       "      <td>Mass Customer</td>\n",
       "      <td>N</td>\n",
       "      <td>Yes</td>\n",
       "      <td>5</td>\n",
       "      <td>717 West Drive</td>\n",
       "      <td>2200</td>\n",
       "      <td>NSW</td>\n",
       "      <td>Australia</td>\n",
       "      <td>10</td>\n",
       "      <td>8</td>\n",
       "      <td>1.656250</td>\n",
       "      <td>51</td>\n",
       "    </tr>\n",
       "    <tr>\n",
       "      <th>13</th>\n",
       "      <td>Melba</td>\n",
       "      <td>Spellacy</td>\n",
       "      <td>Female</td>\n",
       "      <td>38</td>\n",
       "      <td>1976-12-09</td>\n",
       "      <td>VP Marketing</td>\n",
       "      <td>Health</td>\n",
       "      <td>Mass Customer</td>\n",
       "      <td>N</td>\n",
       "      <td>No</td>\n",
       "      <td>4</td>\n",
       "      <td>0591 Anzinger Circle</td>\n",
       "      <td>2232</td>\n",
       "      <td>NSW</td>\n",
       "      <td>Australia</td>\n",
       "      <td>10</td>\n",
       "      <td>14</td>\n",
       "      <td>1.593750</td>\n",
       "      <td>47</td>\n",
       "    </tr>\n",
       "    <tr>\n",
       "      <th>20</th>\n",
       "      <td>Teddie</td>\n",
       "      <td>Burchill</td>\n",
       "      <td>Male</td>\n",
       "      <td>11</td>\n",
       "      <td>1968-12-21</td>\n",
       "      <td>Programmer I</td>\n",
       "      <td>Manufacturing</td>\n",
       "      <td>Mass Customer</td>\n",
       "      <td>N</td>\n",
       "      <td>Yes</td>\n",
       "      <td>13</td>\n",
       "      <td>321 Raven Plaza</td>\n",
       "      <td>2161</td>\n",
       "      <td>NSW</td>\n",
       "      <td>Australia</td>\n",
       "      <td>9</td>\n",
       "      <td>21</td>\n",
       "      <td>1.515625</td>\n",
       "      <td>55</td>\n",
       "    </tr>\n",
       "    <tr>\n",
       "      <th>21</th>\n",
       "      <td>Gaston</td>\n",
       "      <td>Dallaghan</td>\n",
       "      <td>Male</td>\n",
       "      <td>44</td>\n",
       "      <td>1993-09-29</td>\n",
       "      <td>Financial Analyst</td>\n",
       "      <td>Financial Services</td>\n",
       "      <td>Mass Customer</td>\n",
       "      <td>N</td>\n",
       "      <td>Yes</td>\n",
       "      <td>8</td>\n",
       "      <td>656 Fuller Street</td>\n",
       "      <td>2783</td>\n",
       "      <td>NSW</td>\n",
       "      <td>Australia</td>\n",
       "      <td>7</td>\n",
       "      <td>21</td>\n",
       "      <td>1.515625</td>\n",
       "      <td>30</td>\n",
       "    </tr>\n",
       "    <tr>\n",
       "      <th>...</th>\n",
       "      <td>...</td>\n",
       "      <td>...</td>\n",
       "      <td>...</td>\n",
       "      <td>...</td>\n",
       "      <td>...</td>\n",
       "      <td>...</td>\n",
       "      <td>...</td>\n",
       "      <td>...</td>\n",
       "      <td>...</td>\n",
       "      <td>...</td>\n",
       "      <td>...</td>\n",
       "      <td>...</td>\n",
       "      <td>...</td>\n",
       "      <td>...</td>\n",
       "      <td>...</td>\n",
       "      <td>...</td>\n",
       "      <td>...</td>\n",
       "      <td>...</td>\n",
       "      <td>...</td>\n",
       "    </tr>\n",
       "    <tr>\n",
       "      <th>924</th>\n",
       "      <td>Lezlie</td>\n",
       "      <td>Clemits</td>\n",
       "      <td>Female</td>\n",
       "      <td>2</td>\n",
       "      <td>1973-05-30</td>\n",
       "      <td>Senior Cost Accountant</td>\n",
       "      <td>Financial Services</td>\n",
       "      <td>Mass Customer</td>\n",
       "      <td>N</td>\n",
       "      <td>Yes</td>\n",
       "      <td>15</td>\n",
       "      <td>0504 Nevada Drive</td>\n",
       "      <td>2155</td>\n",
       "      <td>NSW</td>\n",
       "      <td>Australia</td>\n",
       "      <td>10</td>\n",
       "      <td>924</td>\n",
       "      <td>0.488750</td>\n",
       "      <td>50</td>\n",
       "    </tr>\n",
       "    <tr>\n",
       "      <th>953</th>\n",
       "      <td>Noami</td>\n",
       "      <td>Cokly</td>\n",
       "      <td>Female</td>\n",
       "      <td>74</td>\n",
       "      <td>1962-09-17</td>\n",
       "      <td>NaN</td>\n",
       "      <td>Manufacturing</td>\n",
       "      <td>Mass Customer</td>\n",
       "      <td>N</td>\n",
       "      <td>Yes</td>\n",
       "      <td>15</td>\n",
       "      <td>2886 Buena Vista Terrace</td>\n",
       "      <td>2038</td>\n",
       "      <td>NSW</td>\n",
       "      <td>Australia</td>\n",
       "      <td>11</td>\n",
       "      <td>954</td>\n",
       "      <td>0.450000</td>\n",
       "      <td>61</td>\n",
       "    </tr>\n",
       "    <tr>\n",
       "      <th>960</th>\n",
       "      <td>Sonia</td>\n",
       "      <td>Dunstall</td>\n",
       "      <td>Female</td>\n",
       "      <td>0</td>\n",
       "      <td>1975-07-30</td>\n",
       "      <td>Accountant III</td>\n",
       "      <td>Financial Services</td>\n",
       "      <td>Mass Customer</td>\n",
       "      <td>N</td>\n",
       "      <td>No</td>\n",
       "      <td>10</td>\n",
       "      <td>99 Park Meadow Hill</td>\n",
       "      <td>2570</td>\n",
       "      <td>NSW</td>\n",
       "      <td>Australia</td>\n",
       "      <td>9</td>\n",
       "      <td>960</td>\n",
       "      <td>0.442000</td>\n",
       "      <td>48</td>\n",
       "    </tr>\n",
       "    <tr>\n",
       "      <th>964</th>\n",
       "      <td>Jammie</td>\n",
       "      <td>Seldner</td>\n",
       "      <td>Female</td>\n",
       "      <td>42</td>\n",
       "      <td>1975-02-25</td>\n",
       "      <td>Human Resources Manager</td>\n",
       "      <td>Health</td>\n",
       "      <td>Mass Customer</td>\n",
       "      <td>N</td>\n",
       "      <td>Yes</td>\n",
       "      <td>15</td>\n",
       "      <td>8 Saint Paul Junction</td>\n",
       "      <td>2066</td>\n",
       "      <td>NSW</td>\n",
       "      <td>Australia</td>\n",
       "      <td>10</td>\n",
       "      <td>963</td>\n",
       "      <td>0.440000</td>\n",
       "      <td>49</td>\n",
       "    </tr>\n",
       "    <tr>\n",
       "      <th>993</th>\n",
       "      <td>Weidar</td>\n",
       "      <td>Etheridge</td>\n",
       "      <td>Male</td>\n",
       "      <td>38</td>\n",
       "      <td>1959-07-13</td>\n",
       "      <td>Compensation Analyst</td>\n",
       "      <td>Financial Services</td>\n",
       "      <td>Mass Customer</td>\n",
       "      <td>N</td>\n",
       "      <td>Yes</td>\n",
       "      <td>6</td>\n",
       "      <td>0535 Jay Point</td>\n",
       "      <td>2422</td>\n",
       "      <td>NSW</td>\n",
       "      <td>Australia</td>\n",
       "      <td>4</td>\n",
       "      <td>994</td>\n",
       "      <td>0.382500</td>\n",
       "      <td>64</td>\n",
       "    </tr>\n",
       "  </tbody>\n",
       "</table>\n",
       "<p>99 rows × 19 columns</p>\n",
       "</div>"
      ],
      "text/plain": [
       "    first_name  last_name  gender  past_3_years_bike_related_purchases  \\\n",
       "6     Rutledge      Hallt    Male                                   23   \n",
       "8         Duff  Karlowicz    Male                                   50   \n",
       "13       Melba   Spellacy  Female                                   38   \n",
       "20      Teddie   Burchill    Male                                   11   \n",
       "21      Gaston  Dallaghan    Male                                   44   \n",
       "..         ...        ...     ...                                  ...   \n",
       "924     Lezlie    Clemits  Female                                    2   \n",
       "953      Noami      Cokly  Female                                   74   \n",
       "960      Sonia   Dunstall  Female                                    0   \n",
       "964     Jammie    Seldner  Female                                   42   \n",
       "993     Weidar  Etheridge    Male                                   38   \n",
       "\n",
       "           DOB                job_title job_industry_category wealth_segment  \\\n",
       "6   1976-10-06     Compensation Analyst    Financial Services  Mass Customer   \n",
       "8   1972-04-28       Speech Pathologist         Manufacturing  Mass Customer   \n",
       "13  1976-12-09             VP Marketing                Health  Mass Customer   \n",
       "20  1968-12-21             Programmer I         Manufacturing  Mass Customer   \n",
       "21  1993-09-29        Financial Analyst    Financial Services  Mass Customer   \n",
       "..         ...                      ...                   ...            ...   \n",
       "924 1973-05-30   Senior Cost Accountant    Financial Services  Mass Customer   \n",
       "953 1962-09-17                      NaN         Manufacturing  Mass Customer   \n",
       "960 1975-07-30           Accountant III    Financial Services  Mass Customer   \n",
       "964 1975-02-25  Human Resources Manager                Health  Mass Customer   \n",
       "993 1959-07-13     Compensation Analyst    Financial Services  Mass Customer   \n",
       "\n",
       "    deceased_indicator owns_car  tenure                   address  postcode  \\\n",
       "6                    N       No       8         7 Nevada Crossing      2620   \n",
       "8                    N      Yes       5            717 West Drive      2200   \n",
       "13                   N       No       4      0591 Anzinger Circle      2232   \n",
       "20                   N      Yes      13           321 Raven Plaza      2161   \n",
       "21                   N      Yes       8         656 Fuller Street      2783   \n",
       "..                 ...      ...     ...                       ...       ...   \n",
       "924                  N      Yes      15         0504 Nevada Drive      2155   \n",
       "953                  N      Yes      15  2886 Buena Vista Terrace      2038   \n",
       "960                  N       No      10       99 Park Meadow Hill      2570   \n",
       "964                  N      Yes      15     8 Saint Paul Junction      2066   \n",
       "993                  N      Yes       6            0535 Jay Point      2422   \n",
       "\n",
       "    state    country  property_valuation  Rank     Value  Age  \n",
       "6     NSW  Australia                   7     6  1.671875   47  \n",
       "8     NSW  Australia                  10     8  1.656250   51  \n",
       "13    NSW  Australia                  10    14  1.593750   47  \n",
       "20    NSW  Australia                   9    21  1.515625   55  \n",
       "21    NSW  Australia                   7    21  1.515625   30  \n",
       "..    ...        ...                 ...   ...       ...  ...  \n",
       "924   NSW  Australia                  10   924  0.488750   50  \n",
       "953   NSW  Australia                  11   954  0.450000   61  \n",
       "960   NSW  Australia                   9   960  0.442000   48  \n",
       "964   NSW  Australia                  10   963  0.440000   49  \n",
       "993   NSW  Australia                   4   994  0.382500   64  \n",
       "\n",
       "[99 rows x 19 columns]"
      ]
     },
     "execution_count": 170,
     "metadata": {},
     "output_type": "execute_result"
    }
   ],
   "source": [
    "newcust[(newcust['wealth_segment']=='Mass Customer') & (newcust['Age'] >27) & (newcust['Age'] <69) &\n",
    "       (newcust['job_industry_category'].isin(['Manufacturing','Financial Services','Health']) &\n",
    "        (newcust['state']=='NSW'))]"
   ]
  },
  {
   "cell_type": "markdown",
   "id": "4e516ba9",
   "metadata": {},
   "source": [
    "## We have found out these 99 customers from 1000 new customers that the firm should target in order to derive most value for the organization"
   ]
  }
 ],
 "metadata": {
  "kernelspec": {
   "display_name": "Python 3 (ipykernel)",
   "language": "python",
   "name": "python3"
  },
  "language_info": {
   "codemirror_mode": {
    "name": "ipython",
    "version": 3
   },
   "file_extension": ".py",
   "mimetype": "text/x-python",
   "name": "python",
   "nbconvert_exporter": "python",
   "pygments_lexer": "ipython3",
   "version": "3.9.7"
  }
 },
 "nbformat": 4,
 "nbformat_minor": 5
}
